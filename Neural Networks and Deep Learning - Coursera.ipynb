{
 "cells": [
  {
   "cell_type": "markdown",
   "metadata": {},
   "source": [
    "### Notes for course"
   ]
  },
  {
   "cell_type": "markdown",
   "metadata": {},
   "source": [
    "What is neural network?\n",
    "- simplest neural network - linear regression\n",
    "    - rectified linear unit (relu)\n",
    "- takes one or more features, applies function, returns output\n",
    "- Neural Networks (standard)\n",
    "- Convolutional Neural Networks\n",
    "- Recurrent Neural Networks\n",
    "- Hybrid or Custom\n"
   ]
  },
  {
   "cell_type": "markdown",
   "metadata": {},
   "source": [
    "Supervised learning with Neural Networks:\n",
    "- input (x) -> output (y)\n",
    "- applications:\n",
    "    - real estate - NN\n",
    "    - online advertising - NN\n",
    "    - photo tagging - CNN\n",
    "    - speech recognition - RNN\n",
    "    - machine translation - RNN\n",
    "    - automotive industry, autonomous driving - Hybrid/Custom"
   ]
  },
  {
   "cell_type": "markdown",
   "metadata": {},
   "source": [
    "Structured Data vs Unstructured Data"
   ]
  },
  {
   "cell_type": "markdown",
   "metadata": {},
   "source": [
    "Why is Deep Learning taking off?\n",
    "- scale - more data means better model's performance\n",
    "- the more data you have the bigger should network be"
   ]
  },
  {
   "cell_type": "markdown",
   "metadata": {},
   "source": [
    "(m) - size of dataset"
   ]
  },
  {
   "cell_type": "markdown",
   "metadata": {},
   "source": [
    "Recently we have seen 3 advances:\n",
    "- more data \n",
    "- better computational power\n",
    "- better algorithms - sigmoid function is slower than ReLU due to gradient being close to zero and moving forward slowly for sigmoid"
   ]
  },
  {
   "cell_type": "markdown",
   "metadata": {},
   "source": [
    "Implementing Cycle:\n",
    "- Idea\n",
    "- Code\n",
    "- Experiment  \n",
    "\n",
    "Faster computation has sped up receiving feedback of experiments"
   ]
  },
  {
   "cell_type": "markdown",
   "metadata": {},
   "source": [
    "Binary Classification:\n",
    "- creating feature vector for image\n",
    "- (n) - dimension of input feature vector\n",
    "- (x, y) - x is R^n feature vector, y is 0 or 1\n",
    "- matrix M\n",
    "- vector X - m x n\n",
    "- in python X.shape = (n, m)\n",
    "- vector Y - 1 x m\n",
    "- in python Y.shape = (1, m)\n"
   ]
  },
  {
   "cell_type": "markdown",
   "metadata": {},
   "source": [
    "Logistic Regression:\n",
    "- given input vector x produce y_hat that returns probability that given input vector is classified as 1 \n",
    "- w is weight vector, b is random numbers\n",
    "- y_hat should be between 0 and 1\n",
    "- y_hat is equal to sigmoid function applied to w^tx + b   /(z)\n",
    "- sigmoid = 1/1+e^(-z)\n",
    "- if z is large, sigmoid is going to 1, if it is small or negative sigmoid goes to 0\n",
    "\n"
   ]
  },
  {
   "cell_type": "markdown",
   "metadata": {},
   "source": [
    "Logistic Regression - cost function:\n",
    "\n"
   ]
  },
  {
   "cell_type": "code",
   "execution_count": null,
   "metadata": {},
   "outputs": [],
   "source": []
  }
 ],
 "metadata": {
  "kernelspec": {
   "display_name": "Python 3",
   "language": "python",
   "name": "python3"
  },
  "language_info": {
   "codemirror_mode": {
    "name": "ipython",
    "version": 3
   },
   "file_extension": ".py",
   "mimetype": "text/x-python",
   "name": "python",
   "nbconvert_exporter": "python",
   "pygments_lexer": "ipython3",
   "version": "3.6.5"
  }
 },
 "nbformat": 4,
 "nbformat_minor": 2
}
