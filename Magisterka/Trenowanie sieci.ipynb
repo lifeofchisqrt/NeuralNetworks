{
 "cells": [
  {
   "cell_type": "code",
   "execution_count": 4,
   "metadata": {
    "collapsed": true
   },
   "outputs": [],
   "source": [
    "import numpy as np\n",
    "import pandas as pd\n",
    "from math import exp\n",
    "import matplotlib.pyplot as plt\n",
    "from sklearn.model_selection import train_test_split \n",
    "from sklearn.neural_network import MLPClassifier\n",
    "from sklearn.preprocessing import StandardScaler\n",
    "from sklearn.preprocessing import MinMaxScaler\n",
    "from sklearn.metrics import confusion_matrix, classification_report"
   ]
  },
  {
   "cell_type": "code",
   "execution_count": 5,
   "metadata": {
    "collapsed": true
   },
   "outputs": [],
   "source": [
    "%matplotlib inline"
   ]
  },
  {
   "cell_type": "code",
   "execution_count": 5,
   "metadata": {
    "collapsed": true
   },
   "outputs": [],
   "source": [
    "def parametryTopologii():\n",
    "    '''\n",
    "    Funkcja zwracająca optymalizowane parametry topologii sieci\n",
    "    \n",
    "    '''\n",
    "    \n",
    "    fa = [1, 2, 3] #funkcja aktywacji\n",
    "    lt = [0, 1] # współczynnik uczenia\n",
    "    lr = list(range(1, 1001, 1)) # startowy współczynnik uczenia\n",
    "    hl = list(range(1, 6)) # liczba warstw ukrytych\n",
    "    nn = list(range(1, 129)) # liczba neuronów w warstwie\n",
    "    parametry = {0:fa, 1:lt, 2:lr, 3:hl, 4:nn}\n",
    "\n",
    "    return parametry"
   ]
  },
  {
   "cell_type": "code",
   "execution_count": 6,
   "metadata": {
    "collapsed": true
   },
   "outputs": [],
   "source": [
    "def parametryTopologii():\n",
    "    '''\n",
    "    Funkcja zwracająca optymalizowane parametry topologii sieci\n",
    "    \n",
    "    '''\n",
    "    \n",
    "    fa = [1, 2, 3] #funkcja aktywacji\n",
    "    lt = [0, 1] # współczynnik uczenia\n",
    "    lr = list(range(1, 1001, 1)) # startowy współczynnik uczenia\n",
    "    hl = list(range(1, 6)) # liczba warstw ukrytych\n",
    "    nn = list(range(1, 129)) # liczba neuronów w warstwie\n",
    "    parametry = {0:fa, 1:lt, 2:lr, 3:hl, 4:nn}\n",
    "\n",
    "    return parametry"
   ]
  },
  {
   "cell_type": "code",
   "execution_count": 7,
   "metadata": {
    "collapsed": true
   },
   "outputs": [],
   "source": [
    "\n",
    "def startowaPopulacja(liczebnosc_pop):\n",
    "    '''\n",
    "    Funkcja tworząca startową populacje\n",
    "    \n",
    "    Zwraca:\n",
    "    populacja (dict) - słownik z listami chromosomow\n",
    "    \n",
    "    '''\n",
    "    populacja = {}\n",
    "    #liczebnosc_pop = 10\n",
    "\n",
    "    for j in range(liczebnosc_pop):\n",
    "        ch2 = np.ones(5, dtype=int)\n",
    "        for i in range(5):\n",
    "            ch2[i] = np.random.choice(parametryTopologii()[i])\n",
    "        populacja[j] = ch2\n",
    "    return populacja"
   ]
  },
  {
   "cell_type": "code",
   "execution_count": 8,
   "metadata": {
    "collapsed": true
   },
   "outputs": [],
   "source": [
    "\n",
    "def mutacja(chromosom):\n",
    "    '''\n",
    "    \n",
    "    Funkcja mutacji - zmieniajaca losowo jeden z parametrow chromosomu\n",
    "    Wybiera losowy gen i zastepuje jego wartość dowolną wartość dozwoloną dla tego genu\n",
    "    \n",
    "    Parametry:\n",
    "    - chromosom (list) - wektor reprezentujacy chromosom\n",
    "    \n",
    "    Zwraca:\n",
    "    - m_chromosom (list) - zmutowany chromosom\n",
    "    \n",
    "    '''\n",
    "    \n",
    "    # parametr który ma zostać zmutowany\n",
    "    p = np.random.randint(0, len(chromosom))\n",
    "    m_chromosom = chromosom.copy()\n",
    "    pT = parametryTopologii()[p]\n",
    "    pT.pop(pT.index(m_chromosom[p]))\n",
    "    m_chromosom[p] = np.random.choice(pT)\n",
    "\n",
    "    return m_chromosom"
   ]
  },
  {
   "cell_type": "code",
   "execution_count": 9,
   "metadata": {
    "collapsed": true
   },
   "outputs": [],
   "source": [
    "\n",
    "def siec(chromosom):\n",
    "    '''\n",
    "    \n",
    "    Funkcja tworząca nową sieć na podstawie otrzymanego chromosomu\n",
    "    Parametry:\n",
    "     - chromosom\n",
    "     \n",
    "    Zwraca:\n",
    "     - macierz - macierz błędu\\trafności \n",
    "    \n",
    "    '''\n",
    "    f_aktywacji = {1:'logistic', 2:'tanh', 3:'relu'}\n",
    "    wsp_uczenia = {0:'constant', 1:'invscaling'}\n",
    "    warstwy = tuple(np.ones(chromosom[3], dtype=int)*chromosom[4])\n",
    "    mlp = MLPClassifier(hidden_layer_sizes=warstwy, activation=f_aktywacji[chromosom[0]],\\\n",
    "                        learning_rate=wsp_uczenia[chromosom[1]], solver='sgd', learning_rate_init = 1/(2*chromosom[2])\\\n",
    "                        , random_state=42)\n",
    "    \n",
    "    mlp.fit(X_train_sc, Y_train)\n",
    "    prognoza = mlp.predict(X_test_sc)\n",
    "    macierz = confusion_matrix(Y_test, prognoza)\n",
    "\n",
    "    return macierz\n",
    "    "
   ]
  },
  {
   "cell_type": "code",
   "execution_count": 10,
   "metadata": {
    "collapsed": true
   },
   "outputs": [],
   "source": [
    "# macierz kosztu = [TP, FP, TN, FN]\n",
    "def funkcjaZysku(k):\n",
    "    '''\n",
    "    Funkcja obliczajaca wartosci zysku danej sieci na podstawie macierzy kontyngencji składającej się z:\n",
    "    TruePositive, FalsePositive, TrueNegative, FalseNegative\n",
    "    \n",
    "    Parametry:\n",
    "    k (list) - lista zawierajaca liczbe wartosci każdej z czterech możliwych kombinacji klasyfikacji \n",
    "    \n",
    "    Zwraca:\n",
    "    koszt (float) - liczba rzeczywista określająca zysk związany z danym efektem klasyfikacji\n",
    "    \n",
    "    '''\n",
    "    \n",
    "    cost_matrix = np.array([19.9, -0.1, 0, -20.1])\n",
    "    zysk = np.round(np.dot(k, cost_matrix), 5) \n",
    "\n",
    "    return zysk"
   ]
  },
  {
   "cell_type": "code",
   "execution_count": 11,
   "metadata": {
    "collapsed": true
   },
   "outputs": [],
   "source": [
    "def selekcja(populacja, przystosowanie):\n",
    "    '''\n",
    "    Funkcja selekcji - wybierająca chromosomy do krzyżowania\n",
    "    \n",
    "    Parametry:\n",
    "    - populacja (dict) - słownik z aktualną populacją\n",
    "    - przystosowanie (dict) - słownik z wartościami funkcji przystosowania dla każdego chromosomu w populacji\n",
    "    \n",
    "    Zwraca:\n",
    "    - nowa_populacja (dict) - słownik z nową populacją\n",
    "    \n",
    "    '''\n",
    "    fitness = przystosowanie\n",
    "    mmsc = MinMaxScaler(feature_range=(0,100)).fit_transform(fitness.reshape(-1, 1))\n",
    "    s = sum(mmsc)\n",
    "    mmsc = mmsc/s*100\n",
    "    f_total = []\n",
    "    for m, i in enumerate(mmsc):\n",
    "        for j in range(int(i)):\n",
    "            f_total.append(m)\n",
    "    parents_pool = np.copy(f_total)\n",
    "    nowa_populacja = {}\n",
    "    for j in range(len(populacja)):\n",
    "        # wybieranie losowych rodziców metodą ruletki\n",
    "        father = np.random.choice(parents_pool)\n",
    "        # drugi rodzic nie może być taki sam jak pierwszy\n",
    "        mother = parents_pool[parents_pool!=father]\n",
    "        # jeśli pozostał tylko jeden rodzic w populacji to muszę go wybrać\n",
    "        if len(mother) == 0:\n",
    "            mother = father\n",
    "        else:\n",
    "            mother = np.random.choice(mother)\n",
    "        father = populacja[father]\n",
    "        mother = populacja[mother]\n",
    "        c = np.random.randint(1, len(father))\n",
    "        child = np.concatenate([father[:c], mother[c:]])\n",
    "        # mutacja\n",
    "        mutationPr = 0.25\n",
    "        wsp_mutacji = mutationPr/np.exp(i/10) \n",
    "        m = np.random.random()\n",
    "        if m < wsp_mutacji:\n",
    "            child = mutacja(child)\n",
    "        nowa_populacja[j] = child\n",
    "    \n",
    "    return nowa_populacja"
   ]
  },
  {
   "cell_type": "markdown",
   "metadata": {},
   "source": [
    "Miejsce na zbiór danych po przekształceniach "
   ]
  },
  {
   "cell_type": "code",
   "execution_count": 6,
   "metadata": {
    "collapsed": true
   },
   "outputs": [],
   "source": [
    "dataset = pd.read_csv('msc_dataset.txt',  sep=\"\\t\")\n",
    "df = dataset[['TRX_aff_L12M_COL_PTS', 'TRX_aff_L12M_PUR_AMT', 'TRX_aff_L3M_BASE_PTS',\n",
    "       'TRX_aff_L3M_COL_CNT', 'TRX_aff_L3M_PROMO_PTS', 'TRX_aff_L3M_PUR_AMT',\n",
    "       'ACCT_BAL_MOD_CNT', 'ACCT_TOT_COL_AMT', 'ACCT_UNBLOCKED_POINTS',\n",
    "       'TIME_FROM_ENRL', 'TIME_FROM_FIRST_DT', 'TIME_FROM_LAST_DT',\n",
    "       'CARDA_PAYM_CNT', 'ACCT_PTS_EXPIRED', 'ACCT_PTS_TO_EXPIRE',\n",
    "       'CUST_GFK_POPULATION', 'CUST_GFK_HOUSEHOLDS', 'CUST_HH_SIZE',\n",
    "       'CUST_AGE', 'CUST_GENDER', 'CUST_CA_AAA_FLG', 'CUST_CA_BBB_FLG',\n",
    "       'CUST_CA_CCC_FLG', 'CUST_CA_BBB_KM_CNT', 'CUST_CA_AAA_KM_CNT',\n",
    "       'CUST_CA_CCC_KM_CNT', 'WEB_ALL_UNQ_SES_CNT_L2W',\n",
    "       'WEB_ALL_TIME_SPEND_L2W', 'WEB_ALL_UNQ_SES_CNT_L4W',\n",
    "       'WEB_ALL_TIME_SPEND_L4W', 'WEB_AFF_UNQ_SES_CNT_L2W',\n",
    "       'WEB_AFF_TIME_SPEND_L2W', 'WEB_AFF_UNQ_SES_CNT_L4W',\n",
    "       'WEB_AFF_TIME_SPEND_L4W', 'WEB_HIS_UNQ_SES_CNT_L2W',\n",
    "       'WEB_HIS_TIME_SPEND_L2W', 'WEB_HIS_UNQ_SES_CNT_L4W',\n",
    "       'WEB_HIS_TIME_SPEND_L4W', 'WEB_OCC_UNQ_SES_CNT_L2W',\n",
    "       'WEB_OCC_TIME_SPEND_L2W', 'WEB_OCC_UNQ_SES_CNT_L4W',\n",
    "       'WEB_OCC_TIME_SPEND_L4W', 'WEB_REW_UNQ_SES_CNT_L2W',\n",
    "       'WEB_REW_TIME_SPEND_L2W', 'WEB_REW_UNQ_SES_CNT_L4W',\n",
    "       'WEB_REW_TIME_SPEND_L4W', 'WEB_ALL_UNQ_SES_CNT_L3M',\n",
    "       'WEB_ALL_TIME_SPEND_L3M', 'WEB_ALL_UNQ_SES_CNT_L6M',\n",
    "       'WEB_ALL_TIME_SPEND_L6M', 'WEB_ALL_UNQ_SES_CNT_L12M',\n",
    "       'WEB_ALL_TIME_SPEND_L12M', 'WEB_AFF_UNQ_SES_CNT_L3M',\n",
    "       'WEB_AFF_TIME_SPEND_L3M', 'WEB_AFF_UNQ_SES_CNT_L6M',\n",
    "       'WEB_AFF_TIME_SPEND_L6M', 'WEB_AFF_UNQ_SES_CNT_L12M',\n",
    "       'WEB_AFF_TIME_SPEND_L12M', 'WEB_HIS_UNQ_SES_CNT_L3M',\n",
    "       'WEB_HIS_TIME_SPEND_L3M', 'WEB_HIS_UNQ_SES_CNT_L6M',\n",
    "       'WEB_HIS_TIME_SPEND_L6M', 'WEB_HIS_UNQ_SES_CNT_L12M',\n",
    "       'WEB_HIS_TIME_SPEND_L12M', 'WEB_OCC_UNQ_SES_CNT_L3M',\n",
    "       'WEB_OCC_TIME_SPEND_L3M', 'WEB_OCC_UNQ_SES_CNT_L6M',\n",
    "       'WEB_OCC_TIME_SPEND_L6M', 'WEB_OCC_UNQ_SES_CNT_L12M',\n",
    "       'WEB_OCC_TIME_SPEND_L12M', 'WEB_REW_UNQ_SES_CNT_L3M',\n",
    "       'WEB_REW_TIME_SPEND_L3M', 'WEB_REW_UNQ_SES_CNT_L6M',\n",
    "       'WEB_REW_TIME_SPEND_L6M', 'WEB_REW_UNQ_SES_CNT_L12M',\n",
    "       'WEB_REW_TIME_SPEND_L12M', 'event']]\n"
   ]
  },
  {
   "cell_type": "code",
   "execution_count": 7,
   "metadata": {
    "collapsed": true
   },
   "outputs": [],
   "source": [
    "X = df[['TRX_aff_L12M_COL_PTS', 'TRX_aff_L12M_PUR_AMT', 'TRX_aff_L3M_BASE_PTS',\n",
    "       'TRX_aff_L3M_COL_CNT', 'TRX_aff_L3M_PROMO_PTS', 'TRX_aff_L3M_PUR_AMT',\n",
    "       'ACCT_BAL_MOD_CNT', 'ACCT_TOT_COL_AMT', 'ACCT_UNBLOCKED_POINTS',\n",
    "       'TIME_FROM_ENRL', 'TIME_FROM_FIRST_DT', 'TIME_FROM_LAST_DT',\n",
    "       'CARDA_PAYM_CNT', 'ACCT_PTS_EXPIRED', 'ACCT_PTS_TO_EXPIRE',\n",
    "       'CUST_GFK_POPULATION', 'CUST_GFK_HOUSEHOLDS', 'CUST_HH_SIZE',\n",
    "       'CUST_AGE', 'CUST_GENDER', 'CUST_CA_AAA_FLG', 'CUST_CA_BBB_FLG',\n",
    "       'CUST_CA_CCC_FLG', 'CUST_CA_BBB_KM_CNT', 'CUST_CA_AAA_KM_CNT',\n",
    "       'CUST_CA_CCC_KM_CNT', 'WEB_ALL_UNQ_SES_CNT_L2W',\n",
    "       'WEB_ALL_TIME_SPEND_L2W', 'WEB_ALL_UNQ_SES_CNT_L4W',\n",
    "       'WEB_ALL_TIME_SPEND_L4W', 'WEB_AFF_UNQ_SES_CNT_L2W',\n",
    "       'WEB_AFF_TIME_SPEND_L2W', 'WEB_AFF_UNQ_SES_CNT_L4W',\n",
    "       'WEB_AFF_TIME_SPEND_L4W', 'WEB_HIS_UNQ_SES_CNT_L2W',\n",
    "       'WEB_HIS_TIME_SPEND_L2W', 'WEB_HIS_UNQ_SES_CNT_L4W',\n",
    "       'WEB_HIS_TIME_SPEND_L4W', 'WEB_OCC_UNQ_SES_CNT_L2W',\n",
    "       'WEB_OCC_TIME_SPEND_L2W', 'WEB_OCC_UNQ_SES_CNT_L4W',\n",
    "       'WEB_OCC_TIME_SPEND_L4W', 'WEB_REW_UNQ_SES_CNT_L2W',\n",
    "       'WEB_REW_TIME_SPEND_L2W', 'WEB_REW_UNQ_SES_CNT_L4W',\n",
    "       'WEB_REW_TIME_SPEND_L4W', 'WEB_ALL_UNQ_SES_CNT_L3M',\n",
    "       'WEB_ALL_TIME_SPEND_L3M', 'WEB_ALL_UNQ_SES_CNT_L6M',\n",
    "       'WEB_ALL_TIME_SPEND_L6M', 'WEB_ALL_UNQ_SES_CNT_L12M',\n",
    "       'WEB_ALL_TIME_SPEND_L12M', 'WEB_AFF_UNQ_SES_CNT_L3M',\n",
    "       'WEB_AFF_TIME_SPEND_L3M', 'WEB_AFF_UNQ_SES_CNT_L6M',\n",
    "       'WEB_AFF_TIME_SPEND_L6M', 'WEB_AFF_UNQ_SES_CNT_L12M',\n",
    "       'WEB_AFF_TIME_SPEND_L12M', 'WEB_HIS_UNQ_SES_CNT_L3M',\n",
    "       'WEB_HIS_TIME_SPEND_L3M', 'WEB_HIS_UNQ_SES_CNT_L6M',\n",
    "       'WEB_HIS_TIME_SPEND_L6M', 'WEB_HIS_UNQ_SES_CNT_L12M',\n",
    "       'WEB_HIS_TIME_SPEND_L12M', 'WEB_OCC_UNQ_SES_CNT_L3M',\n",
    "       'WEB_OCC_TIME_SPEND_L3M', 'WEB_OCC_UNQ_SES_CNT_L6M',\n",
    "       'WEB_OCC_TIME_SPEND_L6M', 'WEB_OCC_UNQ_SES_CNT_L12M',\n",
    "       'WEB_OCC_TIME_SPEND_L12M', 'WEB_REW_UNQ_SES_CNT_L3M',\n",
    "       'WEB_REW_TIME_SPEND_L3M', 'WEB_REW_UNQ_SES_CNT_L6M',\n",
    "       'WEB_REW_TIME_SPEND_L6M', 'WEB_REW_UNQ_SES_CNT_L12M',\n",
    "       'WEB_REW_TIME_SPEND_L12M']]\n",
    "Y = df['event']\n"
   ]
  },
  {
   "cell_type": "code",
   "execution_count": 8,
   "metadata": {
    "scrolled": false
   },
   "outputs": [
    {
     "name": "stderr",
     "output_type": "stream",
     "text": [
      "C:\\Apps\\Anaconda\\lib\\site-packages\\ipykernel_launcher.py:1: SettingWithCopyWarning: \n",
      "A value is trying to be set on a copy of a slice from a DataFrame.\n",
      "Try using .loc[row_indexer,col_indexer] = value instead\n",
      "\n",
      "See the caveats in the documentation: http://pandas.pydata.org/pandas-docs/stable/indexing.html#indexing-view-versus-copy\n",
      "  \"\"\"Entry point for launching an IPython kernel.\n",
      "C:\\Apps\\Anaconda\\lib\\site-packages\\ipykernel_launcher.py:2: SettingWithCopyWarning: \n",
      "A value is trying to be set on a copy of a slice from a DataFrame.\n",
      "Try using .loc[row_indexer,col_indexer] = value instead\n",
      "\n",
      "See the caveats in the documentation: http://pandas.pydata.org/pandas-docs/stable/indexing.html#indexing-view-versus-copy\n",
      "  \n",
      "C:\\Apps\\Anaconda\\lib\\site-packages\\ipykernel_launcher.py:3: SettingWithCopyWarning: \n",
      "A value is trying to be set on a copy of a slice from a DataFrame.\n",
      "Try using .loc[row_indexer,col_indexer] = value instead\n",
      "\n",
      "See the caveats in the documentation: http://pandas.pydata.org/pandas-docs/stable/indexing.html#indexing-view-versus-copy\n",
      "  This is separate from the ipykernel package so we can avoid doing imports until\n"
     ]
    }
   ],
   "source": [
    "X['CUST_CA_AAA_FLG'] = df.CUST_CA_AAA_FLG.map({'Y' : 1, 'N' : 0})\n",
    "X['CUST_CA_BBB_FLG'] = df.CUST_CA_BBB_FLG.map({'Y' : 1, 'N' : 0})\n",
    "X['CUST_CA_CCC_FLG'] = df.CUST_CA_CCC_FLG.map({'Y' : 1, 'N' : 0})"
   ]
  },
  {
   "cell_type": "code",
   "execution_count": 9,
   "metadata": {
    "collapsed": true
   },
   "outputs": [],
   "source": [
    "from sklearn.model_selection import train_test_split \n",
    "\n",
    "X_train, X_test, Y_train, Y_test = train_test_split(X, Y, test_size=0.25, random_state=42)"
   ]
  },
  {
   "cell_type": "code",
   "execution_count": 10,
   "metadata": {},
   "outputs": [
    {
     "data": {
      "text/plain": [
       "(169704, 56568, 169704, 56568)"
      ]
     },
     "execution_count": 10,
     "metadata": {},
     "output_type": "execute_result"
    }
   ],
   "source": [
    "len(X_train), len(X_test), len(Y_train), len(Y_test)"
   ]
  },
  {
   "cell_type": "markdown",
   "metadata": {},
   "source": [
    "Over-Sampling"
   ]
  },
  {
   "cell_type": "code",
   "execution_count": 29,
   "metadata": {
    "collapsed": true
   },
   "outputs": [],
   "source": [
    "from imblearn import over_sampling"
   ]
  },
  {
   "cell_type": "code",
   "execution_count": 30,
   "metadata": {
    "scrolled": false
   },
   "outputs": [
    {
     "name": "stderr",
     "output_type": "stream",
     "text": [
      "C:\\Apps\\Anaconda\\lib\\site-packages\\sklearn\\utils\\deprecation.py:77: DeprecationWarning: Function _ratio_float is deprecated; Use a float for 'ratio' is deprecated from version 0.2. The support will be removed in 0.4. Use a dict, str, or a callable instead.\n",
      "  warnings.warn(msg, category=DeprecationWarning)\n"
     ]
    }
   ],
   "source": [
    "adasyn = over_sampling.ADASYN(ratio=0.3, random_state=42)\n",
    "X_resampled, Y_resampled = adasyn.fit_sample(X_train, Y_train)"
   ]
  },
  {
   "cell_type": "code",
   "execution_count": 39,
   "metadata": {},
   "outputs": [
    {
     "data": {
      "text/plain": [
       "(219234, 219234)"
      ]
     },
     "execution_count": 39,
     "metadata": {},
     "output_type": "execute_result"
    }
   ],
   "source": [
    "len(X_resampled), len(Y_resampled)"
   ]
  },
  {
   "cell_type": "markdown",
   "metadata": {},
   "source": [
    "Under-sampling"
   ]
  },
  {
   "cell_type": "code",
   "execution_count": 2,
   "metadata": {
    "collapsed": true
   },
   "outputs": [],
   "source": [
    "from imblearn import under_sampling"
   ]
  },
  {
   "cell_type": "code",
   "execution_count": 11,
   "metadata": {
    "scrolled": true
   },
   "outputs": [
    {
     "name": "stderr",
     "output_type": "stream",
     "text": [
      "C:\\Apps\\Anaconda\\lib\\site-packages\\sklearn\\utils\\deprecation.py:77: DeprecationWarning: Function _ratio_float is deprecated; Use a float for 'ratio' is deprecated from version 0.2. The support will be removed in 0.4. Use a dict, str, or a callable instead.\n",
      "  warnings.warn(msg, category=DeprecationWarning)\n"
     ]
    },
    {
     "data": {
      "text/plain": [
       "(5746, 5746)"
      ]
     },
     "execution_count": 11,
     "metadata": {},
     "output_type": "execute_result"
    }
   ],
   "source": [
    "rus = under_sampling.RandomUnderSampler(ratio=0.3, random_state=42)\n",
    "X_resampled2, Y_resampled2 = rus.fit_sample(X_train, Y_train)\n",
    "len(X_resampled2) , len(Y_resampled2)"
   ]
  },
  {
   "cell_type": "markdown",
   "metadata": {},
   "source": [
    "Standaryzacja"
   ]
  },
  {
   "cell_type": "code",
   "execution_count": 1,
   "metadata": {
    "collapsed": true
   },
   "outputs": [],
   "source": [
    "from sklearn.preprocessing import StandardScaler"
   ]
  },
  {
   "cell_type": "code",
   "execution_count": 12,
   "metadata": {
    "collapsed": true
   },
   "outputs": [],
   "source": [
    "X_resampled2_sc = StandardScaler().fit(X_resampled2).transform(X_resampled2)\n",
    "X_test_sc = StandardScaler().fit(X_test).transform(X_test)"
   ]
  },
  {
   "cell_type": "code",
   "execution_count": 13,
   "metadata": {
    "collapsed": true
   },
   "outputs": [],
   "source": [
    "X_train_sc = X_resampled2_sc.copy()\n",
    "Y_train = Y_resampled2.copy()"
   ]
  },
  {
   "cell_type": "code",
   "execution_count": 14,
   "metadata": {},
   "outputs": [
    {
     "data": {
      "text/plain": [
       "1326"
      ]
     },
     "execution_count": 14,
     "metadata": {},
     "output_type": "execute_result"
    }
   ],
   "source": [
    "len(Y_train[Y_train==1])\n"
   ]
  },
  {
   "cell_type": "code",
   "execution_count": 15,
   "metadata": {},
   "outputs": [
    {
     "data": {
      "text/plain": [
       "56568"
      ]
     },
     "execution_count": 15,
     "metadata": {},
     "output_type": "execute_result"
    }
   ],
   "source": [
    "len(Y_test)"
   ]
  },
  {
   "cell_type": "code",
   "execution_count": 16,
   "metadata": {
    "collapsed": true
   },
   "outputs": [],
   "source": [
    "from time import time"
   ]
  },
  {
   "cell_type": "code",
   "execution_count": 24,
   "metadata": {
    "scrolled": false
   },
   "outputs": [
    {
     "name": "stderr",
     "output_type": "stream",
     "text": [
      "C:\\Apps\\Anaconda\\lib\\site-packages\\sklearn\\neural_network\\multilayer_perceptron.py:564: ConvergenceWarning: Stochastic Optimizer: Maximum iterations (200) reached and the optimization hasn't converged yet.\n",
      "  % self.max_iter, ConvergenceWarning)\n"
     ]
    },
    {
     "name": "stdout",
     "output_type": "stream",
     "text": [
      "4802.884230852127\n"
     ]
    }
   ],
   "source": [
    "# Główna część wykonująca \n",
    "t = time()\n",
    "# liczba iteracji algorytmu \n",
    "generations = 10\n",
    "\n",
    "# liczba chromosomów w populacji - liczba różnych topologii \n",
    "liczebnosc_pop = 10\n",
    "\n",
    "# wartości funkcji przystosowania dla poszczególnych iteracji\n",
    "f_fit = {}\n",
    "\n",
    "average_fitness = np.zeros(liczebnosc_pop)\n",
    "maximum_fitness = np.zeros(liczebnosc_pop)\n",
    "minimum_fitness = np.zeros(liczebnosc_pop)\n",
    "\n",
    "# zbior populacji\n",
    "zb_pop = {}\n",
    "klasyfikacja = {}\n",
    "populacja = startowaPopulacja(liczebnosc_pop)\n",
    "czas_treningu = {}\n",
    "czas_selekcji = {}\n",
    "for i in range(generations):\n",
    "    zb_pop[i] = populacja\n",
    "    f_fit[i] = np.zeros(liczebnosc_pop)\n",
    "    klasyfikacja[i] = {}\n",
    "    fitness = np.zeros(len(populacja))\n",
    "    for p in range(len(populacja)):\n",
    "        y = siec(populacja[p])\n",
    "        # wektor w przechowuje liczby: TP, FP, TN, FN\n",
    "        w = np.array([y[1][1], y[0][1], y[0][0], y[1][0]])\n",
    "        fitness[p] = funkcjaZysku(w)\n",
    "        klasyfikacja[i][p] = y\n",
    "    f_fit[i] = fitness\n",
    "    average_fitness[i] = np.mean(fitness)\n",
    "    maximum_fitness[i] = np.max(fitness)\n",
    "    minimum_fitness[i] = np.min(fitness)\n",
    "    if minimum_fitness[i] == maximum_fitness[i]:\n",
    "        print('Najmniejsza i największa wartość funkcji przystosowania są takie same.')\n",
    "        print('Osiągnięto minimum lokalne.')\n",
    "        print('Iteracja nr {}'.format(i+1))\n",
    "        break\n",
    "    #nowa_populacja = {}\n",
    "    new_pop = selekcja(populacja, fitness)\n",
    "    populacja = new_pop.copy()\n",
    "print(time() - t)"
   ]
  },
  {
   "cell_type": "code",
   "execution_count": 25,
   "metadata": {
    "collapsed": true
   },
   "outputs": [
    {
     "data": {
      "text/plain": [
       "{0: {0: array([[56122,     0],\n",
       "         [  446,     0]], dtype=int64), 1: array([[56122,     0],\n",
       "         [  446,     0]], dtype=int64), 2: array([[47175,  8947],\n",
       "         [  282,   164]], dtype=int64), 3: array([[45290, 10832],\n",
       "         [   60,   386]], dtype=int64), 4: array([[56122,     0],\n",
       "         [  446,     0]], dtype=int64), 5: array([[56122,     0],\n",
       "         [  446,     0]], dtype=int64), 6: array([[56122,     0],\n",
       "         [  446,     0]], dtype=int64), 7: array([[55166,   956],\n",
       "         [  357,    89]], dtype=int64), 8: array([[56122,     0],\n",
       "         [  446,     0]], dtype=int64), 9: array([[55752,   370],\n",
       "         [  405,    41]], dtype=int64)}, 1: {0: array([[46162,  9960],\n",
       "         [   62,   384]], dtype=int64), 1: array([[46317,  9805],\n",
       "         [   59,   387]], dtype=int64), 2: array([[54243,  1879],\n",
       "         [  300,   146]], dtype=int64), 3: array([[56122,     0],\n",
       "         [  446,     0]], dtype=int64), 4: array([[54994,  1128],\n",
       "         [  398,    48]], dtype=int64), 5: array([[52228,  3894],\n",
       "         [  315,   131]], dtype=int64), 6: array([[45641, 10481],\n",
       "         [   63,   383]], dtype=int64), 7: array([[54739,  1383],\n",
       "         [  316,   130]], dtype=int64), 8: array([[46173,  9949],\n",
       "         [   71,   375]], dtype=int64), 9: array([[45709, 10413],\n",
       "         [   58,   388]], dtype=int64)}, 2: {0: array([[46068, 10054],\n",
       "         [   64,   382]], dtype=int64), 1: array([[45676, 10446],\n",
       "         [   57,   389]], dtype=int64), 2: array([[46023, 10099],\n",
       "         [   62,   384]], dtype=int64), 3: array([[45832, 10290],\n",
       "         [   60,   386]], dtype=int64), 4: array([[46024, 10098],\n",
       "         [   67,   379]], dtype=int64), 5: array([[46178,  9944],\n",
       "         [   64,   382]], dtype=int64), 6: array([[46094, 10028],\n",
       "         [   55,   391]], dtype=int64), 7: array([[55386,   736],\n",
       "         [  430,    16]], dtype=int64), 8: array([[45539, 10583],\n",
       "         [   61,   385]], dtype=int64), 9: array([[45871, 10251],\n",
       "         [   60,   386]], dtype=int64)}, 3: {0: array([[45259, 10863],\n",
       "         [   55,   391]], dtype=int64), 1: array([[45281, 10841],\n",
       "         [   55,   391]], dtype=int64), 2: array([[46365,  9757],\n",
       "         [   62,   384]], dtype=int64), 3: array([[46161,  9961],\n",
       "         [   65,   381]], dtype=int64), 4: array([[46630,  9492],\n",
       "         [   73,   373]], dtype=int64), 5: array([[45984, 10138],\n",
       "         [   72,   374]], dtype=int64), 6: array([[45808, 10314],\n",
       "         [   57,   389]], dtype=int64), 7: array([[46314,  9808],\n",
       "         [   69,   377]], dtype=int64), 8: array([[46211,  9911],\n",
       "         [   63,   383]], dtype=int64), 9: array([[45876, 10246],\n",
       "         [   66,   380]], dtype=int64)}, 4: {0: array([[56122,     0],\n",
       "         [  446,     0]], dtype=int64), 1: array([[45993, 10129],\n",
       "         [   63,   383]], dtype=int64), 2: array([[45530, 10592],\n",
       "         [   59,   387]], dtype=int64), 3: array([[45417, 10705],\n",
       "         [   72,   374]], dtype=int64), 4: array([[46121, 10001],\n",
       "         [   64,   382]], dtype=int64), 5: array([[45915, 10207],\n",
       "         [   60,   386]], dtype=int64), 6: array([[54599,  1523],\n",
       "         [  390,    56]], dtype=int64), 7: array([[45865, 10257],\n",
       "         [   67,   379]], dtype=int64), 8: array([[45834, 10288],\n",
       "         [   66,   380]], dtype=int64), 9: array([[55012,  1110],\n",
       "         [  376,    70]], dtype=int64)}, 5: {0: array([[46028, 10094],\n",
       "         [   60,   386]], dtype=int64), 1: array([[45378, 10744],\n",
       "         [   66,   380]], dtype=int64), 2: array([[45702, 10420],\n",
       "         [   59,   387]], dtype=int64), 3: array([[45624, 10498],\n",
       "         [   64,   382]], dtype=int64), 4: array([[46554,  9568],\n",
       "         [   74,   372]], dtype=int64), 5: array([[46021, 10101],\n",
       "         [   71,   375]], dtype=int64), 6: array([[45384, 10738],\n",
       "         [   54,   392]], dtype=int64), 7: array([[45504, 10618],\n",
       "         [   52,   394]], dtype=int64), 8: array([[45805, 10317],\n",
       "         [   63,   383]], dtype=int64), 9: array([[46109, 10013],\n",
       "         [   63,   383]], dtype=int64)}, 6: {0: array([[45612, 10510],\n",
       "         [   62,   384]], dtype=int64), 1: array([[45619, 10503],\n",
       "         [   80,   366]], dtype=int64), 2: array([[46065, 10057],\n",
       "         [   69,   377]], dtype=int64), 3: array([[45358, 10764],\n",
       "         [   55,   391]], dtype=int64), 4: array([[45754, 10368],\n",
       "         [   65,   381]], dtype=int64), 5: array([[46636,  9486],\n",
       "         [   69,   377]], dtype=int64), 6: array([[45410, 10712],\n",
       "         [   58,   388]], dtype=int64), 7: array([[45528, 10594],\n",
       "         [   66,   380]], dtype=int64), 8: array([[46034, 10088],\n",
       "         [   66,   380]], dtype=int64), 9: array([[46023, 10099],\n",
       "         [   61,   385]], dtype=int64)}, 7: {0: array([[45706, 10416],\n",
       "         [   68,   378]], dtype=int64), 1: array([[ 3800, 52322],\n",
       "         [  172,   274]], dtype=int64), 2: array([[45456, 10666],\n",
       "         [   59,   387]], dtype=int64), 3: array([[45297, 10825],\n",
       "         [   56,   390]], dtype=int64), 4: array([[45955, 10167],\n",
       "         [   58,   388]], dtype=int64), 5: array([[46127,  9995],\n",
       "         [   76,   370]], dtype=int64), 6: array([[45570, 10552],\n",
       "         [   60,   386]], dtype=int64), 7: array([[45703, 10419],\n",
       "         [   56,   390]], dtype=int64), 8: array([[45615, 10507],\n",
       "         [   60,   386]], dtype=int64), 9: array([[46241,  9881],\n",
       "         [   65,   381]], dtype=int64)}, 8: {0: array([[45176, 10946],\n",
       "         [   55,   391]], dtype=int64), 1: array([[45735, 10387],\n",
       "         [   63,   383]], dtype=int64), 2: array([[46309,  9813],\n",
       "         [   67,   379]], dtype=int64), 3: array([[46503,  9619],\n",
       "         [   78,   368]], dtype=int64), 4: array([[45521, 10601],\n",
       "         [   52,   394]], dtype=int64), 5: array([[46047, 10075],\n",
       "         [   62,   384]], dtype=int64), 6: array([[45678, 10444],\n",
       "         [   65,   381]], dtype=int64), 7: array([[45762, 10360],\n",
       "         [   59,   387]], dtype=int64), 8: array([[45355, 10767],\n",
       "         [   56,   390]], dtype=int64), 9: array([[45778, 10344],\n",
       "         [   56,   390]], dtype=int64)}, 9: {0: array([[45445, 10677],\n",
       "         [   51,   395]], dtype=int64), 1: array([[45362, 10760],\n",
       "         [   55,   391]], dtype=int64), 2: array([[46389,  9733],\n",
       "         [   69,   377]], dtype=int64), 3: array([[45194, 10928],\n",
       "         [   51,   395]], dtype=int64), 4: array([[45645, 10477],\n",
       "         [   58,   388]], dtype=int64), 5: array([[45617, 10505],\n",
       "         [   59,   387]], dtype=int64), 6: array([[45507, 10615],\n",
       "         [   59,   387]], dtype=int64), 7: array([[46240,  9882],\n",
       "         [   66,   380]], dtype=int64), 8: array([[46183,  9939],\n",
       "         [   63,   383]], dtype=int64), 9: array([[45756, 10366],\n",
       "         [   69,   377]], dtype=int64)}}"
      ]
     },
     "execution_count": 25,
     "metadata": {},
     "output_type": "execute_result"
    }
   ],
   "source": [
    "klasyfikacja"
   ]
  },
  {
   "cell_type": "code",
   "execution_count": 26,
   "metadata": {},
   "outputs": [
    {
     "data": {
      "text/plain": [
       "{0: array([-8964.6, -8964.6, -3299.3,  5392.2, -8964.6, -8964.6, -8964.6,\n",
       "        -5500.2, -8964.6, -7361.6]),\n",
       " 1: array([ 5399.4,  5534.9, -3312.5, -8964.6, -7157.4, -4114. ,  5307.3,\n",
       "        -3902.9,  5040.5,  5514.1]),\n",
       " 2: array([ 5310. ,  5550.8,  5385.5,  5446.4,  5185.6,  5321. ,  5672.6,\n",
       "        -8398.2,  5377.1,  5450.3]),\n",
       " 3: array([ 5589.1,  5591.3,  5419.7,  5279.3,  5006.2,  4981.6,  5564. ,\n",
       "         5134.6,  5364.3,  5210.8]),\n",
       " 4: array([-8964.6,  5342.5,  5456.2,  4924.9,  5315.3,  5454.7, -6876.9,\n",
       "         5169.7,  5206.6, -6275.6]),\n",
       " 5: array([ 5466. ,  5161. ,  5473.4,  5265.6,  4958.6,  5025.3,  5641.6,\n",
       "         5733.6,  5323.7,  5354.1]),\n",
       " 6: array([ 5344.4,  4625.1,  5109.7,  5599. ,  5238.6,  5166.8,  5484.2,\n",
       "         5176. ,  5226.6,  5425.5]),\n",
       " 7: array([ 5113.8, -3236.8,  5448.8,  5552.9,  5538.7,  4835.9,  5420.2,\n",
       "         5593.5,  5424.7,  5287.3]),\n",
       " 8: array([ 5580.8,  5316.7,  5214.1,  4793.5,  5735.3,  5387.9,  5231. ,\n",
       "         5479.4,  5558.7,  5601. ]),\n",
       " 9: array([ 5767.7,  5599.4,  5142.1,  5742.6,  5507.7,  5464.9,  5453.9,\n",
       "         5247.2,  5361.5,  5078.8])}"
      ]
     },
     "execution_count": 26,
     "metadata": {},
     "output_type": "execute_result"
    }
   ],
   "source": [
    "f_fit"
   ]
  },
  {
   "cell_type": "code",
   "execution_count": 32,
   "metadata": {
    "scrolled": true
   },
   "outputs": [
    {
     "data": {
      "text/plain": [
       "{0: {0: array([  1,   0, 985,   4,  21]),\n",
       "  1: array([  1,   0, 970,   3,  54]),\n",
       "  2: array([  3,   1, 753,   3,  81]),\n",
       "  3: array([  3,   0, 392,   2,  22]),\n",
       "  4: array([  1,   1, 895,   3,  11]),\n",
       "  5: array([  1,   0, 469,   5,  90]),\n",
       "  6: array([  1,   0, 512,   3,  98]),\n",
       "  7: array([  3,   1, 711,   3,  44]),\n",
       "  8: array([  1,   1, 126,   4, 103]),\n",
       "  9: array([  3,   1, 335,   4, 114])},\n",
       " 1: {0: array([  3,   0, 711,   3,  44]),\n",
       "  1: array([  3,   0, 753,   3,  81]),\n",
       "  2: array([  3,   1, 711,   3, 114]),\n",
       "  3: array([  1,   0, 392,   3,  44]),\n",
       "  4: array([  3,   1, 753,   3,  22]),\n",
       "  5: array([  3,   1, 711,   3,  44]),\n",
       "  6: array([  3,   0, 392,   3,  81]),\n",
       "  7: array([  3,   1, 711,   3,  81]),\n",
       "  8: array([  3,   0, 392,   2,  81]),\n",
       "  9: array([  3,   0, 753,   3,  22])},\n",
       " 2: {0: array([  3,   0, 753,   3,  81]),\n",
       "  1: array([  3,   0, 753,   3,  81]),\n",
       "  2: array([  3,   0, 753,   3,  81]),\n",
       "  3: array([  3,   0, 753,   3,  22]),\n",
       "  4: array([  3,   0, 392,   2,  22]),\n",
       "  5: array([  3,   0, 753,   3,  44]),\n",
       "  6: array([  3,   0, 753,   3,  81]),\n",
       "  7: array([  3,   1, 711,   3,  44]),\n",
       "  8: array([  3,   0, 711,   3,  44]),\n",
       "  9: array([  3,   0, 392,   3,  44])},\n",
       " 3: {0: array([  3,   0, 753,   3,  22]),\n",
       "  1: array([  3,   0, 753,   3,  22]),\n",
       "  2: array([  3,   0, 753,   3,  81]),\n",
       "  3: array([  3,   0, 753,   3,  81]),\n",
       "  4: array([  3,   0, 753,   2,  22]),\n",
       "  5: array([  3,   0, 753,   3,  44]),\n",
       "  6: array([  3,   0, 753,   3,  22]),\n",
       "  7: array([  3,   0, 753,   3,  43]),\n",
       "  8: array([  2,   0, 392,   3,  44]),\n",
       "  9: array([  3,   0, 392,   3,  44])},\n",
       " 4: {0: array([  1,   0, 753,   3,  22]),\n",
       "  1: array([  3,   0, 753,   3,  44]),\n",
       "  2: array([  3,   0, 753,   5,  81]),\n",
       "  3: array([  3,   0, 753,   3,  22]),\n",
       "  4: array([  3,   0, 753,   3,  81]),\n",
       "  5: array([  3,   0, 753,   3,  81]),\n",
       "  6: array([  3,   1, 753,   3,  81]),\n",
       "  7: array([  3,   0, 392,   3,  44]),\n",
       "  8: array([  3,   0, 753,   3,  22]),\n",
       "  9: array([  3,   1, 753,   3,  81])},\n",
       " 5: {0: array([  3,   0, 753,   3,  47]),\n",
       "  1: array([  3,   0, 753,   5,  81]),\n",
       "  2: array([  3,   0, 753,   3,  81]),\n",
       "  3: array([  3,   0, 753,   3,  81]),\n",
       "  4: array([  2,   0, 392,   3,  81]),\n",
       "  5: array([  3,   0, 753,   5,  81]),\n",
       "  6: array([  3,   0, 753,   5,  81]),\n",
       "  7: array([  3,   0, 392,   3,  22]),\n",
       "  8: array([  3,   0, 392,   3,  44]),\n",
       "  9: array([  3,   0, 753,   3,  44])},\n",
       " 6: {0: array([  3,   0, 753,   5,  81]),\n",
       "  1: array([  3,   0, 392,   5,  81]),\n",
       "  2: array([  3,   0, 753,   3,  44]),\n",
       "  3: array([  3,   0, 392,   3,  22]),\n",
       "  4: array([  3,   0, 392,   3,  44]),\n",
       "  5: array([  3,   0, 753,   5,  22]),\n",
       "  6: array([  3,   0, 753,   3,  22]),\n",
       "  7: array([  3,   0, 753,   5,  81]),\n",
       "  8: array([  3,   0, 392,   3,  81]),\n",
       "  9: array([  3,   0, 753,   3,  81])},\n",
       " 7: {0: array([  3,   0, 392,   3,  22]),\n",
       "  1: array([  3,   1, 753,   3,  22]),\n",
       "  2: array([  3,   0, 753,   3,  22]),\n",
       "  3: array([  3,   0, 753,   3,  22]),\n",
       "  4: array([  3,   0, 753,   3,  22]),\n",
       "  5: array([  3,   0, 392,   3,  44]),\n",
       "  6: array([  3,   0, 753,   5,  81]),\n",
       "  7: array([  3,   0, 753,   3,  81]),\n",
       "  8: array([  3,   0, 753,   5,  81]),\n",
       "  9: array([  3,   0, 753,   3,  44])},\n",
       " 8: {0: array([  3,   0, 753,   3,  22]),\n",
       "  1: array([  3,   0, 392,   3,  22]),\n",
       "  2: array([  3,   0, 753,   3,  81]),\n",
       "  3: array([  3,   0, 753,   3,  22]),\n",
       "  4: array([  3,   0, 753,   3,  22]),\n",
       "  5: array([  3,   0, 753,   3,  22]),\n",
       "  6: array([  3,   0, 392,   3,  22]),\n",
       "  7: array([  3,   0, 753,   3,  81]),\n",
       "  8: array([  3,   0, 753,   5,  81]),\n",
       "  9: array([  3,   0, 753,   3,  22])},\n",
       " 9: {0: array([  3,   0, 392,   3,  22]),\n",
       "  1: array([  3,   0, 753,   3,  22]),\n",
       "  2: array([  3,   0, 753,   3,  81]),\n",
       "  3: array([  3,   0, 753,   3,  22]),\n",
       "  4: array([  3,   0, 753,   3,  22]),\n",
       "  5: array([  3,   0, 753,   5,  81]),\n",
       "  6: array([  3,   0, 753,   3,  22]),\n",
       "  7: array([  3,   0, 392,   2,  81]),\n",
       "  8: array([  3,   0, 753,   4,  81]),\n",
       "  9: array([  3,   0, 392,   3,  81])}}"
      ]
     },
     "execution_count": 32,
     "metadata": {},
     "output_type": "execute_result"
    }
   ],
   "source": [
    "zb_pop"
   ]
  },
  {
   "cell_type": "code",
   "execution_count": null,
   "metadata": {
    "collapsed": true
   },
   "outputs": [],
   "source": []
  },
  {
   "cell_type": "code",
   "execution_count": 30,
   "metadata": {},
   "outputs": [
    {
     "data": {
      "text/plain": [
       "array([ 5392.2,  5534.9,  5672.6,  5591.3,  5456.2,  5733.6,  5599. ,\n",
       "        5593.5,  5735.3,  5767.7])"
      ]
     },
     "execution_count": 30,
     "metadata": {},
     "output_type": "execute_result"
    }
   ],
   "source": [
    "maximum_fitness"
   ]
  },
  {
   "cell_type": "code",
   "execution_count": 28,
   "metadata": {},
   "outputs": [
    {
     "data": {
      "text/plain": [
       "array([-6455.65,   -65.52,  4030.11,  5314.09,  1475.28,  5340.29,\n",
       "        5239.59,  4497.9 ,  5389.84,  5436.58])"
      ]
     },
     "execution_count": 28,
     "metadata": {},
     "output_type": "execute_result"
    }
   ],
   "source": [
    "average_fitness"
   ]
  },
  {
   "cell_type": "code",
   "execution_count": 29,
   "metadata": {},
   "outputs": [
    {
     "data": {
      "text/plain": [
       "array([-8964.6, -8964.6, -8398.2,  4981.6, -8964.6,  4958.6,  4625.1,\n",
       "       -3236.8,  4793.5,  5078.8])"
      ]
     },
     "execution_count": 29,
     "metadata": {},
     "output_type": "execute_result"
    }
   ],
   "source": [
    "minimum_fitness"
   ]
  },
  {
   "cell_type": "code",
   "execution_count": 185,
   "metadata": {},
   "outputs": [
    {
     "data": {
      "text/plain": [
       "array([[45445, 10677],\n",
       "       [   51,   395]], dtype=int64)"
      ]
     },
     "execution_count": 185,
     "metadata": {},
     "output_type": "execute_result"
    }
   ],
   "source": [
    "klasyfikacja[9][0]"
   ]
  },
  {
   "cell_type": "code",
   "execution_count": 187,
   "metadata": {},
   "outputs": [
    {
     "data": {
      "text/plain": [
       "array([  3,   0, 392,   3,  22])"
      ]
     },
     "execution_count": 187,
     "metadata": {},
     "output_type": "execute_result"
    }
   ],
   "source": [
    "zb_pop[9][0]"
   ]
  },
  {
   "cell_type": "code",
   "execution_count": 186,
   "metadata": {},
   "outputs": [
    {
     "data": {
      "text/plain": [
       "0.8856502242152466"
      ]
     },
     "execution_count": 186,
     "metadata": {},
     "output_type": "execute_result"
    }
   ],
   "source": [
    "395/(446)"
   ]
  },
  {
   "cell_type": "code",
   "execution_count": null,
   "metadata": {
    "collapsed": true
   },
   "outputs": [],
   "source": [
    "[45445, 10677],\n",
    "         [   51,   395]"
   ]
  },
  {
   "cell_type": "code",
   "execution_count": 31,
   "metadata": {},
   "outputs": [
    {
     "data": {
      "text/plain": [
       "0.8856502242152466"
      ]
     },
     "execution_count": 31,
     "metadata": {},
     "output_type": "execute_result"
    }
   ],
   "source": [
    "395/446"
   ]
  },
  {
   "cell_type": "code",
   "execution_count": 136,
   "metadata": {
    "scrolled": true
   },
   "outputs": [
    {
     "data": {
      "text/plain": [
       "{0: array([  1,   0, 365,   2, 125]),\n",
       " 1: array([ 3,  1, 38,  3, 40]),\n",
       " 2: array([  1,   0, 403,   5,  84]),\n",
       " 3: array([  2,   1, 671,   3,  58]),\n",
       " 4: array([  3,   1, 984,   3,  34]),\n",
       " 5: array([  1,   0, 643,   1,  78]),\n",
       " 6: array([  1,   1, 622,   5, 126]),\n",
       " 7: array([ 3,  0, 25,  1, 22]),\n",
       " 8: array([  2,   0, 912,   5,  89]),\n",
       " 9: array([  2,   0, 265,   5, 126])}"
      ]
     },
     "execution_count": 136,
     "metadata": {},
     "output_type": "execute_result"
    }
   ],
   "source": [
    "sp = startowaPopulacja(liczebnosc_pop)\n",
    "sp"
   ]
  },
  {
   "cell_type": "code",
   "execution_count": 137,
   "metadata": {
    "collapsed": true
   },
   "outputs": [],
   "source": [
    "y = siec(sp[0])"
   ]
  },
  {
   "cell_type": "code",
   "execution_count": 138,
   "metadata": {},
   "outputs": [
    {
     "data": {
      "text/plain": [
       "array([[45631, 10491],\n",
       "       [  118,   328]], dtype=int64)"
      ]
     },
     "execution_count": 138,
     "metadata": {},
     "output_type": "execute_result"
    }
   ],
   "source": [
    "y"
   ]
  },
  {
   "cell_type": "code",
   "execution_count": 125,
   "metadata": {},
   "outputs": [
    {
     "data": {
      "text/plain": [
       "6012.2"
      ]
     },
     "execution_count": 125,
     "metadata": {},
     "output_type": "execute_result"
    }
   ],
   "source": [
    "403*19.9 -20.1*43 - 11432*0.1"
   ]
  },
  {
   "cell_type": "code",
   "execution_count": 129,
   "metadata": {},
   "outputs": [
    {
     "data": {
      "text/plain": [
       "0.677400455190752"
      ]
     },
     "execution_count": 129,
     "metadata": {},
     "output_type": "execute_result"
    }
   ],
   "source": [
    "(403*19.9 -20.1*43 - 11432*0.1) / (446*19.9)"
   ]
  },
  {
   "cell_type": "code",
   "execution_count": 127,
   "metadata": {},
   "outputs": [
    {
     "data": {
      "text/plain": [
       "0.9035874439461884"
      ]
     },
     "execution_count": 127,
     "metadata": {},
     "output_type": "execute_result"
    }
   ],
   "source": [
    "403/446"
   ]
  },
  {
   "cell_type": "code",
   "execution_count": 119,
   "metadata": {},
   "outputs": [
    {
     "data": {
      "text/plain": [
       "1100.0"
      ]
     },
     "execution_count": 119,
     "metadata": {},
     "output_type": "execute_result"
    }
   ],
   "source": [
    "11000*0.1"
   ]
  },
  {
   "cell_type": "markdown",
   "metadata": {},
   "source": [
    "Modele odniesienia"
   ]
  },
  {
   "cell_type": "code",
   "execution_count": 17,
   "metadata": {
    "collapsed": true
   },
   "outputs": [],
   "source": [
    "from sklearn.linear_model import LogisticRegression as LR"
   ]
  },
  {
   "cell_type": "code",
   "execution_count": 20,
   "metadata": {
    "collapsed": true
   },
   "outputs": [],
   "source": [
    "from sklearn.metrics import r2_score"
   ]
  },
  {
   "cell_type": "code",
   "execution_count": 18,
   "metadata": {},
   "outputs": [
    {
     "name": "stdout",
     "output_type": "stream",
     "text": [
      "[[49501  6621]\n",
      " [  109   337]]\n"
     ]
    }
   ],
   "source": [
    "linreg = LR(C=1, random_state=42)\n",
    "linreg.fit(X_train_sc, Y_train)\n",
    "pred = linreg.predict(X_test_sc)\n",
    "print(confusion_matrix(Y_test, pred))"
   ]
  },
  {
   "cell_type": "code",
   "execution_count": 28,
   "metadata": {
    "scrolled": true
   },
   "outputs": [
    {
     "name": "stdout",
     "output_type": "stream",
     "text": [
      "[[49501  6621]\n",
      " [  109   337]]\n"
     ]
    }
   ],
   "source": [
    "print(confusion_matrix(Y_test, pred))"
   ]
  },
  {
   "cell_type": "code",
   "execution_count": 21,
   "metadata": {},
   "outputs": [
    {
     "data": {
      "text/plain": [
       "-14.209603421629657"
      ]
     },
     "execution_count": 21,
     "metadata": {},
     "output_type": "execute_result"
    }
   ],
   "source": [
    "r2_score(Y_test, pred)"
   ]
  },
  {
   "cell_type": "code",
   "execution_count": 65,
   "metadata": {
    "scrolled": true
   },
   "outputs": [
    {
     "data": {
      "text/plain": [
       "0.7556053811659192"
      ]
     },
     "execution_count": 65,
     "metadata": {},
     "output_type": "execute_result"
    }
   ],
   "source": [
    "337/446"
   ]
  },
  {
   "cell_type": "code",
   "execution_count": 29,
   "metadata": {
    "scrolled": true
   },
   "outputs": [
    {
     "data": {
      "text/plain": [
       "3853.3000000000002"
      ]
     },
     "execution_count": 29,
     "metadata": {},
     "output_type": "execute_result"
    }
   ],
   "source": [
    "y_log = confusion_matrix(Y_test, pred)\n",
    "w_log = np.array([y_log[1][1], y_log[0][1], y_log[0][0], y_log[1][0]])\n",
    "fitness_log = funkcjaZysku(w_log)\n",
    "fitness_log"
   ]
  },
  {
   "cell_type": "code",
   "execution_count": 75,
   "metadata": {},
   "outputs": [
    {
     "name": "stdout",
     "output_type": "stream",
     "text": [
      "             precision    recall  f1-score   support\n",
      "\n",
      "          0       1.00      0.88      0.94     56122\n",
      "          1       0.05      0.76      0.09       446\n",
      "\n",
      "avg / total       0.99      0.88      0.93     56568\n",
      "\n"
     ]
    }
   ],
   "source": [
    "print(classification_report(Y_test, pred))"
   ]
  },
  {
   "cell_type": "code",
   "execution_count": 103,
   "metadata": {},
   "outputs": [
    {
     "data": {
      "text/plain": [
       "0.43414084507042255"
      ]
     },
     "execution_count": 103,
     "metadata": {},
     "output_type": "execute_result"
    }
   ],
   "source": [
    "3853/8875"
   ]
  },
  {
   "cell_type": "code",
   "execution_count": 73,
   "metadata": {},
   "outputs": [
    {
     "data": {
      "text/plain": [
       "1915"
      ]
     },
     "execution_count": 73,
     "metadata": {},
     "output_type": "execute_result"
    }
   ],
   "source": [
    "5768-3853"
   ]
  },
  {
   "cell_type": "code",
   "execution_count": 146,
   "metadata": {},
   "outputs": [
    {
     "data": {
      "text/plain": [
       "0.5550385793493855"
      ]
     },
     "execution_count": 146,
     "metadata": {},
     "output_type": "execute_result"
    }
   ],
   "source": [
    "(8875 - 6012)/(8875 - 3716.8)"
   ]
  },
  {
   "cell_type": "code",
   "execution_count": 145,
   "metadata": {},
   "outputs": [
    {
     "data": {
      "text/plain": [
       "8875.4"
      ]
     },
     "execution_count": 145,
     "metadata": {},
     "output_type": "execute_result"
    }
   ],
   "source": [
    "446*19.9"
   ]
  },
  {
   "cell_type": "code",
   "execution_count": 2,
   "metadata": {},
   "outputs": [
    {
     "data": {
      "text/plain": [
       "1.497015312743317"
      ]
     },
     "execution_count": 2,
     "metadata": {},
     "output_type": "execute_result"
    }
   ],
   "source": [
    "5768/3853"
   ]
  },
  {
   "cell_type": "code",
   "execution_count": 36,
   "metadata": {},
   "outputs": [
    {
     "name": "stdout",
     "output_type": "stream",
     "text": [
      "0.226209354509\n",
      "0.204682688269\n",
      "0.18520455517\n",
      "0.167580011509\n",
      "0.151632664928\n",
      "0.137202909024\n",
      "0.124146325948\n",
      "0.112332241029\n",
      "0.101642414935\n"
     ]
    }
   ],
   "source": [
    "for i in range(1, 10):\n",
    "    wsp_m = 0.25/np.exp(i/10)\n",
    "    print(wsp_m)"
   ]
  },
  {
   "cell_type": "code",
   "execution_count": 73,
   "metadata": {
    "collapsed": true
   },
   "outputs": [],
   "source": [
    "y = list(range(1,10))\n",
    "wsp_m = []\n",
    "em = []\n",
    "y2 = []\n",
    "for i in range(1, 10):\n",
    "    y2.append(i/10) \n",
    "    em.append(np.exp(i/10))\n",
    "    wsp_m.append(0.25/np.exp(i/20))\n",
    "\n"
   ]
  },
  {
   "cell_type": "code",
   "execution_count": 74,
   "metadata": {},
   "outputs": [
    {
     "data": {
      "text/plain": [
       "<matplotlib.text.Text at 0x1e0a715c668>"
      ]
     },
     "execution_count": 74,
     "metadata": {},
     "output_type": "execute_result"
    },
    {
     "data": {
      "image/png": "[encoded data removed]",
      "text/plain": [
       "<matplotlib.figure.Figure at 0x1e0a7124438>"
      ]
     },
     "metadata": {},
     "output_type": "display_data"
    }
   ],
   "source": [
    "plt.plot(y2, em)\n",
    "plt.xlabel('Liczba iteracji')\n",
    "plt.ylabel('Współczynnik mutacji')"
   ]
  },
  {
   "cell_type": "code",
   "execution_count": 109,
   "metadata": {},
   "outputs": [
    {
     "data": {
      "text/plain": [
       "<matplotlib.text.Text at 0x1e0a7263fd0>"
      ]
     },
     "execution_count": 109,
     "metadata": {},
     "output_type": "execute_result"
    },
    {
     "data": {
      "image/png": "[encoded data removed]",
      "text/plain": [
       "<matplotlib.figure.Figure at 0x1e0a74868d0>"
      ]
     },
     "metadata": {},
     "output_type": "display_data"
    }
   ],
   "source": [
    "plt.scatter(list(range(0, 10)), f_fit[0])\n",
    "plt.xlabel('Numer modelu')\n",
    "plt.ylabel('Funkcja przystosowania')"
   ]
  },
  {
   "cell_type": "code",
   "execution_count": 145,
   "metadata": {
    "collapsed": true
   },
   "outputs": [],
   "source": [
    "k0 = pd.DataFrame\n",
    "dfTP, dfFP, dfTN, dfFN = [], [], [], []\n",
    "for i in klasyfikacja[0]:\n",
    "    dfTN.append(klasyfikacja[0][i][0][0])\n",
    "    dfFN.append(klasyfikacja[0][i][0][1])\n",
    "    dfFP.append(klasyfikacja[0][i][1][0])\n",
    "    dfTP.append(klasyfikacja[0][i][1][1])"
   ]
  },
  {
   "cell_type": "code",
   "execution_count": 146,
   "metadata": {
    "collapsed": true
   },
   "outputs": [],
   "source": [
    "k0 = pd.DataFrame([dfTN, dfFN, dfFP, dfTP])"
   ]
  },
  {
   "cell_type": "code",
   "execution_count": 147,
   "metadata": {},
   "outputs": [
    {
     "name": "stdout",
     "output_type": "stream",
     "text": [
      "       0      1      2      3      4      5      6      7      8      9\n",
      "0  56122  56122  47175  45290  56122  56122  56122  55166  56122  55752\n",
      "1      0      0   8947  10832      0      0      0    956      0    370\n",
      "2    446    446    282     60    446    446    446    357    446    405\n",
      "3      0      0    164    386      0      0      0     89      0     41\n"
     ]
    }
   ],
   "source": [
    "print(k0)"
   ]
  },
  {
   "cell_type": "code",
   "execution_count": 140,
   "metadata": {},
   "outputs": [
    {
     "data": {
      "text/plain": [
       "array([[47175,  8947],\n",
       "       [  282,   164]], dtype=int64)"
      ]
     },
     "execution_count": 140,
     "metadata": {},
     "output_type": "execute_result"
    }
   ],
   "source": [
    "klasyfikacja[0][2]"
   ]
  },
  {
   "cell_type": "code",
   "execution_count": 135,
   "metadata": {},
   "outputs": [
    {
     "data": {
      "text/plain": [
       "446"
      ]
     },
     "execution_count": 135,
     "metadata": {},
     "output_type": "execute_result"
    }
   ],
   "source": [
    "klasyfikacja[0][0][1][0]"
   ]
  },
  {
   "cell_type": "code",
   "execution_count": 154,
   "metadata": {},
   "outputs": [
    {
     "data": {
      "text/plain": [
       "<matplotlib.legend.Legend at 0x1e0a78f1780>"
      ]
     },
     "execution_count": 154,
     "metadata": {},
     "output_type": "execute_result"
    },
    {
     "data": {
      "image/png": "[encoded data removed]",
      "text/plain": [
       "<matplotlib.figure.Figure at 0x1e0a7541be0>"
      ]
     },
     "metadata": {},
     "output_type": "display_data"
    }
   ],
   "source": [
    "plt.plot(list(range(1, 11)), average_fitness, label='Średnia')\n",
    "plt.plot(list(range(1, 11)), minimum_fitness, label='Minimum')\n",
    "plt.plot(list(range(1, 11)), maximum_fitness, label='Maksimum')\n",
    "plt.xlabel('Liczba iteracji')\n",
    "plt.ylabel('Wartość funkcji przystosowania')\n",
    "plt.legend()"
   ]
  },
  {
   "cell_type": "code",
   "execution_count": 23,
   "metadata": {
    "collapsed": true
   },
   "outputs": [],
   "source": [
    "best_chromosom = [3,   0, 392,   3,  22]\n",
    "f_aktywacji = {1:'logistic', 2:'tanh', 3:'relu'}\n",
    "wsp_uczenia = {0:'constant', 1:'invscaling'}    \n",
    "best_warstwy = tuple(np.ones(best_chromosom[3], dtype=int)*best_chromosom[4])\n",
    "final_mlp = MLPClassifier(hidden_layer_sizes=best_warstwy, activation=f_aktywacji[best_chromosom[0]],\\\n",
    "                        learning_rate=wsp_uczenia[best_chromosom[1]], solver='sgd', \\\n",
    "                          learning_rate_init = 1/(2*best_chromosom[2]), \\\n",
    "                          random_state=42)\n",
    "final_mlp.fit(X_train_sc, Y_train)\n",
    "final_prognoza = final_mlp.predict(X_test_sc)\n",
    "final_macierz = confusion_matrix(Y_test, final_prognoza)\n"
   ]
  },
  {
   "cell_type": "code",
   "execution_count": 24,
   "metadata": {},
   "outputs": [
    {
     "data": {
      "text/plain": [
       "-22.053962036262128"
      ]
     },
     "execution_count": 24,
     "metadata": {},
     "output_type": "execute_result"
    }
   ],
   "source": [
    "r2_score(Y_test, final_prognoza)"
   ]
  },
  {
   "cell_type": "code",
   "execution_count": 25,
   "metadata": {},
   "outputs": [
    {
     "name": "stdout",
     "output_type": "stream",
     "text": [
      "[[45985 10137]\n",
      " [   64   382]]\n"
     ]
    }
   ],
   "source": [
    "print(final_macierz)"
   ]
  },
  {
   "cell_type": "code",
   "execution_count": 26,
   "metadata": {},
   "outputs": [
    {
     "name": "stdout",
     "output_type": "stream",
     "text": [
      "             precision    recall  f1-score   support\n",
      "\n",
      "          0       1.00      0.82      0.90     56122\n",
      "          1       0.04      0.86      0.07       446\n",
      "\n",
      "avg / total       0.99      0.82      0.89     56568\n",
      "\n"
     ]
    }
   ],
   "source": [
    "print(classification_report(Y_test, final_prognoza))"
   ]
  },
  {
   "cell_type": "code",
   "execution_count": 80,
   "metadata": {
    "collapsed": true
   },
   "outputs": [],
   "source": [
    "from sklearn.metrics import roc_auc_score, roc_curve"
   ]
  },
  {
   "cell_type": "code",
   "execution_count": 86,
   "metadata": {
    "collapsed": true
   },
   "outputs": [],
   "source": [
    "roc_auc_score(Y_test, final_prognoza)\n",
    "fpr, tpr, thresholds = roc_curve(Y_test, final_prognoza, pos_label=1)"
   ]
  },
  {
   "cell_type": "code",
   "execution_count": 87,
   "metadata": {},
   "outputs": [
    {
     "data": {
      "text/plain": [
       "array([ 0.        ,  0.18062435,  1.        ])"
      ]
     },
     "execution_count": 87,
     "metadata": {},
     "output_type": "execute_result"
    }
   ],
   "source": [
    "fpr"
   ]
  },
  {
   "cell_type": "code",
   "execution_count": 88,
   "metadata": {},
   "outputs": [
    {
     "data": {
      "text/plain": [
       "array([ 0.        ,  0.85650224,  1.        ])"
      ]
     },
     "execution_count": 88,
     "metadata": {},
     "output_type": "execute_result"
    }
   ],
   "source": [
    "tpr"
   ]
  },
  {
   "cell_type": "code",
   "execution_count": 79,
   "metadata": {},
   "outputs": [
    {
     "data": {
      "text/plain": [
       "0.81881512777336629"
      ]
     },
     "execution_count": 79,
     "metadata": {},
     "output_type": "execute_result"
    }
   ],
   "source": [
    "roc_auc_score(Y_test, pred)"
   ]
  },
  {
   "cell_type": "code",
   "execution_count": 31,
   "metadata": {},
   "outputs": [
    {
     "data": {
      "text/plain": [
       "5301.6999999999998"
      ]
     },
     "execution_count": 31,
     "metadata": {},
     "output_type": "execute_result"
    }
   ],
   "source": [
    "final_w = np.array([final_macierz[1][1], final_macierz[0][1], final_macierz[0][0], final_macierz[1][0]])\n",
    "funkcjaZysku(final_w)"
   ]
  },
  {
   "cell_type": "code",
   "execution_count": 32,
   "metadata": {
    "collapsed": true
   },
   "outputs": [],
   "source": [
    "prob_prog = final_mlp.predict_proba(X_test_sc)"
   ]
  },
  {
   "cell_type": "markdown",
   "metadata": {},
   "source": [
    "Gains Chart:"
   ]
  },
  {
   "cell_type": "code",
   "execution_count": 57,
   "metadata": {
    "collapsed": true
   },
   "outputs": [],
   "source": [
    "# siec\n",
    "score = prob_prog[:, 1]\n",
    "pos = pd.get_dummies(Y_test).as_matrix()[:, 1]\n",
    "npos = np.sum(pos)\n",
    "index = np.argsort(score)\n",
    "index = index[::-1]\n",
    "sort_pos=pos[index]\n",
    "cpos = np.cumsum(sort_pos)\n",
    "recall = cpos/npos\n",
    "n = Y_test.shape[0]\n",
    "random = np.arange(start=1, stop=n+1, step=1)\n",
    "random = random/n"
   ]
  },
  {
   "cell_type": "code",
   "execution_count": 70,
   "metadata": {
    "collapsed": true
   },
   "outputs": [],
   "source": [
    "lr_pred_prob = linreg.predict_proba(X_test_sc)"
   ]
  },
  {
   "cell_type": "code",
   "execution_count": 71,
   "metadata": {
    "collapsed": true
   },
   "outputs": [],
   "source": [
    "# regresja\n",
    "score2 = lr_pred_prob[:, 1]\n",
    "index2 = np.argsort(score2)\n",
    "index2 = index2[::-1]\n",
    "sort_pos2 = pos[index2]\n",
    "cpos = np.cumsum(sort_pos2)\n",
    "recall2 = cpos/npos"
   ]
  },
  {
   "cell_type": "code",
   "execution_count": 72,
   "metadata": {},
   "outputs": [
    {
     "data": {
      "text/plain": [
       "<matplotlib.legend.Legend at 0x1e225b54940>"
      ]
     },
     "execution_count": 72,
     "metadata": {},
     "output_type": "execute_result"
    },
    {
     "data": {
      "image/png": "[encoded data removed]",
      "text/plain": [
       "<matplotlib.figure.Figure at 0x1e225a0de10>"
      ]
     },
     "metadata": {},
     "output_type": "display_data"
    }
   ],
   "source": [
    "plt.title('Gains Chart')\n",
    "plt.xlabel('Wsparcie')\n",
    "plt.ylabel('Czułość')\n",
    "plt.xlim(0,1)\n",
    "plt.ylim(0,1)\n",
    "plt.scatter(random, random, marker='.', color='blue', s=0.1)\n",
    "plt.scatter(random, recall, marker='.', color='red', s=0.1)\n",
    "plt.scatter(random, recall2, marker='.', color='green', s=0.1)\n",
    "plt.legend(('Random', 'Sieć', 'Regresja'), markerscale=20)"
   ]
  },
  {
   "cell_type": "code",
   "execution_count": 65,
   "metadata": {
    "collapsed": true
   },
   "outputs": [],
   "source": [
    "?plt.legend"
   ]
  },
  {
   "cell_type": "code",
   "execution_count": 202,
   "metadata": {},
   "outputs": [
    {
     "data": {
      "text/plain": [
       "0.99999999999999711"
      ]
     },
     "execution_count": 202,
     "metadata": {},
     "output_type": "execute_result"
    }
   ],
   "source": [
    "max(prob_prog[:,1])"
   ]
  },
  {
   "cell_type": "code",
   "execution_count": 33,
   "metadata": {},
   "outputs": [
    {
     "data": {
      "text/plain": [
       "range(0, 56568)"
      ]
     },
     "execution_count": 33,
     "metadata": {},
     "output_type": "execute_result"
    }
   ],
   "source": [
    "range(np.shape(prob_prog)[0])"
   ]
  },
  {
   "cell_type": "code",
   "execution_count": 40,
   "metadata": {},
   "outputs": [
    {
     "data": {
      "text/plain": [
       "array([[ 0.64117417,  0.35882583],\n",
       "       [ 0.98359912,  0.01640088],\n",
       "       [ 0.40696616,  0.59303384],\n",
       "       ..., \n",
       "       [ 0.13076667,  0.86923333],\n",
       "       [ 0.99424019,  0.00575981],\n",
       "       [ 0.94391609,  0.05608391]])"
      ]
     },
     "execution_count": 40,
     "metadata": {},
     "output_type": "execute_result"
    }
   ],
   "source": [
    "prob_prog"
   ]
  },
  {
   "cell_type": "code",
   "execution_count": 42,
   "metadata": {
    "collapsed": true
   },
   "outputs": [],
   "source": [
    "%matplotlib inline"
   ]
  },
  {
   "cell_type": "code",
   "execution_count": 46,
   "metadata": {},
   "outputs": [
    {
     "data": {
      "image/png": "[encoded data removed]",
      "text/plain": [
       "<matplotlib.figure.Figure at 0x1e225509f60>"
      ]
     },
     "metadata": {},
     "output_type": "display_data"
    }
   ],
   "source": [
    "plt.hist(prob_prog[:, 1], bins = 20)\n",
    "plt.show()"
   ]
  },
  {
   "cell_type": "code",
   "execution_count": 208,
   "metadata": {
    "collapsed": true
   },
   "outputs": [],
   "source": [
    "prob_prog_sorted = prob_prog[:, 1].sort()"
   ]
  },
  {
   "cell_type": "code",
   "execution_count": 171,
   "metadata": {},
   "outputs": [
    {
     "data": {
      "text/plain": [
       "array([[-0.21712122, -0.23324006, -0.02656915,  0.44395918, -0.27299334,\n",
       "         0.36388413,  0.02121038, -0.29186023, -0.3442812 , -0.1276517 ,\n",
       "         0.15946967, -0.33098294,  0.04755861,  0.23261608,  0.16130889,\n",
       "        -0.33125724, -0.35123135, -0.27396393,  0.3745431 , -0.16252066,\n",
       "        -0.05291469,  0.21880497],\n",
       "       [ 0.04929124,  0.17480185, -0.28440869, -0.37636645,  0.31070505,\n",
       "         0.10554802,  0.08591479,  0.1040808 ,  0.13905684,  0.28875574,\n",
       "         0.11990177,  0.37115774,  0.12454246, -0.14842943, -0.22400251,\n",
       "        -0.02942156,  0.15520178,  0.30512955, -0.37527208, -0.32008186,\n",
       "        -0.22482279, -0.0939043 ],\n",
       "       [-0.20644796, -0.00153526,  0.29497455, -0.1511691 ,  0.03042625,\n",
       "        -0.28000651,  0.10065199, -0.0857047 , -0.11515922,  0.06542647,\n",
       "         0.09239305, -0.02393263, -0.22956951,  0.01148735, -0.33464678,\n",
       "         0.33951944, -0.32437664,  0.33514893, -0.13757996,  0.1977667 ,\n",
       "        -0.29863876, -0.10373079],\n",
       "       [-0.02291989,  0.2994222 , -0.35599549, -0.00911377,  0.17282664,\n",
       "        -0.08220074, -0.29982595, -0.16256695, -0.12674657, -0.19841416,\n",
       "        -0.21195392, -0.2042278 ,  0.00512198, -0.43398779, -0.18657555,\n",
       "         0.39076724,  0.05406177, -0.10834562, -0.14783435, -0.03315114,\n",
       "        -0.22127905,  0.01950851],\n",
       "       [ 0.38884843, -0.2547936 ,  0.17980595,  0.08916422, -0.07226301,\n",
       "        -0.00680061, -0.09739147, -0.0392092 ,  0.18212019,  0.03276163,\n",
       "        -0.1319759 , -0.2104286 , -0.27485211,  0.23005118, -0.01619746,\n",
       "        -0.2189068 ,  0.10227525, -0.1336832 ,  0.05660387, -0.21487741,\n",
       "        -0.25293687, -0.16817424],\n",
       "       [ 0.22646279,  0.22811408,  0.06794035, -0.12458642,  0.27102544,\n",
       "        -0.13424596, -0.19613682,  0.20876946, -0.10827176, -0.3125017 ,\n",
       "         0.04807631,  0.29259455, -0.18882421,  0.00947874, -0.17742829,\n",
       "        -0.04917126,  0.24011845, -0.04186272,  0.33889612, -0.30330454,\n",
       "        -0.11683154,  0.40001542],\n",
       "       [ 0.12264317,  0.33677389, -0.07313513, -0.07132768,  0.16426984,\n",
       "         0.0348824 , -0.33373153, -0.03389959, -0.31020299, -0.07508872,\n",
       "         0.22122822, -0.00097428, -0.02128482,  0.01989838, -0.25255139,\n",
       "        -0.21378198,  0.24325098,  0.15712418,  0.00753534,  0.08410842,\n",
       "         0.1541721 , -0.2526861 ],\n",
       "       [-0.34661349,  0.35131638, -0.26214155,  0.31053218,  0.13737695,\n",
       "        -0.17890065, -0.19565255,  0.10474409,  0.06330073, -0.31016304,\n",
       "         0.13316763,  0.04454395, -0.18247591, -0.01063232, -0.1519119 ,\n",
       "         0.28969177, -0.33236549,  0.31636949,  0.26780404,  0.16401386,\n",
       "         0.07433387,  0.10915884],\n",
       "       [ 0.03256335, -0.00402354,  0.2309402 ,  0.07112205,  0.02869229,\n",
       "         0.36690705, -0.27060762, -0.16573551,  0.20985956, -0.34250461,\n",
       "         0.12667313,  0.11315131,  0.33414076,  0.3031648 , -0.15348493,\n",
       "        -0.16711435, -0.05593115,  0.21664085,  0.348476  ,  0.24840616,\n",
       "         0.21936156, -0.0559142 ],\n",
       "       [-0.2341542 , -0.18475173, -0.0309225 , -0.40239877,  0.2473509 ,\n",
       "         0.34298594, -0.04685489,  0.18622981,  0.31063592, -0.3850902 ,\n",
       "        -0.17825952,  0.08242695,  0.36972179, -0.33945841,  0.20313199,\n",
       "         0.23817653, -0.04868543, -0.15034393, -0.41617485, -0.034703  ,\n",
       "        -0.3636785 , -0.21522358],\n",
       "       [ 0.02775547,  0.22684995, -0.34876112,  0.16296791, -0.20016216,\n",
       "         0.1279354 , -0.28375962, -0.23015771,  0.06671729,  0.28289456,\n",
       "        -0.03895292,  0.33278997, -0.00077937, -0.14505935,  0.02324276,\n",
       "         0.31668991,  0.18065103, -0.36560405, -0.2580059 , -0.03149146,\n",
       "        -0.20550877,  0.26230607],\n",
       "       [ 0.26479513,  0.1472317 , -0.29219285, -0.05041132, -0.34357289,\n",
       "         0.34163356,  0.19323396, -0.31133403,  0.0314919 ,  0.13594004,\n",
       "        -0.23217062, -0.1993247 , -0.07143409, -0.23854172,  0.00954989,\n",
       "        -0.18173574,  0.24975815,  0.32694086,  0.37831236, -0.14063523,\n",
       "        -0.34990883, -0.28840658],\n",
       "       [-0.10589563,  0.24945684, -0.21658546, -0.03537103, -0.06203311,\n",
       "        -0.30502417,  0.2710631 , -0.27200165,  0.13832693,  0.2466016 ,\n",
       "        -0.34384012, -0.23585278, -0.17949449,  0.00908754,  0.07087369,\n",
       "        -0.01576043, -0.37227573, -0.10436577,  0.02182737, -0.08722998,\n",
       "        -0.01512888,  0.18210739],\n",
       "       [-0.23794432, -0.37188167, -0.07662045, -0.09189533,  0.01213188,\n",
       "         0.29853681,  0.27581233,  0.32035752, -0.26449928,  0.43808899,\n",
       "        -0.04934402, -0.32553742, -0.02179473,  0.16657308,  0.29750421,\n",
       "        -0.23358515, -0.36009487,  0.10043558, -0.17796268, -0.15709105,\n",
       "         0.11143494,  0.12324795],\n",
       "       [ 0.35140035,  0.17057794,  0.02016207,  0.18919335, -0.41435291,\n",
       "         0.28700094, -0.15348654,  0.25231697,  0.20957295,  0.13795298,\n",
       "        -0.13987395,  0.3605065 ,  0.27285595,  0.00946637,  0.27351259,\n",
       "         0.07893598,  0.21463786,  0.20649106,  0.34572255, -0.27064037,\n",
       "        -0.34233094,  0.08397868],\n",
       "       [-0.31727387,  0.00460535,  0.08327508,  0.01669629, -0.00803016,\n",
       "         0.36398278, -0.34580687,  0.13059105, -0.32515153,  0.1253857 ,\n",
       "        -0.22584626,  0.3183464 , -0.20414924, -0.26801418, -0.10700042,\n",
       "         0.24719399, -0.13496891, -0.13238541, -0.14167715,  0.20622504,\n",
       "        -0.27401415,  0.04229218],\n",
       "       [ 0.23121061,  0.21310276,  0.02299857, -0.02276928,  0.18166935,\n",
       "        -0.22074285,  0.04790359, -0.05558159,  0.10258849, -0.12748021,\n",
       "         0.36605894,  0.13710419, -0.18452805,  0.39351094,  0.05276518,\n",
       "         0.30409404, -0.15178066,  0.3121167 ,  0.43133319,  0.15590454,\n",
       "        -0.07360201,  0.18409826],\n",
       "       [ 0.42220311, -0.15873057,  0.30610434,  0.05635394, -0.35339142,\n",
       "        -0.36726549,  0.03132153,  0.26910288, -0.04629626, -0.01197159,\n",
       "         0.31392613, -0.01122031,  0.22919263,  0.29117183,  0.31459817,\n",
       "        -0.36947424,  0.13386997, -0.09427717,  0.31962312,  0.00840155,\n",
       "        -0.28808719, -0.13826436],\n",
       "       [-0.27285253, -0.10168786,  0.24710319,  0.26022015,  0.20100902,\n",
       "         0.3206264 ,  0.05785062, -0.05111027,  0.02377781,  0.34498038,\n",
       "         0.30356232,  0.34024595, -0.26863703,  0.20183799,  0.23314567,\n",
       "        -0.31742941, -0.27729361,  0.26509293, -0.15947499, -0.24241433,\n",
       "         0.1802725 ,  0.06376138],\n",
       "       [-0.25171416,  0.25028163,  0.10324839,  0.35585136, -0.32307687,\n",
       "        -0.21100361,  0.2331227 , -0.06104976, -0.07256269, -0.11177082,\n",
       "        -0.0467288 ,  0.37787712, -0.3601196 , -0.23024386,  0.3135454 ,\n",
       "         0.32252867,  0.27822712, -0.3401059 ,  0.42268245,  0.10881725,\n",
       "        -0.21356492,  0.15277656],\n",
       "       [ 0.11584327, -0.02399249, -0.24836595,  0.32140331, -0.21497588,\n",
       "         0.0622808 , -0.35802342, -0.18515682,  0.0817071 ,  0.18730469,\n",
       "        -0.00611391, -0.24229156, -0.32483159, -0.21150872, -0.26922322,\n",
       "        -0.34682388, -0.12698406,  0.34817906,  0.17016101,  0.26042289,\n",
       "         0.14559246, -0.23015772],\n",
       "       [ 0.24407224, -0.11597834,  0.27486067, -0.28938563, -0.24839261,\n",
       "         0.00594824,  0.2939895 , -0.0201672 ,  0.09533104, -0.28307001,\n",
       "         0.12963953, -0.3210662 ,  0.22415916,  0.21981787, -0.07081166,\n",
       "         0.32683044,  0.17715785,  0.35466816, -0.40648482,  0.0450772 ,\n",
       "         0.08664861,  0.07041602]])"
      ]
     },
     "execution_count": 171,
     "metadata": {},
     "output_type": "execute_result"
    }
   ],
   "source": [
    "final_mlp.coefs_[1]"
   ]
  },
  {
   "cell_type": "code",
   "execution_count": 178,
   "metadata": {
    "collapsed": true
   },
   "outputs": [],
   "source": [
    "li = {}\n",
    "lh = {}\n",
    "ln = {}\n",
    "for i in range(0, 10):\n",
    "    lij = []\n",
    "    lhj = []\n",
    "    lnj = []\n",
    "    for j in zb_pop[i]:\n",
    "        lij.append(zb_pop[i][j][2])\n",
    "        lhj.append(zb_pop[i][j][3])\n",
    "        lnj.append(zb_pop[i][j][4])\n",
    "    li[i] = lij\n",
    "    lh[i] = lhj\n",
    "    ln[i] = lnj"
   ]
  },
  {
   "cell_type": "code",
   "execution_count": 182,
   "metadata": {},
   "outputs": [
    {
     "data": {
      "text/plain": [
       "{0: [4, 3, 3, 2, 3, 5, 3, 3, 4, 4],\n",
       " 1: [3, 3, 3, 3, 3, 3, 3, 3, 2, 3],\n",
       " 2: [3, 3, 3, 3, 2, 3, 3, 3, 3, 3],\n",
       " 3: [3, 3, 3, 3, 2, 3, 3, 3, 3, 3],\n",
       " 4: [3, 3, 5, 3, 3, 3, 3, 3, 3, 3],\n",
       " 5: [3, 5, 3, 3, 3, 5, 5, 3, 3, 3],\n",
       " 6: [5, 5, 3, 3, 3, 5, 3, 5, 3, 3],\n",
       " 7: [3, 3, 3, 3, 3, 3, 5, 3, 5, 3],\n",
       " 8: [3, 3, 3, 3, 3, 3, 3, 3, 5, 3],\n",
       " 9: [3, 3, 3, 3, 3, 5, 3, 2, 4, 3]}"
      ]
     },
     "execution_count": 182,
     "metadata": {},
     "output_type": "execute_result"
    }
   ],
   "source": [
    "lh"
   ]
  },
  {
   "cell_type": "code",
   "execution_count": 180,
   "metadata": {
    "collapsed": true
   },
   "outputs": [],
   "source": [
    "df_lh = pd.DataFrame(lh)"
   ]
  },
  {
   "cell_type": "code",
   "execution_count": 181,
   "metadata": {},
   "outputs": [
    {
     "data": {
      "text/html": [
       "<div>\n",
       "<style>\n",
       "    .dataframe thead tr:only-child th {\n",
       "        text-align: right;\n",
       "    }\n",
       "\n",
       "    .dataframe thead th {\n",
       "        text-align: left;\n",
       "    }\n",
       "\n",
       "    .dataframe tbody tr th {\n",
       "        vertical-align: top;\n",
       "    }\n",
       "</style>\n",
       "<table border=\"1\" class=\"dataframe\">\n",
       "  <thead>\n",
       "    <tr style=\"text-align: right;\">\n",
       "      <th></th>\n",
       "      <th>0</th>\n",
       "      <th>1</th>\n",
       "      <th>2</th>\n",
       "      <th>3</th>\n",
       "      <th>4</th>\n",
       "      <th>5</th>\n",
       "      <th>6</th>\n",
       "      <th>7</th>\n",
       "      <th>8</th>\n",
       "      <th>9</th>\n",
       "    </tr>\n",
       "  </thead>\n",
       "  <tbody>\n",
       "    <tr>\n",
       "      <th>0</th>\n",
       "      <td>4</td>\n",
       "      <td>3</td>\n",
       "      <td>3</td>\n",
       "      <td>3</td>\n",
       "      <td>3</td>\n",
       "      <td>3</td>\n",
       "      <td>5</td>\n",
       "      <td>3</td>\n",
       "      <td>3</td>\n",
       "      <td>3</td>\n",
       "    </tr>\n",
       "    <tr>\n",
       "      <th>1</th>\n",
       "      <td>3</td>\n",
       "      <td>3</td>\n",
       "      <td>3</td>\n",
       "      <td>3</td>\n",
       "      <td>3</td>\n",
       "      <td>5</td>\n",
       "      <td>5</td>\n",
       "      <td>3</td>\n",
       "      <td>3</td>\n",
       "      <td>3</td>\n",
       "    </tr>\n",
       "    <tr>\n",
       "      <th>2</th>\n",
       "      <td>3</td>\n",
       "      <td>3</td>\n",
       "      <td>3</td>\n",
       "      <td>3</td>\n",
       "      <td>5</td>\n",
       "      <td>3</td>\n",
       "      <td>3</td>\n",
       "      <td>3</td>\n",
       "      <td>3</td>\n",
       "      <td>3</td>\n",
       "    </tr>\n",
       "    <tr>\n",
       "      <th>3</th>\n",
       "      <td>2</td>\n",
       "      <td>3</td>\n",
       "      <td>3</td>\n",
       "      <td>3</td>\n",
       "      <td>3</td>\n",
       "      <td>3</td>\n",
       "      <td>3</td>\n",
       "      <td>3</td>\n",
       "      <td>3</td>\n",
       "      <td>3</td>\n",
       "    </tr>\n",
       "    <tr>\n",
       "      <th>4</th>\n",
       "      <td>3</td>\n",
       "      <td>3</td>\n",
       "      <td>2</td>\n",
       "      <td>2</td>\n",
       "      <td>3</td>\n",
       "      <td>3</td>\n",
       "      <td>3</td>\n",
       "      <td>3</td>\n",
       "      <td>3</td>\n",
       "      <td>3</td>\n",
       "    </tr>\n",
       "    <tr>\n",
       "      <th>5</th>\n",
       "      <td>5</td>\n",
       "      <td>3</td>\n",
       "      <td>3</td>\n",
       "      <td>3</td>\n",
       "      <td>3</td>\n",
       "      <td>5</td>\n",
       "      <td>5</td>\n",
       "      <td>3</td>\n",
       "      <td>3</td>\n",
       "      <td>5</td>\n",
       "    </tr>\n",
       "    <tr>\n",
       "      <th>6</th>\n",
       "      <td>3</td>\n",
       "      <td>3</td>\n",
       "      <td>3</td>\n",
       "      <td>3</td>\n",
       "      <td>3</td>\n",
       "      <td>5</td>\n",
       "      <td>3</td>\n",
       "      <td>5</td>\n",
       "      <td>3</td>\n",
       "      <td>3</td>\n",
       "    </tr>\n",
       "    <tr>\n",
       "      <th>7</th>\n",
       "      <td>3</td>\n",
       "      <td>3</td>\n",
       "      <td>3</td>\n",
       "      <td>3</td>\n",
       "      <td>3</td>\n",
       "      <td>3</td>\n",
       "      <td>5</td>\n",
       "      <td>3</td>\n",
       "      <td>3</td>\n",
       "      <td>2</td>\n",
       "    </tr>\n",
       "    <tr>\n",
       "      <th>8</th>\n",
       "      <td>4</td>\n",
       "      <td>2</td>\n",
       "      <td>3</td>\n",
       "      <td>3</td>\n",
       "      <td>3</td>\n",
       "      <td>3</td>\n",
       "      <td>3</td>\n",
       "      <td>5</td>\n",
       "      <td>5</td>\n",
       "      <td>4</td>\n",
       "    </tr>\n",
       "    <tr>\n",
       "      <th>9</th>\n",
       "      <td>4</td>\n",
       "      <td>3</td>\n",
       "      <td>3</td>\n",
       "      <td>3</td>\n",
       "      <td>3</td>\n",
       "      <td>3</td>\n",
       "      <td>3</td>\n",
       "      <td>3</td>\n",
       "      <td>3</td>\n",
       "      <td>3</td>\n",
       "    </tr>\n",
       "  </tbody>\n",
       "</table>\n",
       "</div>"
      ],
      "text/plain": [
       "   0  1  2  3  4  5  6  7  8  9\n",
       "0  4  3  3  3  3  3  5  3  3  3\n",
       "1  3  3  3  3  3  5  5  3  3  3\n",
       "2  3  3  3  3  5  3  3  3  3  3\n",
       "3  2  3  3  3  3  3  3  3  3  3\n",
       "4  3  3  2  2  3  3  3  3  3  3\n",
       "5  5  3  3  3  3  5  5  3  3  5\n",
       "6  3  3  3  3  3  5  3  5  3  3\n",
       "7  3  3  3  3  3  3  5  3  3  2\n",
       "8  4  2  3  3  3  3  3  5  5  4\n",
       "9  4  3  3  3  3  3  3  3  3  3"
      ]
     },
     "execution_count": 181,
     "metadata": {},
     "output_type": "execute_result"
    }
   ],
   "source": [
    "df_lh"
   ]
  },
  {
   "cell_type": "code",
   "execution_count": 177,
   "metadata": {},
   "outputs": [
    {
     "data": {
      "text/plain": [
       "{0: array([  1,   0, 985,   4,  21]),\n",
       " 1: array([  1,   0, 970,   3,  54]),\n",
       " 2: array([  3,   1, 753,   3,  81]),\n",
       " 3: array([  3,   0, 392,   2,  22]),\n",
       " 4: array([  1,   1, 895,   3,  11]),\n",
       " 5: array([  1,   0, 469,   5,  90]),\n",
       " 6: array([  1,   0, 512,   3,  98]),\n",
       " 7: array([  3,   1, 711,   3,  44]),\n",
       " 8: array([  1,   1, 126,   4, 103]),\n",
       " 9: array([  3,   1, 335,   4, 114])}"
      ]
     },
     "execution_count": 177,
     "metadata": {},
     "output_type": "execute_result"
    }
   ],
   "source": [
    "zb_pop[0]"
   ]
  },
  {
   "cell_type": "code",
   "execution_count": 22,
   "metadata": {
    "collapsed": true
   },
   "outputs": [],
   "source": [
    "def siec2(chromosom):\n",
    "    '''\n",
    "    \n",
    "    Funkcja tworząca nową sieć na podstawie otrzymanego chromosomu\n",
    "    Parametry:\n",
    "     - chromosom\n",
    "     \n",
    "    Zwraca:\n",
    "     - macierz - macierz błędu\\trafności \n",
    "    \n",
    "    '''\n",
    "    f_aktywacji = {1:'logistic', 2:'tanh', 3:'relu'}\n",
    "    wsp_uczenia = {0:'constant', 1:'invscaling'}\n",
    "    warstwy = tuple(np.ones(chromosom[3], dtype=int)*chromosom[4])\n",
    "    mlp = MLPClassifier(hidden_layer_sizes=warstwy, activation=f_aktywacji[chromosom[0]],\\\n",
    "                        learning_rate=wsp_uczenia[chromosom[1]], solver='sgd', learning_rate_init = 1/(2*chromosom[2])\\\n",
    "                        , random_state=42)\n",
    "    \n",
    "    mlp.fit(X_train_sc, Y_train)\n",
    "    prognoza = mlp.predict(X_test_sc)\n",
    "    macierz = confusion_matrix(Y_test, prognoza)\n",
    "    r2 = r2_score(Y_test, prognoza)\n",
    "\n",
    "    return r2, macierz"
   ]
  },
  {
   "cell_type": "code",
   "execution_count": 32,
   "metadata": {},
   "outputs": [
    {
     "data": {
      "text/plain": [
       "array([0, 0, 1, 0, 1, 1, 0, 0, 0, 0, 1, 0, 0, 0, 1, 0, 0, 0, 0, 0, 0, 0, 0], dtype=int64)"
      ]
     },
     "execution_count": 32,
     "metadata": {},
     "output_type": "execute_result"
    }
   ],
   "source": [
    "final_prognoza[:23]"
   ]
  },
  {
   "cell_type": "code",
   "execution_count": 33,
   "metadata": {},
   "outputs": [
    {
     "data": {
      "text/plain": [
       "array([0, 0, 0, 0, 0, 0, 0, 0, 0, 0, 0, 0, 0, 0, 0, 0, 0, 0, 0, 0, 0, 0, 0], dtype=int64)"
      ]
     },
     "execution_count": 33,
     "metadata": {},
     "output_type": "execute_result"
    }
   ],
   "source": [
    "Y_test[:23].values"
   ]
  },
  {
   "cell_type": "code",
   "execution_count": 34,
   "metadata": {},
   "outputs": [
    {
     "data": {
      "text/plain": [
       "0    56122\n",
       "1      446\n",
       "Name: event, dtype: int64"
      ]
     },
     "execution_count": 34,
     "metadata": {},
     "output_type": "execute_result"
    }
   ],
   "source": [
    "Y_test.value_counts()"
   ]
  },
  {
   "cell_type": "code",
   "execution_count": 41,
   "metadata": {},
   "outputs": [
    {
     "data": {
      "text/plain": [
       "10519"
      ]
     },
     "execution_count": 41,
     "metadata": {},
     "output_type": "execute_result"
    }
   ],
   "source": [
    "sum(final_prognoza)"
   ]
  },
  {
   "cell_type": "code",
   "execution_count": null,
   "metadata": {
    "collapsed": true
   },
   "outputs": [],
   "source": []
  }
 ],
 "metadata": {
  "kernelspec": {
   "display_name": "Python 3",
   "language": "python",
   "name": "python3"
  },
  "language_info": {
   "codemirror_mode": {
    "name": "ipython",
    "version": 3
   },
   "file_extension": ".py",
   "mimetype": "text/x-python",
   "name": "python",
   "nbconvert_exporter": "python",
   "pygments_lexer": "ipython3",
   "version": "3.7.2"
  }
 },
 "nbformat": 4,
 "nbformat_minor": 2
}
