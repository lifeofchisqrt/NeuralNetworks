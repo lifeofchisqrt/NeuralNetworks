{
 "cells": [
  {
   "cell_type": "code",
   "execution_count": 1,
   "metadata": {
    "collapsed": true
   },
   "outputs": [],
   "source": [
    "import numpy as np\n",
    "import pandas as pd\n",
    "import matplotlib.pyplot as plt\n",
    "import seaborn as sns\n",
    "from sklearn.model_selection import train_test_split \n",
    "%matplotlib inline"
   ]
  },
  {
   "cell_type": "code",
   "execution_count": 2,
   "metadata": {
    "collapsed": true
   },
   "outputs": [],
   "source": [
    "dataset = pd.read_csv('msc_dataset.txt', sep=\"\\t\")"
   ]
  },
  {
   "cell_type": "code",
   "execution_count": 3,
   "metadata": {
    "scrolled": true
   },
   "outputs": [
    {
     "data": {
      "text/plain": [
       "Index(['TRX_aff_L12M_COL_PTS', 'TRX_aff_L12M_PUR_AMT', 'TRX_aff_L12M_RED_CNT',\n",
       "       'TRX_aff_L12M_RED_PTS', 'TRX_aff_L3M_BASE_PTS', 'TRX_aff_L3M_COL_CNT',\n",
       "       'TRX_aff_L3M_PROMO_PTS', 'TRX_aff_L3M_PUR_AMT', 'TRX_aff_L3M_RED_CNT',\n",
       "       'TRX_aff_L3M_RED_PTS', 'TRX_all_L12M_PROMO_PTS', 'TRX_all_L12M_PUR_AMT',\n",
       "       'TRX_all_L12M_PUR_PTS', 'TRX_all_L12M_RED_CNT', 'TRX_all_L12M_RED_PTS',\n",
       "       'TRX_all_L3M_BASE_PTS', 'TRX_all_L3M_COL_CNT', 'TRX_all_L3M_PROMO_PTS',\n",
       "       'TRX_all_L3M_PUR_AMT', 'TRX_all_L3M_RED_CNT', 'TRX_all_L3M_RED_PTS',\n",
       "       'ACCT_BAL_MOD_CNT', 'ACCT_TOT_COL_AMT', 'ACCT_UNBLOCKED_POINTS',\n",
       "       'TIME_FROM_ENRL', 'TIME_FROM_FIRST_DT', 'TIME_FROM_LAST_DT',\n",
       "       'CARDA_PAYM_CNT', 'ACCT_PTS_EXPIRED', 'ACCT_PTS_TO_EXPIRE',\n",
       "       'CUST_GFK_POPULATION', 'CUST_GFK_HOUSEHOLDS', 'CUST_HH_SIZE',\n",
       "       'CUST_PROFESSION_CD', 'CUST_AGE', 'CUST_GENDER', 'CUST_CA_AAA_FLG',\n",
       "       'CUST_CA_BBB_FLG', 'CUST_CA_CCC_FLG', 'CUST_CA_BBB_KM_CNT',\n",
       "       'CUST_CA_AAA_KM_CNT', 'CUST_CA_CCC_KM_CNT', 'WEB_ALL_UNQ_SES_CNT_L2W',\n",
       "       'WEB_ALL_TIME_SPEND_L2W', 'WEB_ALL_UNQ_SES_CNT_L4W',\n",
       "       'WEB_ALL_TIME_SPEND_L4W', 'WEB_AFF_UNQ_SES_CNT_L2W',\n",
       "       'WEB_AFF_TIME_SPEND_L2W', 'WEB_AFF_UNQ_SES_CNT_L4W',\n",
       "       'WEB_AFF_TIME_SPEND_L4W', 'WEB_HIS_UNQ_SES_CNT_L2W',\n",
       "       'WEB_HIS_TIME_SPEND_L2W', 'WEB_HIS_UNQ_SES_CNT_L4W',\n",
       "       'WEB_HIS_TIME_SPEND_L4W', 'WEB_OCC_UNQ_SES_CNT_L2W',\n",
       "       'WEB_OCC_TIME_SPEND_L2W', 'WEB_OCC_UNQ_SES_CNT_L4W',\n",
       "       'WEB_OCC_TIME_SPEND_L4W', 'WEB_REW_UNQ_SES_CNT_L2W',\n",
       "       'WEB_REW_TIME_SPEND_L2W', 'WEB_REW_UNQ_SES_CNT_L4W',\n",
       "       'WEB_REW_TIME_SPEND_L4W', 'WEB_ALL_UNQ_SES_CNT_L3M',\n",
       "       'WEB_ALL_TIME_SPEND_L3M', 'WEB_ALL_UNQ_SES_CNT_L6M',\n",
       "       'WEB_ALL_TIME_SPEND_L6M', 'WEB_ALL_UNQ_SES_CNT_L12M',\n",
       "       'WEB_ALL_TIME_SPEND_L12M', 'WEB_AFF_UNQ_SES_CNT_L3M',\n",
       "       'WEB_AFF_TIME_SPEND_L3M', 'WEB_AFF_UNQ_SES_CNT_L6M',\n",
       "       'WEB_AFF_TIME_SPEND_L6M', 'WEB_AFF_UNQ_SES_CNT_L12M',\n",
       "       'WEB_AFF_TIME_SPEND_L12M', 'WEB_HIS_UNQ_SES_CNT_L3M',\n",
       "       'WEB_HIS_TIME_SPEND_L3M', 'WEB_HIS_UNQ_SES_CNT_L6M',\n",
       "       'WEB_HIS_TIME_SPEND_L6M', 'WEB_HIS_UNQ_SES_CNT_L12M',\n",
       "       'WEB_HIS_TIME_SPEND_L12M', 'WEB_OCC_UNQ_SES_CNT_L3M',\n",
       "       'WEB_OCC_TIME_SPEND_L3M', 'WEB_OCC_UNQ_SES_CNT_L6M',\n",
       "       'WEB_OCC_TIME_SPEND_L6M', 'WEB_OCC_UNQ_SES_CNT_L12M',\n",
       "       'WEB_OCC_TIME_SPEND_L12M', 'WEB_REW_UNQ_SES_CNT_L3M',\n",
       "       'WEB_REW_TIME_SPEND_L3M', 'WEB_REW_UNQ_SES_CNT_L6M',\n",
       "       'WEB_REW_TIME_SPEND_L6M', 'WEB_REW_UNQ_SES_CNT_L12M',\n",
       "       'WEB_REW_TIME_SPEND_L12M', 'event', 'id', 'oferta', 'kategoria'],\n",
       "      dtype='object')"
      ]
     },
     "execution_count": 3,
     "metadata": {},
     "output_type": "execute_result"
    }
   ],
   "source": [
    "dataset.columns"
   ]
  },
  {
   "cell_type": "code",
   "execution_count": 4,
   "metadata": {},
   "outputs": [
    {
     "ename": "NameError",
     "evalue": "name 'dataset2' is not defined",
     "output_type": "error",
     "traceback": [
      "\u001b[1;31m---------------------------------------------------------------------------\u001b[0m",
      "\u001b[1;31mNameError\u001b[0m                                 Traceback (most recent call last)",
      "\u001b[1;32m<ipython-input-4-590c5b2d36be>\u001b[0m in \u001b[0;36m<module>\u001b[1;34m()\u001b[0m\n\u001b[1;32m----> 1\u001b[1;33m \u001b[0mdataset2\u001b[0m\u001b[1;33m[\u001b[0m\u001b[0mdataset2\u001b[0m\u001b[1;33m.\u001b[0m\u001b[0mcolumns\u001b[0m\u001b[1;33m[\u001b[0m\u001b[1;36m9\u001b[0m\u001b[1;33m:\u001b[0m\u001b[1;36m21\u001b[0m\u001b[1;33m]\u001b[0m\u001b[1;33m]\u001b[0m\u001b[1;33m.\u001b[0m\u001b[0mdescribe\u001b[0m\u001b[1;33m(\u001b[0m\u001b[1;33m)\u001b[0m\u001b[1;33m\u001b[0m\u001b[0m\n\u001b[0m",
      "\u001b[1;31mNameError\u001b[0m: name 'dataset2' is not defined"
     ]
    }
   ],
   "source": [
    "dataset2[dataset2.columns[9:21]].describe()"
   ]
  },
  {
   "cell_type": "code",
   "execution_count": 9,
   "metadata": {},
   "outputs": [
    {
     "data": {
      "text/plain": [
       "'TRX_aff_L3M_BASE_PTS'"
      ]
     },
     "execution_count": 9,
     "metadata": {},
     "output_type": "execute_result"
    }
   ],
   "source": [
    "dataset2.columns[2]"
   ]
  },
  {
   "cell_type": "code",
   "execution_count": 13,
   "metadata": {
    "collapsed": true
   },
   "outputs": [
    {
     "name": "stdout",
     "output_type": "stream",
     "text": [
      "Percentyl 95 dla zmiennej TRX_aff_L12M_COL_PTS wynosi 0.0\n",
      "Percentyl 95 dla zmiennej TRX_aff_L12M_PUR_AMT wynosi 0.0\n",
      "Percentyl 95 dla zmiennej TRX_aff_L3M_BASE_PTS wynosi 0.0\n",
      "Percentyl 95 dla zmiennej TRX_aff_L3M_COL_CNT wynosi 0.0\n",
      "Percentyl 95 dla zmiennej TRX_aff_L3M_PROMO_PTS wynosi 0.0\n",
      "Percentyl 95 dla zmiennej TRX_aff_L3M_PUR_AMT wynosi 0.0\n",
      "Percentyl 95 dla zmiennej TRX_all_L12M_PROMO_PTS wynosi 144.0\n",
      "Percentyl 95 dla zmiennej TRX_all_L12M_PUR_AMT wynosi 1208.0334999999961\n",
      "Percentyl 95 dla zmiennej TRX_all_L12M_PUR_PTS wynosi 486.0\n",
      "Percentyl 95 dla zmiennej TRX_all_L12M_RED_CNT wynosi 0.0\n",
      "Percentyl 95 dla zmiennej TRX_all_L12M_RED_PTS wynosi 0.0\n",
      "Percentyl 95 dla zmiennej TRX_all_L3M_BASE_PTS wynosi 83.0\n",
      "Percentyl 95 dla zmiennej TRX_all_L3M_COL_CNT wynosi 3.0\n",
      "Percentyl 95 dla zmiennej TRX_all_L3M_PROMO_PTS wynosi 0.0\n",
      "Percentyl 95 dla zmiennej TRX_all_L3M_PUR_AMT wynosi 204.1519999999972\n",
      "Percentyl 95 dla zmiennej TRX_all_L3M_RED_CNT wynosi 0.0\n",
      "Percentyl 95 dla zmiennej TRX_all_L3M_RED_PTS wynosi 0.0\n",
      "Percentyl 95 dla zmiennej ACCT_BAL_MOD_CNT wynosi 1425.0\n",
      "Percentyl 95 dla zmiennej ACCT_TOT_COL_AMT wynosi 115414.49999999983\n",
      "Percentyl 95 dla zmiennej ACCT_UNBLOCKED_POINTS wynosi 18501.0\n",
      "Percentyl 95 dla zmiennej TIME_FROM_ENRL wynosi 2735.0\n",
      "Percentyl 95 dla zmiennej TIME_FROM_FIRST_DT wynosi 2736.0\n"
     ]
    }
   ],
   "source": [
    "for i in range(95, 96):\n",
    "    for j in range(0, 22):\n",
    "        print('Percentyl {} dla zmiennej {} wynosi {}'.format(i, dataset2.columns[j], np.percentile(dataset2[dataset2.columns[j]], i)))"
   ]
  },
  {
   "cell_type": "code",
   "execution_count": 5,
   "metadata": {},
   "outputs": [
    {
     "name": "stdout",
     "output_type": "stream",
     "text": [
      "TRX_aff_L12M_COL_PTS \t\t\t 4340\n",
      "TRX_aff_L12M_PUR_AMT \t\t\t 3843\n",
      "TRX_aff_L12M_RED_CNT \t\t\t 0\n",
      "TRX_aff_L12M_RED_PTS \t\t\t 0\n",
      "TRX_aff_L3M_BASE_PTS \t\t\t 3469\n",
      "TRX_aff_L3M_COL_CNT \t\t\t 3997\n",
      "TRX_aff_L3M_PROMO_PTS \t\t\t 3010\n",
      "TRX_aff_L3M_PUR_AMT \t\t\t 3490\n",
      "TRX_aff_L3M_RED_CNT \t\t\t 0\n",
      "TRX_aff_L3M_RED_PTS \t\t\t 0\n",
      "TRX_all_L12M_PROMO_PTS \t\t\t 12900\n",
      "TRX_all_L12M_PUR_AMT \t\t\t 18789\n",
      "TRX_all_L12M_PUR_PTS \t\t\t 18818\n",
      "TRX_all_L12M_RED_CNT \t\t\t 7451\n",
      "TRX_all_L12M_RED_PTS \t\t\t 7441\n",
      "TRX_all_L3M_BASE_PTS \t\t\t 14454\n",
      "TRX_all_L3M_COL_CNT \t\t\t 14764\n",
      "TRX_all_L3M_PROMO_PTS \t\t\t 8463\n",
      "TRX_all_L3M_PUR_AMT \t\t\t 14494\n",
      "TRX_all_L3M_RED_CNT \t\t\t 3441\n",
      "TRX_all_L3M_RED_PTS \t\t\t 3435\n",
      "ACCT_BAL_MOD_CNT \t\t\t 222233\n",
      "ACCT_TOT_COL_AMT \t\t\t 222005\n",
      "ACCT_UNBLOCKED_POINTS \t\t\t 216142\n",
      "TIME_FROM_ENRL \t\t\t 226272\n",
      "TIME_FROM_FIRST_DT \t\t\t 226272\n",
      "TIME_FROM_LAST_DT \t\t\t 226272\n",
      "CARDA_PAYM_CNT \t\t\t 27371\n",
      "ACCT_PTS_EXPIRED \t\t\t 48052\n",
      "ACCT_PTS_TO_EXPIRE \t\t\t 33942\n",
      "CUST_GFK_POPULATION \t\t\t 226272\n",
      "CUST_GFK_HOUSEHOLDS \t\t\t 226272\n",
      "CUST_HH_SIZE \t\t\t 226272\n",
      "CUST_PROFESSION_CD \t\t\t 226272\n",
      "CUST_AGE \t\t\t 226272\n",
      "CUST_GENDER \t\t\t 226272\n",
      "CUST_CA_BBB_KM_CNT \t\t\t 183847\n",
      "CUST_CA_AAA_KM_CNT \t\t\t 216276\n",
      "CUST_CA_CCC_KM_CNT \t\t\t 219766\n",
      "WEB_ALL_UNQ_SES_CNT_L2W \t\t\t 50612\n",
      "WEB_ALL_TIME_SPEND_L2W \t\t\t 45678\n",
      "WEB_ALL_UNQ_SES_CNT_L4W \t\t\t 71914\n",
      "WEB_ALL_TIME_SPEND_L4W \t\t\t 67355\n",
      "WEB_AFF_UNQ_SES_CNT_L2W \t\t\t 26382\n",
      "WEB_AFF_TIME_SPEND_L2W \t\t\t 25519\n",
      "WEB_AFF_UNQ_SES_CNT_L4W \t\t\t 39602\n",
      "WEB_AFF_TIME_SPEND_L4W \t\t\t 38379\n",
      "WEB_HIS_UNQ_SES_CNT_L2W \t\t\t 17932\n",
      "WEB_HIS_TIME_SPEND_L2W \t\t\t 17253\n",
      "WEB_HIS_UNQ_SES_CNT_L4W \t\t\t 29323\n",
      "WEB_HIS_TIME_SPEND_L4W \t\t\t 28345\n",
      "WEB_OCC_UNQ_SES_CNT_L2W \t\t\t 36077\n",
      "WEB_OCC_TIME_SPEND_L2W \t\t\t 34619\n",
      "WEB_OCC_UNQ_SES_CNT_L4W \t\t\t 55296\n",
      "WEB_OCC_TIME_SPEND_L4W \t\t\t 53602\n",
      "WEB_REW_UNQ_SES_CNT_L2W \t\t\t 16155\n",
      "WEB_REW_TIME_SPEND_L2W \t\t\t 14858\n",
      "WEB_REW_UNQ_SES_CNT_L4W \t\t\t 34046\n",
      "WEB_REW_TIME_SPEND_L4W \t\t\t 31559\n",
      "WEB_ALL_UNQ_SES_CNT_L3M \t\t\t 118976\n",
      "WEB_ALL_TIME_SPEND_L3M \t\t\t 111892\n",
      "WEB_ALL_UNQ_SES_CNT_L6M \t\t\t 138532\n",
      "WEB_ALL_TIME_SPEND_L6M \t\t\t 132317\n",
      "WEB_ALL_UNQ_SES_CNT_L12M \t\t\t 166395\n",
      "WEB_ALL_TIME_SPEND_L12M \t\t\t 161163\n",
      "WEB_AFF_UNQ_SES_CNT_L3M \t\t\t 78822\n",
      "WEB_AFF_TIME_SPEND_L3M \t\t\t 74727\n",
      "WEB_AFF_UNQ_SES_CNT_L6M \t\t\t 99103\n",
      "WEB_AFF_TIME_SPEND_L6M \t\t\t 93427\n",
      "WEB_AFF_UNQ_SES_CNT_L12M \t\t\t 127715\n",
      "WEB_AFF_TIME_SPEND_L12M \t\t\t 120453\n",
      "WEB_HIS_UNQ_SES_CNT_L3M \t\t\t 60989\n",
      "WEB_HIS_TIME_SPEND_L3M \t\t\t 58874\n",
      "WEB_HIS_UNQ_SES_CNT_L6M \t\t\t 81997\n",
      "WEB_HIS_TIME_SPEND_L6M \t\t\t 79256\n",
      "WEB_HIS_UNQ_SES_CNT_L12M \t\t\t 115947\n",
      "WEB_HIS_TIME_SPEND_L12M \t\t\t 112439\n",
      "WEB_OCC_UNQ_SES_CNT_L3M \t\t\t 96540\n",
      "WEB_OCC_TIME_SPEND_L3M \t\t\t 92940\n",
      "WEB_OCC_UNQ_SES_CNT_L6M \t\t\t 117985\n",
      "WEB_OCC_TIME_SPEND_L6M \t\t\t 113774\n",
      "WEB_OCC_UNQ_SES_CNT_L12M \t\t\t 150732\n",
      "WEB_OCC_TIME_SPEND_L12M \t\t\t 145923\n",
      "WEB_REW_UNQ_SES_CNT_L3M \t\t\t 82590\n",
      "WEB_REW_TIME_SPEND_L3M \t\t\t 77007\n",
      "WEB_REW_UNQ_SES_CNT_L6M \t\t\t 105713\n",
      "WEB_REW_TIME_SPEND_L6M \t\t\t 100556\n",
      "WEB_REW_UNQ_SES_CNT_L12M \t\t\t 136131\n",
      "WEB_REW_TIME_SPEND_L12M \t\t\t 131373\n",
      "event \t\t\t 1772\n",
      "id \t\t\t 226272\n"
     ]
    }
   ],
   "source": [
    "dataset_num = dataset.drop(labels=['oferta', 'kategoria', 'CUST_CA_AAA_FLG', 'CUST_CA_BBB_FLG', 'CUST_CA_CCC_FLG'], axis=1)\n",
    "for c in dataset_num.columns:\n",
    "    print(c, '\\t\\t\\t' , dataset[c][dataset[c] != 0].count())\n",
    "    "
   ]
  },
  {
   "cell_type": "code",
   "execution_count": 6,
   "metadata": {
    "collapsed": true
   },
   "outputs": [],
   "source": [
    "dataset2 = dataset.drop(labels=['TRX_aff_L12M_RED_CNT', 'TRX_aff_L12M_RED_PTS', 'TRX_aff_L3M_RED_CNT', 'TRX_aff_L3M_RED_PTS'], axis=1)"
   ]
  },
  {
   "cell_type": "code",
   "execution_count": 7,
   "metadata": {
    "collapsed": true
   },
   "outputs": [],
   "source": [
    "dataset3 = dataset.drop(labels=['TRX_all_L12M_PROMO_PTS', 'TRX_all_L12M_PUR_AMT',\n",
    "       'TRX_all_L12M_PUR_PTS', 'TRX_all_L12M_RED_CNT', 'TRX_all_L12M_RED_PTS',\n",
    "       'TRX_all_L3M_BASE_PTS', 'TRX_all_L3M_COL_CNT', 'TRX_all_L3M_PROMO_PTS',\n",
    "       'TRX_all_L3M_PUR_AMT', 'TRX_all_L3M_RED_CNT', 'TRX_all_L3M_RED_PTS', 'TRX_aff_L12M_RED_CNT', 'TRX_aff_L12M_RED_PTS', 'TRX_aff_L3M_RED_CNT', 'TRX_aff_L3M_RED_PTS'], axis=1)"
   ]
  },
  {
   "cell_type": "code",
   "execution_count": 8,
   "metadata": {},
   "outputs": [
    {
     "data": {
      "text/plain": [
       "Index(['TRX_aff_L12M_COL_PTS', 'TRX_aff_L12M_PUR_AMT', 'TRX_aff_L3M_BASE_PTS',\n",
       "       'TRX_aff_L3M_COL_CNT', 'TRX_aff_L3M_PROMO_PTS', 'TRX_aff_L3M_PUR_AMT',\n",
       "       'ACCT_BAL_MOD_CNT', 'ACCT_TOT_COL_AMT', 'ACCT_UNBLOCKED_POINTS',\n",
       "       'TIME_FROM_ENRL', 'TIME_FROM_FIRST_DT', 'TIME_FROM_LAST_DT',\n",
       "       'CARDA_PAYM_CNT', 'ACCT_PTS_EXPIRED', 'ACCT_PTS_TO_EXPIRE',\n",
       "       'CUST_GFK_POPULATION', 'CUST_GFK_HOUSEHOLDS', 'CUST_HH_SIZE',\n",
       "       'CUST_PROFESSION_CD', 'CUST_AGE', 'CUST_GENDER', 'CUST_CA_AAA_FLG',\n",
       "       'CUST_CA_BBB_FLG', 'CUST_CA_CCC_FLG', 'CUST_CA_BBB_KM_CNT',\n",
       "       'CUST_CA_AAA_KM_CNT', 'CUST_CA_CCC_KM_CNT', 'WEB_ALL_UNQ_SES_CNT_L2W',\n",
       "       'WEB_ALL_TIME_SPEND_L2W', 'WEB_ALL_UNQ_SES_CNT_L4W',\n",
       "       'WEB_ALL_TIME_SPEND_L4W', 'WEB_AFF_UNQ_SES_CNT_L2W',\n",
       "       'WEB_AFF_TIME_SPEND_L2W', 'WEB_AFF_UNQ_SES_CNT_L4W',\n",
       "       'WEB_AFF_TIME_SPEND_L4W', 'WEB_HIS_UNQ_SES_CNT_L2W',\n",
       "       'WEB_HIS_TIME_SPEND_L2W', 'WEB_HIS_UNQ_SES_CNT_L4W',\n",
       "       'WEB_HIS_TIME_SPEND_L4W', 'WEB_OCC_UNQ_SES_CNT_L2W',\n",
       "       'WEB_OCC_TIME_SPEND_L2W', 'WEB_OCC_UNQ_SES_CNT_L4W',\n",
       "       'WEB_OCC_TIME_SPEND_L4W', 'WEB_REW_UNQ_SES_CNT_L2W',\n",
       "       'WEB_REW_TIME_SPEND_L2W', 'WEB_REW_UNQ_SES_CNT_L4W',\n",
       "       'WEB_REW_TIME_SPEND_L4W', 'WEB_ALL_UNQ_SES_CNT_L3M',\n",
       "       'WEB_ALL_TIME_SPEND_L3M', 'WEB_ALL_UNQ_SES_CNT_L6M',\n",
       "       'WEB_ALL_TIME_SPEND_L6M', 'WEB_ALL_UNQ_SES_CNT_L12M',\n",
       "       'WEB_ALL_TIME_SPEND_L12M', 'WEB_AFF_UNQ_SES_CNT_L3M',\n",
       "       'WEB_AFF_TIME_SPEND_L3M', 'WEB_AFF_UNQ_SES_CNT_L6M',\n",
       "       'WEB_AFF_TIME_SPEND_L6M', 'WEB_AFF_UNQ_SES_CNT_L12M',\n",
       "       'WEB_AFF_TIME_SPEND_L12M', 'WEB_HIS_UNQ_SES_CNT_L3M',\n",
       "       'WEB_HIS_TIME_SPEND_L3M', 'WEB_HIS_UNQ_SES_CNT_L6M',\n",
       "       'WEB_HIS_TIME_SPEND_L6M', 'WEB_HIS_UNQ_SES_CNT_L12M',\n",
       "       'WEB_HIS_TIME_SPEND_L12M', 'WEB_OCC_UNQ_SES_CNT_L3M',\n",
       "       'WEB_OCC_TIME_SPEND_L3M', 'WEB_OCC_UNQ_SES_CNT_L6M',\n",
       "       'WEB_OCC_TIME_SPEND_L6M', 'WEB_OCC_UNQ_SES_CNT_L12M',\n",
       "       'WEB_OCC_TIME_SPEND_L12M', 'WEB_REW_UNQ_SES_CNT_L3M',\n",
       "       'WEB_REW_TIME_SPEND_L3M', 'WEB_REW_UNQ_SES_CNT_L6M',\n",
       "       'WEB_REW_TIME_SPEND_L6M', 'WEB_REW_UNQ_SES_CNT_L12M',\n",
       "       'WEB_REW_TIME_SPEND_L12M', 'event', 'id', 'oferta', 'kategoria'],\n",
       "      dtype='object')"
      ]
     },
     "execution_count": 8,
     "metadata": {},
     "output_type": "execute_result"
    }
   ],
   "source": [
    "dataset3.columns"
   ]
  },
  {
   "cell_type": "code",
   "execution_count": null,
   "metadata": {
    "collapsed": true
   },
   "outputs": [],
   "source": [
    "dataset['CUST_CA_AAA_FLG'] = dataset.CUST_CA_AAA_FLG.map({'Y' : 1, 'N' : 0})\n",
    "dataset['CUST_CA_BBB_FLG'] = dataset.CUST_CA_BBB_FLG.map({'Y' : 1, 'N' : 0})\n",
    "dataset['CUST_CA_CCC_FLG'] = dataset.CUST_CA_CCC_FLG.map({'Y' : 1, 'N' : 0})"
   ]
  },
  {
   "cell_type": "code",
   "execution_count": 9,
   "metadata": {},
   "outputs": [
    {
     "data": {
      "text/plain": [
       "<matplotlib.axes._subplots.AxesSubplot at 0x2321f361710>"
      ]
     },
     "execution_count": 9,
     "metadata": {},
     "output_type": "execute_result"
    },
    {
     "data": {
      "image/png": "[encoded data removed]",
      "text/plain": [
       "<matplotlib.figure.Figure at 0x2321f16c860>"
      ]
     },
     "metadata": {},
     "output_type": "display_data"
    }
   ],
   "source": [
    "import seaborn as sns\n",
    "sns.heatmap(dataset3[dataset3.columns[:6]].corr())"
   ]
  },
  {
   "cell_type": "code",
   "execution_count": 12,
   "metadata": {
    "collapsed": true
   },
   "outputs": [],
   "source": [
    "pd.DataFrame.corr?"
   ]
  },
  {
   "cell_type": "code",
   "execution_count": 10,
   "metadata": {
    "collapsed": true
   },
   "outputs": [],
   "source": [
    "c = dataset2[['TRX_all_L12M_PROMO_PTS', 'TRX_all_L12M_PUR_AMT', 'TRX_all_L12M_PUR_PTS', 'TRX_all_L12M_RED_CNT', 'TRX_all_L12M_RED_PTS', 'TRX_all_L3M_BASE_PTS', 'TRX_all_L3M_COL_CNT', 'TRX_all_L3M_PROMO_PTS', 'TRX_all_L3M_PUR_AMT', 'TRX_all_L3M_RED_CNT', 'TRX_all_L3M_RED_PTS' \n",
    " ,'event']].corr()"
   ]
  },
  {
   "cell_type": "code",
   "execution_count": 14,
   "metadata": {
    "collapsed": true
   },
   "outputs": [],
   "source": [
    "cr = dataset2.corr()"
   ]
  },
  {
   "cell_type": "code",
   "execution_count": 20,
   "metadata": {
    "collapsed": true
   },
   "outputs": [
    {
     "data": {
      "text/plain": [
       "TRX_aff_L3M_COL_CNT         0.051964\n",
       "ACCT_BAL_MOD_CNT            0.084469\n",
       "ACCT_TOT_COL_AMT            0.064270\n",
       "ACCT_UNBLOCKED_POINTS       0.059436\n",
       "WEB_ALL_TIME_SPEND_L2W      0.055647\n",
       "WEB_ALL_TIME_SPEND_L4W      0.061527\n",
       "WEB_AFF_UNQ_SES_CNT_L2W     0.171432\n",
       "WEB_AFF_TIME_SPEND_L2W      0.110100\n",
       "WEB_AFF_UNQ_SES_CNT_L4W     0.189366\n",
       "WEB_AFF_TIME_SPEND_L4W      0.124823\n",
       "WEB_HIS_UNQ_SES_CNT_L2W     0.070048\n",
       "WEB_HIS_TIME_SPEND_L2W      0.056629\n",
       "WEB_HIS_UNQ_SES_CNT_L4W     0.075920\n",
       "WEB_OCC_UNQ_SES_CNT_L2W     0.080708\n",
       "WEB_OCC_TIME_SPEND_L2W      0.062815\n",
       "WEB_OCC_UNQ_SES_CNT_L4W     0.086436\n",
       "WEB_OCC_TIME_SPEND_L4W      0.070639\n",
       "WEB_REW_UNQ_SES_CNT_L4W     0.056575\n",
       "WEB_ALL_TIME_SPEND_L3M      0.075344\n",
       "WEB_ALL_UNQ_SES_CNT_L6M     0.063841\n",
       "WEB_ALL_TIME_SPEND_L6M      0.087662\n",
       "WEB_ALL_UNQ_SES_CNT_L12M    0.090149\n",
       "WEB_ALL_TIME_SPEND_L12M     0.092249\n",
       "WEB_AFF_UNQ_SES_CNT_L3M     0.183440\n",
       "WEB_AFF_TIME_SPEND_L3M      0.135423\n",
       "WEB_AFF_UNQ_SES_CNT_L6M     0.190325\n",
       "WEB_AFF_TIME_SPEND_L6M      0.137126\n",
       "WEB_AFF_UNQ_SES_CNT_L12M    0.177920\n",
       "WEB_AFF_TIME_SPEND_L12M     0.137145\n",
       "WEB_HIS_UNQ_SES_CNT_L3M     0.097670\n",
       "WEB_HIS_TIME_SPEND_L3M      0.062204\n",
       "WEB_HIS_UNQ_SES_CNT_L6M     0.105992\n",
       "WEB_HIS_TIME_SPEND_L6M      0.050782\n",
       "WEB_HIS_UNQ_SES_CNT_L12M    0.107005\n",
       "WEB_OCC_UNQ_SES_CNT_L3M     0.106353\n",
       "WEB_OCC_TIME_SPEND_L3M      0.076484\n",
       "WEB_OCC_UNQ_SES_CNT_L6M     0.110119\n",
       "WEB_OCC_TIME_SPEND_L6M      0.058316\n",
       "WEB_OCC_UNQ_SES_CNT_L12M    0.107620\n",
       "WEB_OCC_TIME_SPEND_L12M     0.054640\n",
       "WEB_REW_UNQ_SES_CNT_L3M     0.069935\n",
       "WEB_REW_UNQ_SES_CNT_L6M     0.076721\n",
       "WEB_REW_UNQ_SES_CNT_L12M    0.077485\n",
       "event                       1.000000\n",
       "Name: event, dtype: float64"
      ]
     },
     "execution_count": 20,
     "metadata": {},
     "output_type": "execute_result"
    }
   ],
   "source": [
    "cr['event'][abs(cr['event']) > 0.05]"
   ]
  },
  {
   "cell_type": "code",
   "execution_count": 15,
   "metadata": {},
   "outputs": [
    {
     "data": {
      "text/html": [
       "<div>\n",
       "<style>\n",
       "    .dataframe thead tr:only-child th {\n",
       "        text-align: right;\n",
       "    }\n",
       "\n",
       "    .dataframe thead th {\n",
       "        text-align: left;\n",
       "    }\n",
       "\n",
       "    .dataframe tbody tr th {\n",
       "        vertical-align: top;\n",
       "    }\n",
       "</style>\n",
       "<table border=\"1\" class=\"dataframe\">\n",
       "  <thead>\n",
       "    <tr style=\"text-align: right;\">\n",
       "      <th></th>\n",
       "      <th>ACCT_BAL_MOD_CNT</th>\n",
       "      <th>ACCT_TOT_COL_AMT</th>\n",
       "      <th>ACCT_UNBLOCKED_POINTS</th>\n",
       "      <th>TIME_FROM_ENRL</th>\n",
       "      <th>TIME_FROM_FIRST_DT</th>\n",
       "      <th>TIME_FROM_LAST_DT</th>\n",
       "      <th>CARDA_PAYM_CNT</th>\n",
       "      <th>ACCT_PTS_EXPIRED</th>\n",
       "      <th>ACCT_PTS_TO_EXPIRE</th>\n",
       "    </tr>\n",
       "  </thead>\n",
       "  <tbody>\n",
       "    <tr>\n",
       "      <th>count</th>\n",
       "      <td>226272.000000</td>\n",
       "      <td>2.262720e+05</td>\n",
       "      <td>226272.000000</td>\n",
       "      <td>226272.000000</td>\n",
       "      <td>226272.000000</td>\n",
       "      <td>226272.000000</td>\n",
       "      <td>226272.000000</td>\n",
       "      <td>226272.000000</td>\n",
       "      <td>226272.000000</td>\n",
       "    </tr>\n",
       "    <tr>\n",
       "      <th>mean</th>\n",
       "      <td>456.579926</td>\n",
       "      <td>3.131744e+04</td>\n",
       "      <td>4619.448898</td>\n",
       "      <td>1885.370779</td>\n",
       "      <td>1999.469775</td>\n",
       "      <td>174.461025</td>\n",
       "      <td>0.195203</td>\n",
       "      <td>-329.962576</td>\n",
       "      <td>124.301831</td>\n",
       "    </tr>\n",
       "    <tr>\n",
       "      <th>std</th>\n",
       "      <td>571.902968</td>\n",
       "      <td>5.525596e+04</td>\n",
       "      <td>8756.630400</td>\n",
       "      <td>831.137752</td>\n",
       "      <td>799.042082</td>\n",
       "      <td>374.680483</td>\n",
       "      <td>0.636762</td>\n",
       "      <td>1604.584547</td>\n",
       "      <td>681.392779</td>\n",
       "    </tr>\n",
       "    <tr>\n",
       "      <th>min</th>\n",
       "      <td>0.000000</td>\n",
       "      <td>0.000000e+00</td>\n",
       "      <td>0.000000</td>\n",
       "      <td>31.000000</td>\n",
       "      <td>32.000000</td>\n",
       "      <td>1.000000</td>\n",
       "      <td>0.000000</td>\n",
       "      <td>-99039.000000</td>\n",
       "      <td>0.000000</td>\n",
       "    </tr>\n",
       "    <tr>\n",
       "      <th>25%</th>\n",
       "      <td>92.000000</td>\n",
       "      <td>3.803000e+03</td>\n",
       "      <td>454.000000</td>\n",
       "      <td>1215.000000</td>\n",
       "      <td>1373.000000</td>\n",
       "      <td>10.000000</td>\n",
       "      <td>0.000000</td>\n",
       "      <td>0.000000</td>\n",
       "      <td>0.000000</td>\n",
       "    </tr>\n",
       "    <tr>\n",
       "      <th>50%</th>\n",
       "      <td>298.000000</td>\n",
       "      <td>1.496750e+04</td>\n",
       "      <td>1759.000000</td>\n",
       "      <td>2105.000000</td>\n",
       "      <td>2304.000000</td>\n",
       "      <td>22.000000</td>\n",
       "      <td>0.000000</td>\n",
       "      <td>0.000000</td>\n",
       "      <td>0.000000</td>\n",
       "    </tr>\n",
       "    <tr>\n",
       "      <th>75%</th>\n",
       "      <td>645.000000</td>\n",
       "      <td>3.913225e+04</td>\n",
       "      <td>5266.000000</td>\n",
       "      <td>2696.000000</td>\n",
       "      <td>2718.000000</td>\n",
       "      <td>137.000000</td>\n",
       "      <td>0.000000</td>\n",
       "      <td>0.000000</td>\n",
       "      <td>0.000000</td>\n",
       "    </tr>\n",
       "    <tr>\n",
       "      <th>max</th>\n",
       "      <td>56182.000000</td>\n",
       "      <td>4.455410e+06</td>\n",
       "      <td>831637.000000</td>\n",
       "      <td>2755.000000</td>\n",
       "      <td>2758.000000</td>\n",
       "      <td>2737.000000</td>\n",
       "      <td>33.000000</td>\n",
       "      <td>0.000000</td>\n",
       "      <td>88779.000000</td>\n",
       "    </tr>\n",
       "  </tbody>\n",
       "</table>\n",
       "</div>"
      ],
      "text/plain": [
       "       ACCT_BAL_MOD_CNT  ACCT_TOT_COL_AMT  ACCT_UNBLOCKED_POINTS  \\\n",
       "count     226272.000000      2.262720e+05          226272.000000   \n",
       "mean         456.579926      3.131744e+04            4619.448898   \n",
       "std          571.902968      5.525596e+04            8756.630400   \n",
       "min            0.000000      0.000000e+00               0.000000   \n",
       "25%           92.000000      3.803000e+03             454.000000   \n",
       "50%          298.000000      1.496750e+04            1759.000000   \n",
       "75%          645.000000      3.913225e+04            5266.000000   \n",
       "max        56182.000000      4.455410e+06          831637.000000   \n",
       "\n",
       "       TIME_FROM_ENRL  TIME_FROM_FIRST_DT  TIME_FROM_LAST_DT  CARDA_PAYM_CNT  \\\n",
       "count   226272.000000       226272.000000      226272.000000   226272.000000   \n",
       "mean      1885.370779         1999.469775         174.461025        0.195203   \n",
       "std        831.137752          799.042082         374.680483        0.636762   \n",
       "min         31.000000           32.000000           1.000000        0.000000   \n",
       "25%       1215.000000         1373.000000          10.000000        0.000000   \n",
       "50%       2105.000000         2304.000000          22.000000        0.000000   \n",
       "75%       2696.000000         2718.000000         137.000000        0.000000   \n",
       "max       2755.000000         2758.000000        2737.000000       33.000000   \n",
       "\n",
       "       ACCT_PTS_EXPIRED  ACCT_PTS_TO_EXPIRE  \n",
       "count     226272.000000       226272.000000  \n",
       "mean        -329.962576          124.301831  \n",
       "std         1604.584547          681.392779  \n",
       "min       -99039.000000            0.000000  \n",
       "25%            0.000000            0.000000  \n",
       "50%            0.000000            0.000000  \n",
       "75%            0.000000            0.000000  \n",
       "max            0.000000        88779.000000  "
      ]
     },
     "execution_count": 15,
     "metadata": {},
     "output_type": "execute_result"
    }
   ],
   "source": [
    "dataset2[dataset.columns[21:30]].describe()"
   ]
  },
  {
   "cell_type": "code",
   "execution_count": 25,
   "metadata": {
    "collapsed": true
   },
   "outputs": [
    {
     "data": {
      "text/html": [
       "<div>\n",
       "<style>\n",
       "    .dataframe thead tr:only-child th {\n",
       "        text-align: right;\n",
       "    }\n",
       "\n",
       "    .dataframe thead th {\n",
       "        text-align: left;\n",
       "    }\n",
       "\n",
       "    .dataframe tbody tr th {\n",
       "        vertical-align: top;\n",
       "    }\n",
       "</style>\n",
       "<table border=\"1\" class=\"dataframe\">\n",
       "  <thead>\n",
       "    <tr style=\"text-align: right;\">\n",
       "      <th></th>\n",
       "      <th>ACCT_TOT_COL_AMT</th>\n",
       "      <th>TRX_all_L12M_PUR_AMT</th>\n",
       "    </tr>\n",
       "  </thead>\n",
       "  <tbody>\n",
       "    <tr>\n",
       "      <th>811</th>\n",
       "      <td>1038275</td>\n",
       "      <td>0.00</td>\n",
       "    </tr>\n",
       "    <tr>\n",
       "      <th>2247</th>\n",
       "      <td>1146038</td>\n",
       "      <td>0.00</td>\n",
       "    </tr>\n",
       "    <tr>\n",
       "      <th>2799</th>\n",
       "      <td>1692211</td>\n",
       "      <td>0.00</td>\n",
       "    </tr>\n",
       "    <tr>\n",
       "      <th>8653</th>\n",
       "      <td>1045011</td>\n",
       "      <td>0.00</td>\n",
       "    </tr>\n",
       "    <tr>\n",
       "      <th>8716</th>\n",
       "      <td>1563365</td>\n",
       "      <td>0.00</td>\n",
       "    </tr>\n",
       "    <tr>\n",
       "      <th>9080</th>\n",
       "      <td>4072773</td>\n",
       "      <td>0.00</td>\n",
       "    </tr>\n",
       "    <tr>\n",
       "      <th>9384</th>\n",
       "      <td>1330227</td>\n",
       "      <td>0.00</td>\n",
       "    </tr>\n",
       "    <tr>\n",
       "      <th>9807</th>\n",
       "      <td>1213388</td>\n",
       "      <td>0.00</td>\n",
       "    </tr>\n",
       "    <tr>\n",
       "      <th>10355</th>\n",
       "      <td>1348539</td>\n",
       "      <td>0.00</td>\n",
       "    </tr>\n",
       "    <tr>\n",
       "      <th>22384</th>\n",
       "      <td>3501836</td>\n",
       "      <td>0.00</td>\n",
       "    </tr>\n",
       "    <tr>\n",
       "      <th>31850</th>\n",
       "      <td>1047193</td>\n",
       "      <td>0.00</td>\n",
       "    </tr>\n",
       "    <tr>\n",
       "      <th>42715</th>\n",
       "      <td>1715977</td>\n",
       "      <td>0.00</td>\n",
       "    </tr>\n",
       "    <tr>\n",
       "      <th>43443</th>\n",
       "      <td>1496711</td>\n",
       "      <td>0.00</td>\n",
       "    </tr>\n",
       "    <tr>\n",
       "      <th>43855</th>\n",
       "      <td>2594206</td>\n",
       "      <td>0.00</td>\n",
       "    </tr>\n",
       "    <tr>\n",
       "      <th>45208</th>\n",
       "      <td>1113426</td>\n",
       "      <td>0.00</td>\n",
       "    </tr>\n",
       "    <tr>\n",
       "      <th>46839</th>\n",
       "      <td>1390948</td>\n",
       "      <td>0.00</td>\n",
       "    </tr>\n",
       "    <tr>\n",
       "      <th>58100</th>\n",
       "      <td>4455410</td>\n",
       "      <td>0.00</td>\n",
       "    </tr>\n",
       "    <tr>\n",
       "      <th>73551</th>\n",
       "      <td>1579005</td>\n",
       "      <td>0.00</td>\n",
       "    </tr>\n",
       "    <tr>\n",
       "      <th>76040</th>\n",
       "      <td>1766451</td>\n",
       "      <td>0.00</td>\n",
       "    </tr>\n",
       "    <tr>\n",
       "      <th>77420</th>\n",
       "      <td>1425491</td>\n",
       "      <td>0.00</td>\n",
       "    </tr>\n",
       "    <tr>\n",
       "      <th>86392</th>\n",
       "      <td>1297505</td>\n",
       "      <td>0.00</td>\n",
       "    </tr>\n",
       "    <tr>\n",
       "      <th>92122</th>\n",
       "      <td>1415320</td>\n",
       "      <td>0.00</td>\n",
       "    </tr>\n",
       "    <tr>\n",
       "      <th>95776</th>\n",
       "      <td>1438857</td>\n",
       "      <td>0.00</td>\n",
       "    </tr>\n",
       "    <tr>\n",
       "      <th>105901</th>\n",
       "      <td>1065693</td>\n",
       "      <td>0.00</td>\n",
       "    </tr>\n",
       "    <tr>\n",
       "      <th>106952</th>\n",
       "      <td>1118575</td>\n",
       "      <td>0.00</td>\n",
       "    </tr>\n",
       "    <tr>\n",
       "      <th>109290</th>\n",
       "      <td>1941665</td>\n",
       "      <td>0.00</td>\n",
       "    </tr>\n",
       "    <tr>\n",
       "      <th>109462</th>\n",
       "      <td>4370683</td>\n",
       "      <td>0.00</td>\n",
       "    </tr>\n",
       "    <tr>\n",
       "      <th>114559</th>\n",
       "      <td>2004157</td>\n",
       "      <td>0.00</td>\n",
       "    </tr>\n",
       "    <tr>\n",
       "      <th>115546</th>\n",
       "      <td>1863273</td>\n",
       "      <td>0.00</td>\n",
       "    </tr>\n",
       "    <tr>\n",
       "      <th>116776</th>\n",
       "      <td>1808145</td>\n",
       "      <td>0.00</td>\n",
       "    </tr>\n",
       "    <tr>\n",
       "      <th>117823</th>\n",
       "      <td>1001039</td>\n",
       "      <td>217520.21</td>\n",
       "    </tr>\n",
       "    <tr>\n",
       "      <th>145841</th>\n",
       "      <td>2806461</td>\n",
       "      <td>0.00</td>\n",
       "    </tr>\n",
       "    <tr>\n",
       "      <th>149025</th>\n",
       "      <td>2637410</td>\n",
       "      <td>0.00</td>\n",
       "    </tr>\n",
       "    <tr>\n",
       "      <th>162142</th>\n",
       "      <td>2292967</td>\n",
       "      <td>0.00</td>\n",
       "    </tr>\n",
       "    <tr>\n",
       "      <th>163666</th>\n",
       "      <td>1130123</td>\n",
       "      <td>0.00</td>\n",
       "    </tr>\n",
       "    <tr>\n",
       "      <th>170418</th>\n",
       "      <td>3243078</td>\n",
       "      <td>0.00</td>\n",
       "    </tr>\n",
       "    <tr>\n",
       "      <th>170797</th>\n",
       "      <td>1334643</td>\n",
       "      <td>0.00</td>\n",
       "    </tr>\n",
       "    <tr>\n",
       "      <th>176361</th>\n",
       "      <td>1639932</td>\n",
       "      <td>0.00</td>\n",
       "    </tr>\n",
       "    <tr>\n",
       "      <th>188593</th>\n",
       "      <td>1214807</td>\n",
       "      <td>4196505.29</td>\n",
       "    </tr>\n",
       "    <tr>\n",
       "      <th>190091</th>\n",
       "      <td>2933825</td>\n",
       "      <td>0.00</td>\n",
       "    </tr>\n",
       "    <tr>\n",
       "      <th>191857</th>\n",
       "      <td>3995168</td>\n",
       "      <td>0.00</td>\n",
       "    </tr>\n",
       "    <tr>\n",
       "      <th>211051</th>\n",
       "      <td>3037901</td>\n",
       "      <td>0.00</td>\n",
       "    </tr>\n",
       "    <tr>\n",
       "      <th>221166</th>\n",
       "      <td>2284886</td>\n",
       "      <td>0.00</td>\n",
       "    </tr>\n",
       "  </tbody>\n",
       "</table>\n",
       "</div>"
      ],
      "text/plain": [
       "        ACCT_TOT_COL_AMT  TRX_all_L12M_PUR_AMT\n",
       "811              1038275                  0.00\n",
       "2247             1146038                  0.00\n",
       "2799             1692211                  0.00\n",
       "8653             1045011                  0.00\n",
       "8716             1563365                  0.00\n",
       "9080             4072773                  0.00\n",
       "9384             1330227                  0.00\n",
       "9807             1213388                  0.00\n",
       "10355            1348539                  0.00\n",
       "22384            3501836                  0.00\n",
       "31850            1047193                  0.00\n",
       "42715            1715977                  0.00\n",
       "43443            1496711                  0.00\n",
       "43855            2594206                  0.00\n",
       "45208            1113426                  0.00\n",
       "46839            1390948                  0.00\n",
       "58100            4455410                  0.00\n",
       "73551            1579005                  0.00\n",
       "76040            1766451                  0.00\n",
       "77420            1425491                  0.00\n",
       "86392            1297505                  0.00\n",
       "92122            1415320                  0.00\n",
       "95776            1438857                  0.00\n",
       "105901           1065693                  0.00\n",
       "106952           1118575                  0.00\n",
       "109290           1941665                  0.00\n",
       "109462           4370683                  0.00\n",
       "114559           2004157                  0.00\n",
       "115546           1863273                  0.00\n",
       "116776           1808145                  0.00\n",
       "117823           1001039             217520.21\n",
       "145841           2806461                  0.00\n",
       "149025           2637410                  0.00\n",
       "162142           2292967                  0.00\n",
       "163666           1130123                  0.00\n",
       "170418           3243078                  0.00\n",
       "170797           1334643                  0.00\n",
       "176361           1639932                  0.00\n",
       "188593           1214807            4196505.29\n",
       "190091           2933825                  0.00\n",
       "191857           3995168                  0.00\n",
       "211051           3037901                  0.00\n",
       "221166           2284886                  0.00"
      ]
     },
     "execution_count": 25,
     "metadata": {},
     "output_type": "execute_result"
    }
   ],
   "source": [
    "dataset2[dataset2['ACCT_TOT_COL_AMT']> 1000000][['ACCT_TOT_COL_AMT', 'TRX_all_L12M_PUR_AMT']]"
   ]
  },
  {
   "cell_type": "code",
   "execution_count": 30,
   "metadata": {
    "collapsed": true
   },
   "outputs": [],
   "source": [
    "import pprint"
   ]
  },
  {
   "cell_type": "code",
   "execution_count": 33,
   "metadata": {},
   "outputs": [
    {
     "name": "stdout",
     "output_type": "stream",
     "text": [
      "       ACCT_TOT_COL_AMT  TRX_all_L12M_PUR_AMT\n",
      "count            43.000                43.000\n",
      "mean        1963083.581            102651.756\n",
      "std          979562.846            640030.956\n",
      "min         1001039.000                 0.000\n",
      "25%         1256156.000                 0.000\n",
      "50%         1579005.000                 0.000\n",
      "75%         2443586.500                 0.000\n",
      "max         4455410.000           4196505.290\n"
     ]
    }
   ],
   "source": [
    "pprint.pprint(round(dataset2[dataset2['ACCT_TOT_COL_AMT']> 1000000][['ACCT_TOT_COL_AMT', 'TRX_all_L12M_PUR_AMT']].describe(), 3))"
   ]
  },
  {
   "cell_type": "markdown",
   "metadata": {},
   "source": [
    "Potencjalnie wyrzucić ID 188594"
   ]
  },
  {
   "cell_type": "code",
   "execution_count": 45,
   "metadata": {
    "scrolled": false
   },
   "outputs": [
    {
     "data": {
      "text/html": [
       "<div>\n",
       "<style>\n",
       "    .dataframe thead tr:only-child th {\n",
       "        text-align: right;\n",
       "    }\n",
       "\n",
       "    .dataframe thead th {\n",
       "        text-align: left;\n",
       "    }\n",
       "\n",
       "    .dataframe tbody tr th {\n",
       "        vertical-align: top;\n",
       "    }\n",
       "</style>\n",
       "<table border=\"1\" class=\"dataframe\">\n",
       "  <thead>\n",
       "    <tr style=\"text-align: right;\">\n",
       "      <th></th>\n",
       "      <th>ACCT_TOT_COL_AMT</th>\n",
       "      <th>TRX_all_L12M_PUR_AMT</th>\n",
       "      <th>TRX_aff_L12M_PUR_AMT</th>\n",
       "      <th>ACCT_UNBLOCKED_POINTS</th>\n",
       "      <th>ACCT_PTS_EXPIRED</th>\n",
       "      <th>id</th>\n",
       "    </tr>\n",
       "  </thead>\n",
       "  <tbody>\n",
       "    <tr>\n",
       "      <th>188593</th>\n",
       "      <td>1214807</td>\n",
       "      <td>4196505.29</td>\n",
       "      <td>0.0</td>\n",
       "      <td>729583</td>\n",
       "      <td>0</td>\n",
       "      <td>188594</td>\n",
       "    </tr>\n",
       "  </tbody>\n",
       "</table>\n",
       "</div>"
      ],
      "text/plain": [
       "        ACCT_TOT_COL_AMT  TRX_all_L12M_PUR_AMT  TRX_aff_L12M_PUR_AMT  \\\n",
       "188593           1214807            4196505.29                   0.0   \n",
       "\n",
       "        ACCT_UNBLOCKED_POINTS  ACCT_PTS_EXPIRED      id  \n",
       "188593                 729583                 0  188594  "
      ]
     },
     "execution_count": 45,
     "metadata": {},
     "output_type": "execute_result"
    }
   ],
   "source": [
    "dataset2[dataset2['TRX_all_L12M_PUR_AMT']> 3000000][['ACCT_TOT_COL_AMT', 'TRX_all_L12M_PUR_AMT', 'TRX_aff_L12M_PUR_AMT', 'ACCT_UNBLOCKED_POINTS', 'ACCT_PTS_EXPIRED', 'id']]"
   ]
  },
  {
   "cell_type": "code",
   "execution_count": 48,
   "metadata": {},
   "outputs": [
    {
     "data": {
      "text/plain": [
       "99    154576\n",
       "3      33829\n",
       "2      11529\n",
       "4       9463\n",
       "1       7728\n",
       "7       4417\n",
       "6       3077\n",
       "5       1653\n",
       "Name: CUST_PROFESSION_CD, dtype: int64"
      ]
     },
     "execution_count": 48,
     "metadata": {},
     "output_type": "execute_result"
    }
   ],
   "source": [
    "dataset2['CUST_PROFESSION_CD'].value_counts()"
   ]
  },
  {
   "cell_type": "code",
   "execution_count": 50,
   "metadata": {
    "collapsed": true
   },
   "outputs": [],
   "source": [
    "dataset3 = dataset2.drop(labels = ['CUST_PROFESSION_CD'], axis=1)"
   ]
  },
  {
   "cell_type": "code",
   "execution_count": 59,
   "metadata": {},
   "outputs": [
    {
     "data": {
      "text/html": [
       "<div>\n",
       "<style>\n",
       "    .dataframe thead tr:only-child th {\n",
       "        text-align: right;\n",
       "    }\n",
       "\n",
       "    .dataframe thead th {\n",
       "        text-align: left;\n",
       "    }\n",
       "\n",
       "    .dataframe tbody tr th {\n",
       "        vertical-align: top;\n",
       "    }\n",
       "</style>\n",
       "<table border=\"1\" class=\"dataframe\">\n",
       "  <thead>\n",
       "    <tr style=\"text-align: right;\">\n",
       "      <th></th>\n",
       "      <th>WEB_ALL_UNQ_SES_CNT_L2W</th>\n",
       "      <th>WEB_ALL_TIME_SPEND_L2W</th>\n",
       "      <th>WEB_ALL_UNQ_SES_CNT_L4W</th>\n",
       "      <th>WEB_ALL_TIME_SPEND_L4W</th>\n",
       "      <th>WEB_AFF_UNQ_SES_CNT_L2W</th>\n",
       "      <th>WEB_AFF_TIME_SPEND_L2W</th>\n",
       "      <th>WEB_AFF_UNQ_SES_CNT_L4W</th>\n",
       "      <th>WEB_AFF_TIME_SPEND_L4W</th>\n",
       "      <th>WEB_HIS_UNQ_SES_CNT_L2W</th>\n",
       "      <th>WEB_HIS_TIME_SPEND_L2W</th>\n",
       "      <th>...</th>\n",
       "      <th>WEB_OCC_UNQ_SES_CNT_L6M</th>\n",
       "      <th>WEB_OCC_TIME_SPEND_L6M</th>\n",
       "      <th>WEB_OCC_UNQ_SES_CNT_L12M</th>\n",
       "      <th>WEB_OCC_TIME_SPEND_L12M</th>\n",
       "      <th>WEB_REW_UNQ_SES_CNT_L3M</th>\n",
       "      <th>WEB_REW_TIME_SPEND_L3M</th>\n",
       "      <th>WEB_REW_UNQ_SES_CNT_L6M</th>\n",
       "      <th>WEB_REW_TIME_SPEND_L6M</th>\n",
       "      <th>WEB_REW_UNQ_SES_CNT_L12M</th>\n",
       "      <th>WEB_REW_TIME_SPEND_L12M</th>\n",
       "    </tr>\n",
       "  </thead>\n",
       "  <tbody>\n",
       "    <tr>\n",
       "      <th>0</th>\n",
       "      <td>0</td>\n",
       "      <td>0</td>\n",
       "      <td>0</td>\n",
       "      <td>0</td>\n",
       "      <td>0</td>\n",
       "      <td>0</td>\n",
       "      <td>0</td>\n",
       "      <td>0</td>\n",
       "      <td>0</td>\n",
       "      <td>0</td>\n",
       "      <td>...</td>\n",
       "      <td>0</td>\n",
       "      <td>0</td>\n",
       "      <td>1</td>\n",
       "      <td>50</td>\n",
       "      <td>0</td>\n",
       "      <td>0</td>\n",
       "      <td>0</td>\n",
       "      <td>0</td>\n",
       "      <td>1</td>\n",
       "      <td>114</td>\n",
       "    </tr>\n",
       "    <tr>\n",
       "      <th>1</th>\n",
       "      <td>0</td>\n",
       "      <td>0</td>\n",
       "      <td>0</td>\n",
       "      <td>0</td>\n",
       "      <td>0</td>\n",
       "      <td>0</td>\n",
       "      <td>0</td>\n",
       "      <td>0</td>\n",
       "      <td>0</td>\n",
       "      <td>0</td>\n",
       "      <td>...</td>\n",
       "      <td>0</td>\n",
       "      <td>0</td>\n",
       "      <td>1</td>\n",
       "      <td>1</td>\n",
       "      <td>1</td>\n",
       "      <td>1193</td>\n",
       "      <td>3</td>\n",
       "      <td>2288</td>\n",
       "      <td>5</td>\n",
       "      <td>4844</td>\n",
       "    </tr>\n",
       "    <tr>\n",
       "      <th>2</th>\n",
       "      <td>0</td>\n",
       "      <td>0</td>\n",
       "      <td>0</td>\n",
       "      <td>0</td>\n",
       "      <td>0</td>\n",
       "      <td>0</td>\n",
       "      <td>0</td>\n",
       "      <td>0</td>\n",
       "      <td>0</td>\n",
       "      <td>0</td>\n",
       "      <td>...</td>\n",
       "      <td>3</td>\n",
       "      <td>147</td>\n",
       "      <td>6</td>\n",
       "      <td>147</td>\n",
       "      <td>1</td>\n",
       "      <td>5</td>\n",
       "      <td>2</td>\n",
       "      <td>77</td>\n",
       "      <td>3</td>\n",
       "      <td>1663</td>\n",
       "    </tr>\n",
       "    <tr>\n",
       "      <th>3</th>\n",
       "      <td>1</td>\n",
       "      <td>81</td>\n",
       "      <td>2</td>\n",
       "      <td>270</td>\n",
       "      <td>1</td>\n",
       "      <td>77</td>\n",
       "      <td>2</td>\n",
       "      <td>259</td>\n",
       "      <td>0</td>\n",
       "      <td>0</td>\n",
       "      <td>...</td>\n",
       "      <td>3</td>\n",
       "      <td>76</td>\n",
       "      <td>4</td>\n",
       "      <td>158</td>\n",
       "      <td>1</td>\n",
       "      <td>30</td>\n",
       "      <td>1</td>\n",
       "      <td>30</td>\n",
       "      <td>11</td>\n",
       "      <td>1574</td>\n",
       "    </tr>\n",
       "    <tr>\n",
       "      <th>4</th>\n",
       "      <td>0</td>\n",
       "      <td>0</td>\n",
       "      <td>0</td>\n",
       "      <td>0</td>\n",
       "      <td>0</td>\n",
       "      <td>0</td>\n",
       "      <td>0</td>\n",
       "      <td>0</td>\n",
       "      <td>0</td>\n",
       "      <td>0</td>\n",
       "      <td>...</td>\n",
       "      <td>0</td>\n",
       "      <td>0</td>\n",
       "      <td>0</td>\n",
       "      <td>0</td>\n",
       "      <td>0</td>\n",
       "      <td>0</td>\n",
       "      <td>0</td>\n",
       "      <td>0</td>\n",
       "      <td>0</td>\n",
       "      <td>0</td>\n",
       "    </tr>\n",
       "  </tbody>\n",
       "</table>\n",
       "<p>5 rows × 50 columns</p>\n",
       "</div>"
      ],
      "text/plain": [
       "   WEB_ALL_UNQ_SES_CNT_L2W  WEB_ALL_TIME_SPEND_L2W  WEB_ALL_UNQ_SES_CNT_L4W  \\\n",
       "0                        0                       0                        0   \n",
       "1                        0                       0                        0   \n",
       "2                        0                       0                        0   \n",
       "3                        1                      81                        2   \n",
       "4                        0                       0                        0   \n",
       "\n",
       "   WEB_ALL_TIME_SPEND_L4W  WEB_AFF_UNQ_SES_CNT_L2W  WEB_AFF_TIME_SPEND_L2W  \\\n",
       "0                       0                        0                       0   \n",
       "1                       0                        0                       0   \n",
       "2                       0                        0                       0   \n",
       "3                     270                        1                      77   \n",
       "4                       0                        0                       0   \n",
       "\n",
       "   WEB_AFF_UNQ_SES_CNT_L4W  WEB_AFF_TIME_SPEND_L4W  WEB_HIS_UNQ_SES_CNT_L2W  \\\n",
       "0                        0                       0                        0   \n",
       "1                        0                       0                        0   \n",
       "2                        0                       0                        0   \n",
       "3                        2                     259                        0   \n",
       "4                        0                       0                        0   \n",
       "\n",
       "   WEB_HIS_TIME_SPEND_L2W           ...             WEB_OCC_UNQ_SES_CNT_L6M  \\\n",
       "0                       0           ...                                   0   \n",
       "1                       0           ...                                   0   \n",
       "2                       0           ...                                   3   \n",
       "3                       0           ...                                   3   \n",
       "4                       0           ...                                   0   \n",
       "\n",
       "   WEB_OCC_TIME_SPEND_L6M  WEB_OCC_UNQ_SES_CNT_L12M  WEB_OCC_TIME_SPEND_L12M  \\\n",
       "0                       0                         1                       50   \n",
       "1                       0                         1                        1   \n",
       "2                     147                         6                      147   \n",
       "3                      76                         4                      158   \n",
       "4                       0                         0                        0   \n",
       "\n",
       "   WEB_REW_UNQ_SES_CNT_L3M  WEB_REW_TIME_SPEND_L3M  WEB_REW_UNQ_SES_CNT_L6M  \\\n",
       "0                        0                       0                        0   \n",
       "1                        1                    1193                        3   \n",
       "2                        1                       5                        2   \n",
       "3                        1                      30                        1   \n",
       "4                        0                       0                        0   \n",
       "\n",
       "   WEB_REW_TIME_SPEND_L6M  WEB_REW_UNQ_SES_CNT_L12M  WEB_REW_TIME_SPEND_L12M  \n",
       "0                       0                         1                      114  \n",
       "1                    2288                         5                     4844  \n",
       "2                      77                         3                     1663  \n",
       "3                      30                        11                     1574  \n",
       "4                       0                         0                        0  \n",
       "\n",
       "[5 rows x 50 columns]"
      ]
     },
     "execution_count": 59,
     "metadata": {},
     "output_type": "execute_result"
    }
   ],
   "source": [
    "dataset3[dataset3.columns[37:87]].head()"
   ]
  },
  {
   "cell_type": "code",
   "execution_count": 68,
   "metadata": {},
   "outputs": [
    {
     "data": {
      "text/html": [
       "<div>\n",
       "<style>\n",
       "    .dataframe thead tr:only-child th {\n",
       "        text-align: right;\n",
       "    }\n",
       "\n",
       "    .dataframe thead th {\n",
       "        text-align: left;\n",
       "    }\n",
       "\n",
       "    .dataframe tbody tr th {\n",
       "        vertical-align: top;\n",
       "    }\n",
       "</style>\n",
       "<table border=\"1\" class=\"dataframe\">\n",
       "  <thead>\n",
       "    <tr style=\"text-align: right;\">\n",
       "      <th></th>\n",
       "      <th>WEB_ALL_TIME_SPEND_L6M</th>\n",
       "      <th>WEB_AFF_TIME_SPEND_L6M</th>\n",
       "      <th>WEB_REW_TIME_SPEND_L6M</th>\n",
       "      <th>WEB_OCC_TIME_SPEND_L6M</th>\n",
       "      <th>WEB_HIS_TIME_SPEND_L6M</th>\n",
       "    </tr>\n",
       "  </thead>\n",
       "  <tbody>\n",
       "    <tr>\n",
       "      <th>count</th>\n",
       "      <td>226272.0</td>\n",
       "      <td>226272.0</td>\n",
       "      <td>226272.0</td>\n",
       "      <td>226272.0</td>\n",
       "      <td>226272.0</td>\n",
       "    </tr>\n",
       "    <tr>\n",
       "      <th>mean</th>\n",
       "      <td>3286.0</td>\n",
       "      <td>711.0</td>\n",
       "      <td>1079.0</td>\n",
       "      <td>463.0</td>\n",
       "      <td>227.0</td>\n",
       "    </tr>\n",
       "    <tr>\n",
       "      <th>std</th>\n",
       "      <td>15182.0</td>\n",
       "      <td>4070.0</td>\n",
       "      <td>4156.0</td>\n",
       "      <td>2756.0</td>\n",
       "      <td>2453.0</td>\n",
       "    </tr>\n",
       "    <tr>\n",
       "      <th>min</th>\n",
       "      <td>0.0</td>\n",
       "      <td>0.0</td>\n",
       "      <td>0.0</td>\n",
       "      <td>0.0</td>\n",
       "      <td>0.0</td>\n",
       "    </tr>\n",
       "    <tr>\n",
       "      <th>25%</th>\n",
       "      <td>0.0</td>\n",
       "      <td>0.0</td>\n",
       "      <td>0.0</td>\n",
       "      <td>0.0</td>\n",
       "      <td>0.0</td>\n",
       "    </tr>\n",
       "    <tr>\n",
       "      <th>50%</th>\n",
       "      <td>298.0</td>\n",
       "      <td>0.0</td>\n",
       "      <td>0.0</td>\n",
       "      <td>2.0</td>\n",
       "      <td>0.0</td>\n",
       "    </tr>\n",
       "    <tr>\n",
       "      <th>75%</th>\n",
       "      <td>3111.0</td>\n",
       "      <td>151.0</td>\n",
       "      <td>799.0</td>\n",
       "      <td>297.0</td>\n",
       "      <td>60.0</td>\n",
       "    </tr>\n",
       "    <tr>\n",
       "      <th>max</th>\n",
       "      <td>3149094.0</td>\n",
       "      <td>731304.0</td>\n",
       "      <td>1302762.0</td>\n",
       "      <td>867372.0</td>\n",
       "      <td>811922.0</td>\n",
       "    </tr>\n",
       "  </tbody>\n",
       "</table>\n",
       "</div>"
      ],
      "text/plain": [
       "       WEB_ALL_TIME_SPEND_L6M  WEB_AFF_TIME_SPEND_L6M  WEB_REW_TIME_SPEND_L6M  \\\n",
       "count                226272.0                226272.0                226272.0   \n",
       "mean                   3286.0                   711.0                  1079.0   \n",
       "std                   15182.0                  4070.0                  4156.0   \n",
       "min                       0.0                     0.0                     0.0   \n",
       "25%                       0.0                     0.0                     0.0   \n",
       "50%                     298.0                     0.0                     0.0   \n",
       "75%                    3111.0                   151.0                   799.0   \n",
       "max                 3149094.0                731304.0               1302762.0   \n",
       "\n",
       "       WEB_OCC_TIME_SPEND_L6M  WEB_HIS_TIME_SPEND_L6M  \n",
       "count                226272.0                226272.0  \n",
       "mean                    463.0                   227.0  \n",
       "std                    2756.0                  2453.0  \n",
       "min                       0.0                     0.0  \n",
       "25%                       0.0                     0.0  \n",
       "50%                       2.0                     0.0  \n",
       "75%                     297.0                    60.0  \n",
       "max                  867372.0                811922.0  "
      ]
     },
     "execution_count": 68,
     "metadata": {},
     "output_type": "execute_result"
    }
   ],
   "source": [
    "round(dataset3[['WEB_ALL_TIME_SPEND_L6M', 'WEB_AFF_TIME_SPEND_L6M', 'WEB_REW_TIME_SPEND_L6M', 'WEB_OCC_TIME_SPEND_L6M', 'WEB_HIS_TIME_SPEND_L6M']].describe(), 0)"
   ]
  },
  {
   "cell_type": "code",
   "execution_count": 65,
   "metadata": {
    "scrolled": true
   },
   "outputs": [
    {
     "data": {
      "text/plain": [
       "<matplotlib.axes._subplots.AxesSubplot at 0x1a21b485898>"
      ]
     },
     "execution_count": 65,
     "metadata": {},
     "output_type": "execute_result"
    },
    {
     "data": {
      "image/png": "[encoded data removed]",
      "text/plain": [
       "<matplotlib.figure.Figure at 0x1a21aa56be0>"
      ]
     },
     "metadata": {},
     "output_type": "display_data"
    }
   ],
   "source": [
    "dataset3[dataset3['WEB_ALL_TIME_SPEND_L4W']<np.percentile(dataset3['WEB_ALL_TIME_SPEND_L4W'], 99)]['WEB_ALL_TIME_SPEND_L4W'].hist(bins=30)"
   ]
  },
  {
   "cell_type": "code",
   "execution_count": 72,
   "metadata": {
    "scrolled": true
   },
   "outputs": [
    {
     "data": {
      "text/html": [
       "<div>\n",
       "<style>\n",
       "    .dataframe thead tr:only-child th {\n",
       "        text-align: right;\n",
       "    }\n",
       "\n",
       "    .dataframe thead th {\n",
       "        text-align: left;\n",
       "    }\n",
       "\n",
       "    .dataframe tbody tr th {\n",
       "        vertical-align: top;\n",
       "    }\n",
       "</style>\n",
       "<table border=\"1\" class=\"dataframe\">\n",
       "  <thead>\n",
       "    <tr style=\"text-align: right;\">\n",
       "      <th></th>\n",
       "      <th>CUST_CA_AAA_FLG</th>\n",
       "      <th>CUST_CA_BBB_FLG</th>\n",
       "      <th>CUST_CA_CCC_FLG</th>\n",
       "      <th>CUST_CA_BBB_KM_CNT</th>\n",
       "      <th>CUST_CA_AAA_KM_CNT</th>\n",
       "      <th>CUST_CA_CCC_KM_CNT</th>\n",
       "    </tr>\n",
       "  </thead>\n",
       "  <tbody>\n",
       "    <tr>\n",
       "      <th>count</th>\n",
       "      <td>226272.000000</td>\n",
       "      <td>226272.000000</td>\n",
       "      <td>226272.000000</td>\n",
       "      <td>226272.000000</td>\n",
       "      <td>226272.000000</td>\n",
       "      <td>226272.000000</td>\n",
       "    </tr>\n",
       "    <tr>\n",
       "      <th>mean</th>\n",
       "      <td>0.603451</td>\n",
       "      <td>0.967822</td>\n",
       "      <td>0.630719</td>\n",
       "      <td>5.735212</td>\n",
       "      <td>17.175907</td>\n",
       "      <td>23.450335</td>\n",
       "    </tr>\n",
       "    <tr>\n",
       "      <th>std</th>\n",
       "      <td>0.489182</td>\n",
       "      <td>0.176473</td>\n",
       "      <td>0.482611</td>\n",
       "      <td>32.123715</td>\n",
       "      <td>37.780421</td>\n",
       "      <td>43.725027</td>\n",
       "    </tr>\n",
       "    <tr>\n",
       "      <th>min</th>\n",
       "      <td>0.000000</td>\n",
       "      <td>0.000000</td>\n",
       "      <td>0.000000</td>\n",
       "      <td>0.000000</td>\n",
       "      <td>0.000000</td>\n",
       "      <td>0.000000</td>\n",
       "    </tr>\n",
       "    <tr>\n",
       "      <th>25%</th>\n",
       "      <td>0.000000</td>\n",
       "      <td>1.000000</td>\n",
       "      <td>0.000000</td>\n",
       "      <td>0.740000</td>\n",
       "      <td>3.200000</td>\n",
       "      <td>3.380000</td>\n",
       "    </tr>\n",
       "    <tr>\n",
       "      <th>50%</th>\n",
       "      <td>1.000000</td>\n",
       "      <td>1.000000</td>\n",
       "      <td>1.000000</td>\n",
       "      <td>1.990000</td>\n",
       "      <td>6.340000</td>\n",
       "      <td>6.610000</td>\n",
       "    </tr>\n",
       "    <tr>\n",
       "      <th>75%</th>\n",
       "      <td>1.000000</td>\n",
       "      <td>1.000000</td>\n",
       "      <td>1.000000</td>\n",
       "      <td>5.140000</td>\n",
       "      <td>19.810000</td>\n",
       "      <td>34.410000</td>\n",
       "    </tr>\n",
       "    <tr>\n",
       "      <th>max</th>\n",
       "      <td>1.000000</td>\n",
       "      <td>1.000000</td>\n",
       "      <td>1.000000</td>\n",
       "      <td>999.000000</td>\n",
       "      <td>999.000000</td>\n",
       "      <td>999.000000</td>\n",
       "    </tr>\n",
       "  </tbody>\n",
       "</table>\n",
       "</div>"
      ],
      "text/plain": [
       "       CUST_CA_AAA_FLG  CUST_CA_BBB_FLG  CUST_CA_CCC_FLG  CUST_CA_BBB_KM_CNT  \\\n",
       "count    226272.000000    226272.000000    226272.000000       226272.000000   \n",
       "mean          0.603451         0.967822         0.630719            5.735212   \n",
       "std           0.489182         0.176473         0.482611           32.123715   \n",
       "min           0.000000         0.000000         0.000000            0.000000   \n",
       "25%           0.000000         1.000000         0.000000            0.740000   \n",
       "50%           1.000000         1.000000         1.000000            1.990000   \n",
       "75%           1.000000         1.000000         1.000000            5.140000   \n",
       "max           1.000000         1.000000         1.000000          999.000000   \n",
       "\n",
       "       CUST_CA_AAA_KM_CNT  CUST_CA_CCC_KM_CNT  \n",
       "count       226272.000000       226272.000000  \n",
       "mean            17.175907           23.450335  \n",
       "std             37.780421           43.725027  \n",
       "min              0.000000            0.000000  \n",
       "25%              3.200000            3.380000  \n",
       "50%              6.340000            6.610000  \n",
       "75%             19.810000           34.410000  \n",
       "max            999.000000          999.000000  "
      ]
     },
     "execution_count": 72,
     "metadata": {},
     "output_type": "execute_result"
    }
   ],
   "source": [
    "dataset3[dataset3.columns[31:37]].describe()"
   ]
  },
  {
   "cell_type": "code",
   "execution_count": 71,
   "metadata": {
    "collapsed": true
   },
   "outputs": [],
   "source": [
    "dataset3['CUST_CA_AAA_FLG'] = dataset.CUST_CA_AAA_FLG.map({'Y' : 1, 'N' : 0})\n",
    "dataset3['CUST_CA_BBB_FLG'] = dataset.CUST_CA_BBB_FLG.map({'Y' : 1, 'N' : 0})\n",
    "dataset3['CUST_CA_CCC_FLG'] = dataset.CUST_CA_CCC_FLG.map({'Y' : 1, 'N' : 0})"
   ]
  },
  {
   "cell_type": "code",
   "execution_count": 76,
   "metadata": {
    "collapsed": true
   },
   "outputs": [],
   "source": [
    "dataset3.drop(labels = ['id', 'oferta', 'kategoria'], axis=1, inplace=True)"
   ]
  },
  {
   "cell_type": "code",
   "execution_count": 81,
   "metadata": {},
   "outputs": [
    {
     "data": {
      "text/plain": [
       "Index(['TRX_aff_L12M_COL_PTS', 'TRX_aff_L12M_PUR_AMT', 'TRX_aff_L3M_BASE_PTS',\n",
       "       'TRX_aff_L3M_COL_CNT', 'TRX_aff_L3M_PROMO_PTS', 'TRX_aff_L3M_PUR_AMT',\n",
       "       'TRX_all_L12M_PROMO_PTS', 'TRX_all_L12M_PUR_AMT',\n",
       "       'TRX_all_L12M_PUR_PTS', 'TRX_all_L12M_RED_CNT', 'TRX_all_L12M_RED_PTS',\n",
       "       'TRX_all_L3M_BASE_PTS', 'TRX_all_L3M_COL_CNT', 'TRX_all_L3M_PROMO_PTS',\n",
       "       'TRX_all_L3M_PUR_AMT', 'TRX_all_L3M_RED_CNT', 'TRX_all_L3M_RED_PTS',\n",
       "       'ACCT_BAL_MOD_CNT', 'ACCT_TOT_COL_AMT', 'ACCT_UNBLOCKED_POINTS',\n",
       "       'TIME_FROM_ENRL', 'TIME_FROM_FIRST_DT', 'TIME_FROM_LAST_DT',\n",
       "       'CARDA_PAYM_CNT', 'ACCT_PTS_EXPIRED', 'ACCT_PTS_TO_EXPIRE',\n",
       "       'CUST_GFK_POPULATION', 'CUST_GFK_HOUSEHOLDS', 'CUST_HH_SIZE',\n",
       "       'CUST_AGE', 'CUST_GENDER', 'CUST_CA_AAA_FLG', 'CUST_CA_BBB_FLG',\n",
       "       'CUST_CA_CCC_FLG', 'CUST_CA_BBB_KM_CNT', 'CUST_CA_AAA_KM_CNT',\n",
       "       'CUST_CA_CCC_KM_CNT', 'WEB_ALL_UNQ_SES_CNT_L2W',\n",
       "       'WEB_ALL_TIME_SPEND_L2W', 'WEB_ALL_UNQ_SES_CNT_L4W',\n",
       "       'WEB_ALL_TIME_SPEND_L4W', 'WEB_AFF_UNQ_SES_CNT_L2W',\n",
       "       'WEB_AFF_TIME_SPEND_L2W', 'WEB_AFF_UNQ_SES_CNT_L4W',\n",
       "       'WEB_AFF_TIME_SPEND_L4W', 'WEB_HIS_UNQ_SES_CNT_L2W',\n",
       "       'WEB_HIS_TIME_SPEND_L2W', 'WEB_HIS_UNQ_SES_CNT_L4W',\n",
       "       'WEB_HIS_TIME_SPEND_L4W', 'WEB_OCC_UNQ_SES_CNT_L2W',\n",
       "       'WEB_OCC_TIME_SPEND_L2W', 'WEB_OCC_UNQ_SES_CNT_L4W',\n",
       "       'WEB_OCC_TIME_SPEND_L4W', 'WEB_REW_UNQ_SES_CNT_L2W',\n",
       "       'WEB_REW_TIME_SPEND_L2W', 'WEB_REW_UNQ_SES_CNT_L4W',\n",
       "       'WEB_REW_TIME_SPEND_L4W', 'WEB_ALL_UNQ_SES_CNT_L3M',\n",
       "       'WEB_ALL_TIME_SPEND_L3M', 'WEB_ALL_UNQ_SES_CNT_L6M',\n",
       "       'WEB_ALL_TIME_SPEND_L6M', 'WEB_ALL_UNQ_SES_CNT_L12M',\n",
       "       'WEB_ALL_TIME_SPEND_L12M', 'WEB_AFF_UNQ_SES_CNT_L3M',\n",
       "       'WEB_AFF_TIME_SPEND_L3M', 'WEB_AFF_UNQ_SES_CNT_L6M',\n",
       "       'WEB_AFF_TIME_SPEND_L6M', 'WEB_AFF_UNQ_SES_CNT_L12M',\n",
       "       'WEB_AFF_TIME_SPEND_L12M', 'WEB_HIS_UNQ_SES_CNT_L3M',\n",
       "       'WEB_HIS_TIME_SPEND_L3M', 'WEB_HIS_UNQ_SES_CNT_L6M',\n",
       "       'WEB_HIS_TIME_SPEND_L6M', 'WEB_HIS_UNQ_SES_CNT_L12M',\n",
       "       'WEB_HIS_TIME_SPEND_L12M', 'WEB_OCC_UNQ_SES_CNT_L3M',\n",
       "       'WEB_OCC_TIME_SPEND_L3M', 'WEB_OCC_UNQ_SES_CNT_L6M',\n",
       "       'WEB_OCC_TIME_SPEND_L6M', 'WEB_OCC_UNQ_SES_CNT_L12M',\n",
       "       'WEB_OCC_TIME_SPEND_L12M', 'WEB_REW_UNQ_SES_CNT_L3M',\n",
       "       'WEB_REW_TIME_SPEND_L3M', 'WEB_REW_UNQ_SES_CNT_L6M',\n",
       "       'WEB_REW_TIME_SPEND_L6M', 'WEB_REW_UNQ_SES_CNT_L12M',\n",
       "       'WEB_REW_TIME_SPEND_L12M', 'event'],\n",
       "      dtype='object')"
      ]
     },
     "execution_count": 81,
     "metadata": {},
     "output_type": "execute_result"
    }
   ],
   "source": [
    "dataset3.columns"
   ]
  },
  {
   "cell_type": "markdown",
   "metadata": {},
   "source": [
    "### Istotnosc statystyczna zmiennych"
   ]
  },
  {
   "cell_type": "markdown",
   "metadata": {},
   "source": [
    "Potrzebne probkowanie zmiennych, liczenie na zbiorze ustandaryzowanym"
   ]
  },
  {
   "cell_type": "code",
   "execution_count": 28,
   "metadata": {
    "collapsed": true
   },
   "outputs": [],
   "source": [
    "from sklearn.linear_model import LogisticRegression as LR"
   ]
  },
  {
   "cell_type": "code",
   "execution_count": null,
   "metadata": {
    "collapsed": true
   },
   "outputs": [],
   "source": [
    "linreg = LR(C=1e-5)\n"
   ]
  },
  {
   "cell_type": "code",
   "execution_count": 2,
   "metadata": {},
   "outputs": [
    {
     "data": {
      "text/plain": [
       "0.8810281431197851"
      ]
     },
     "execution_count": 2,
     "metadata": {},
     "output_type": "execute_result"
    }
   ],
   "source": [
    "(49501 + 337)/56568"
   ]
  },
  {
   "cell_type": "code",
   "execution_count": 3,
   "metadata": {},
   "outputs": [
    {
     "data": {
      "text/plain": [
       "0.8103521425540942"
      ]
     },
     "execution_count": 3,
     "metadata": {},
     "output_type": "execute_result"
    }
   ],
   "source": [
    "(45445 + 395)/56568"
   ]
  },
  {
   "cell_type": "code",
   "execution_count": null,
   "metadata": {
    "collapsed": true
   },
   "outputs": [],
   "source": []
  }
 ],
 "metadata": {
  "kernelspec": {
   "display_name": "Python 3",
   "language": "python",
   "name": "python3"
  },
  "language_info": {
   "codemirror_mode": {
    "name": "ipython",
    "version": 3
   },
   "file_extension": ".py",
   "mimetype": "text/x-python",
   "name": "python",
   "nbconvert_exporter": "python",
   "pygments_lexer": "ipython3",
   "version": "3.7.2"
  }
 },
 "nbformat": 4,
 "nbformat_minor": 2
}
