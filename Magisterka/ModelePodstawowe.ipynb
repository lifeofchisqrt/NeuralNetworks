{
 "cells": [
  {
   "cell_type": "code",
   "execution_count": 1,
   "metadata": {
    "collapsed": true
   },
   "outputs": [],
   "source": [
    "import numpy as np\n",
    "import pandas as pd\n",
    "import matplotlib.pyplot as plt\n",
    "from sklearn.model_selection import train_test_split \n",
    "%matplotlib inline"
   ]
  },
  {
   "cell_type": "code",
   "execution_count": 2,
   "metadata": {
    "collapsed": true
   },
   "outputs": [],
   "source": [
    "dataset = pd.read_csv('msc_dataset.txt', sep=\"\\t\")"
   ]
  },
  {
   "cell_type": "code",
   "execution_count": 53,
   "metadata": {
    "collapsed": true
   },
   "outputs": [
    {
     "data": {
      "text/html": [
       "<div>\n",
       "<style>\n",
       "    .dataframe thead tr:only-child th {\n",
       "        text-align: right;\n",
       "    }\n",
       "\n",
       "    .dataframe thead th {\n",
       "        text-align: left;\n",
       "    }\n",
       "\n",
       "    .dataframe tbody tr th {\n",
       "        vertical-align: top;\n",
       "    }\n",
       "</style>\n",
       "<table border=\"1\" class=\"dataframe\">\n",
       "  <thead>\n",
       "    <tr style=\"text-align: right;\">\n",
       "      <th></th>\n",
       "      <th>TRX_aff_L12M_COL_PTS</th>\n",
       "      <th>TRX_aff_L12M_PUR_AMT</th>\n",
       "      <th>TRX_aff_L12M_RED_CNT</th>\n",
       "      <th>TRX_aff_L12M_RED_PTS</th>\n",
       "      <th>TRX_aff_L3M_BASE_PTS</th>\n",
       "      <th>TRX_aff_L3M_COL_CNT</th>\n",
       "      <th>TRX_aff_L3M_PROMO_PTS</th>\n",
       "      <th>TRX_aff_L3M_PUR_AMT</th>\n",
       "      <th>TRX_aff_L3M_RED_CNT</th>\n",
       "      <th>TRX_aff_L3M_RED_PTS</th>\n",
       "      <th>...</th>\n",
       "      <th>WEB_REW_UNQ_SES_CNT_L3M</th>\n",
       "      <th>WEB_REW_TIME_SPEND_L3M</th>\n",
       "      <th>WEB_REW_UNQ_SES_CNT_L6M</th>\n",
       "      <th>WEB_REW_TIME_SPEND_L6M</th>\n",
       "      <th>WEB_REW_UNQ_SES_CNT_L12M</th>\n",
       "      <th>WEB_REW_TIME_SPEND_L12M</th>\n",
       "      <th>event</th>\n",
       "      <th>id</th>\n",
       "      <th>oferta</th>\n",
       "      <th>kategoria</th>\n",
       "    </tr>\n",
       "  </thead>\n",
       "  <tbody>\n",
       "    <tr>\n",
       "      <th>0</th>\n",
       "      <td>0</td>\n",
       "      <td>0.0</td>\n",
       "      <td>0</td>\n",
       "      <td>0</td>\n",
       "      <td>0</td>\n",
       "      <td>0</td>\n",
       "      <td>0</td>\n",
       "      <td>0.0</td>\n",
       "      <td>0</td>\n",
       "      <td>0</td>\n",
       "      <td>...</td>\n",
       "      <td>0</td>\n",
       "      <td>0</td>\n",
       "      <td>0</td>\n",
       "      <td>0</td>\n",
       "      <td>1</td>\n",
       "      <td>114</td>\n",
       "      <td>0</td>\n",
       "      <td>1</td>\n",
       "      <td>NaN</td>\n",
       "      <td>NaN</td>\n",
       "    </tr>\n",
       "    <tr>\n",
       "      <th>1</th>\n",
       "      <td>0</td>\n",
       "      <td>0.0</td>\n",
       "      <td>0</td>\n",
       "      <td>0</td>\n",
       "      <td>0</td>\n",
       "      <td>0</td>\n",
       "      <td>0</td>\n",
       "      <td>0.0</td>\n",
       "      <td>0</td>\n",
       "      <td>0</td>\n",
       "      <td>...</td>\n",
       "      <td>1</td>\n",
       "      <td>1193</td>\n",
       "      <td>3</td>\n",
       "      <td>2288</td>\n",
       "      <td>5</td>\n",
       "      <td>4844</td>\n",
       "      <td>0</td>\n",
       "      <td>2</td>\n",
       "      <td>NaN</td>\n",
       "      <td>NaN</td>\n",
       "    </tr>\n",
       "    <tr>\n",
       "      <th>2</th>\n",
       "      <td>0</td>\n",
       "      <td>0.0</td>\n",
       "      <td>0</td>\n",
       "      <td>0</td>\n",
       "      <td>0</td>\n",
       "      <td>0</td>\n",
       "      <td>0</td>\n",
       "      <td>0.0</td>\n",
       "      <td>0</td>\n",
       "      <td>0</td>\n",
       "      <td>...</td>\n",
       "      <td>1</td>\n",
       "      <td>5</td>\n",
       "      <td>2</td>\n",
       "      <td>77</td>\n",
       "      <td>3</td>\n",
       "      <td>1663</td>\n",
       "      <td>0</td>\n",
       "      <td>3</td>\n",
       "      <td>NaN</td>\n",
       "      <td>NaN</td>\n",
       "    </tr>\n",
       "    <tr>\n",
       "      <th>3</th>\n",
       "      <td>0</td>\n",
       "      <td>0.0</td>\n",
       "      <td>0</td>\n",
       "      <td>0</td>\n",
       "      <td>0</td>\n",
       "      <td>0</td>\n",
       "      <td>0</td>\n",
       "      <td>0.0</td>\n",
       "      <td>0</td>\n",
       "      <td>0</td>\n",
       "      <td>...</td>\n",
       "      <td>1</td>\n",
       "      <td>30</td>\n",
       "      <td>1</td>\n",
       "      <td>30</td>\n",
       "      <td>11</td>\n",
       "      <td>1574</td>\n",
       "      <td>0</td>\n",
       "      <td>4</td>\n",
       "      <td>NaN</td>\n",
       "      <td>NaN</td>\n",
       "    </tr>\n",
       "    <tr>\n",
       "      <th>4</th>\n",
       "      <td>0</td>\n",
       "      <td>0.0</td>\n",
       "      <td>0</td>\n",
       "      <td>0</td>\n",
       "      <td>0</td>\n",
       "      <td>0</td>\n",
       "      <td>0</td>\n",
       "      <td>0.0</td>\n",
       "      <td>0</td>\n",
       "      <td>0</td>\n",
       "      <td>...</td>\n",
       "      <td>0</td>\n",
       "      <td>0</td>\n",
       "      <td>0</td>\n",
       "      <td>0</td>\n",
       "      <td>0</td>\n",
       "      <td>0</td>\n",
       "      <td>0</td>\n",
       "      <td>5</td>\n",
       "      <td>NaN</td>\n",
       "      <td>NaN</td>\n",
       "    </tr>\n",
       "  </tbody>\n",
       "</table>\n",
       "<p>5 rows × 96 columns</p>\n",
       "</div>"
      ],
      "text/plain": [
       "   TRX_aff_L12M_COL_PTS  TRX_aff_L12M_PUR_AMT  TRX_aff_L12M_RED_CNT  \\\n",
       "0                     0                   0.0                     0   \n",
       "1                     0                   0.0                     0   \n",
       "2                     0                   0.0                     0   \n",
       "3                     0                   0.0                     0   \n",
       "4                     0                   0.0                     0   \n",
       "\n",
       "   TRX_aff_L12M_RED_PTS  TRX_aff_L3M_BASE_PTS  TRX_aff_L3M_COL_CNT  \\\n",
       "0                     0                     0                    0   \n",
       "1                     0                     0                    0   \n",
       "2                     0                     0                    0   \n",
       "3                     0                     0                    0   \n",
       "4                     0                     0                    0   \n",
       "\n",
       "   TRX_aff_L3M_PROMO_PTS  TRX_aff_L3M_PUR_AMT  TRX_aff_L3M_RED_CNT  \\\n",
       "0                      0                  0.0                    0   \n",
       "1                      0                  0.0                    0   \n",
       "2                      0                  0.0                    0   \n",
       "3                      0                  0.0                    0   \n",
       "4                      0                  0.0                    0   \n",
       "\n",
       "   TRX_aff_L3M_RED_PTS    ...      WEB_REW_UNQ_SES_CNT_L3M  \\\n",
       "0                    0    ...                            0   \n",
       "1                    0    ...                            1   \n",
       "2                    0    ...                            1   \n",
       "3                    0    ...                            1   \n",
       "4                    0    ...                            0   \n",
       "\n",
       "   WEB_REW_TIME_SPEND_L3M  WEB_REW_UNQ_SES_CNT_L6M  WEB_REW_TIME_SPEND_L6M  \\\n",
       "0                       0                        0                       0   \n",
       "1                    1193                        3                    2288   \n",
       "2                       5                        2                      77   \n",
       "3                      30                        1                      30   \n",
       "4                       0                        0                       0   \n",
       "\n",
       "   WEB_REW_UNQ_SES_CNT_L12M  WEB_REW_TIME_SPEND_L12M  event  id  oferta  \\\n",
       "0                         1                      114      0   1     NaN   \n",
       "1                         5                     4844      0   2     NaN   \n",
       "2                         3                     1663      0   3     NaN   \n",
       "3                        11                     1574      0   4     NaN   \n",
       "4                         0                        0      0   5     NaN   \n",
       "\n",
       "   kategoria  \n",
       "0        NaN  \n",
       "1        NaN  \n",
       "2        NaN  \n",
       "3        NaN  \n",
       "4        NaN  \n",
       "\n",
       "[5 rows x 96 columns]"
      ]
     },
     "execution_count": 53,
     "metadata": {},
     "output_type": "execute_result"
    }
   ],
   "source": [
    "dataset.head()"
   ]
  },
  {
   "cell_type": "code",
   "execution_count": 3,
   "metadata": {
    "collapsed": true
   },
   "outputs": [],
   "source": [
    "dataset['CUST_CA_AAA_FLG'] = dataset.CUST_CA_AAA_FLG.map({'Y' : 1, 'N' : 0})\n",
    "dataset['CUST_CA_BBB_FLG'] = dataset.CUST_CA_BBB_FLG.map({'Y' : 1, 'N' : 0})\n",
    "dataset['CUST_CA_CCC_FLG'] = dataset.CUST_CA_CCC_FLG.map({'Y' : 1, 'N' : 0})"
   ]
  },
  {
   "cell_type": "code",
   "execution_count": 57,
   "metadata": {
    "collapsed": true
   },
   "outputs": [
    {
     "data": {
      "text/plain": [
       "Index(['TRX_aff_L12M_COL_PTS', 'TRX_aff_L12M_PUR_AMT', 'TRX_aff_L12M_RED_CNT',\n",
       "       'TRX_aff_L12M_RED_PTS', 'TRX_aff_L3M_BASE_PTS', 'TRX_aff_L3M_COL_CNT',\n",
       "       'TRX_aff_L3M_PROMO_PTS', 'TRX_aff_L3M_PUR_AMT', 'TRX_aff_L3M_RED_CNT',\n",
       "       'TRX_aff_L3M_RED_PTS', 'TRX_all_L12M_PROMO_PTS', 'TRX_all_L12M_PUR_AMT',\n",
       "       'TRX_all_L12M_PUR_PTS', 'TRX_all_L12M_RED_CNT', 'TRX_all_L12M_RED_PTS',\n",
       "       'TRX_all_L3M_BASE_PTS', 'TRX_all_L3M_COL_CNT', 'TRX_all_L3M_PROMO_PTS',\n",
       "       'TRX_all_L3M_PUR_AMT', 'TRX_all_L3M_RED_CNT', 'TRX_all_L3M_RED_PTS',\n",
       "       'ACCT_BAL_MOD_CNT', 'ACCT_TOT_COL_AMT', 'ACCT_UNBLOCKED_POINTS',\n",
       "       'TIME_FROM_ENRL', 'TIME_FROM_FIRST_DT', 'TIME_FROM_LAST_DT',\n",
       "       'CARDA_PAYM_CNT', 'ACCT_PTS_EXPIRED', 'ACCT_PTS_TO_EXPIRE',\n",
       "       'CUST_GFK_POPULATION', 'CUST_GFK_HOUSEHOLDS', 'CUST_HH_SIZE',\n",
       "       'CUST_PROFESSION_CD', 'CUST_AGE', 'CUST_GENDER', 'CUST_CA_AAA_FLG',\n",
       "       'CUST_CA_BBB_FLG', 'CUST_CA_CCC_FLG', 'CUST_CA_BBB_KM_CNT',\n",
       "       'CUST_CA_AAA_KM_CNT', 'CUST_CA_CCC_KM_CNT', 'WEB_ALL_UNQ_SES_CNT_L2W',\n",
       "       'WEB_ALL_TIME_SPEND_L2W', 'WEB_ALL_UNQ_SES_CNT_L4W',\n",
       "       'WEB_ALL_TIME_SPEND_L4W', 'WEB_AFF_UNQ_SES_CNT_L2W',\n",
       "       'WEB_AFF_TIME_SPEND_L2W', 'WEB_AFF_UNQ_SES_CNT_L4W',\n",
       "       'WEB_AFF_TIME_SPEND_L4W', 'WEB_HIS_UNQ_SES_CNT_L2W',\n",
       "       'WEB_HIS_TIME_SPEND_L2W', 'WEB_HIS_UNQ_SES_CNT_L4W',\n",
       "       'WEB_HIS_TIME_SPEND_L4W', 'WEB_OCC_UNQ_SES_CNT_L2W',\n",
       "       'WEB_OCC_TIME_SPEND_L2W', 'WEB_OCC_UNQ_SES_CNT_L4W',\n",
       "       'WEB_OCC_TIME_SPEND_L4W', 'WEB_REW_UNQ_SES_CNT_L2W',\n",
       "       'WEB_REW_TIME_SPEND_L2W', 'WEB_REW_UNQ_SES_CNT_L4W',\n",
       "       'WEB_REW_TIME_SPEND_L4W', 'WEB_ALL_UNQ_SES_CNT_L3M',\n",
       "       'WEB_ALL_TIME_SPEND_L3M', 'WEB_ALL_UNQ_SES_CNT_L6M',\n",
       "       'WEB_ALL_TIME_SPEND_L6M', 'WEB_ALL_UNQ_SES_CNT_L12M',\n",
       "       'WEB_ALL_TIME_SPEND_L12M', 'WEB_AFF_UNQ_SES_CNT_L3M',\n",
       "       'WEB_AFF_TIME_SPEND_L3M', 'WEB_AFF_UNQ_SES_CNT_L6M',\n",
       "       'WEB_AFF_TIME_SPEND_L6M', 'WEB_AFF_UNQ_SES_CNT_L12M',\n",
       "       'WEB_AFF_TIME_SPEND_L12M', 'WEB_HIS_UNQ_SES_CNT_L3M',\n",
       "       'WEB_HIS_TIME_SPEND_L3M', 'WEB_HIS_UNQ_SES_CNT_L6M',\n",
       "       'WEB_HIS_TIME_SPEND_L6M', 'WEB_HIS_UNQ_SES_CNT_L12M',\n",
       "       'WEB_HIS_TIME_SPEND_L12M', 'WEB_OCC_UNQ_SES_CNT_L3M',\n",
       "       'WEB_OCC_TIME_SPEND_L3M', 'WEB_OCC_UNQ_SES_CNT_L6M',\n",
       "       'WEB_OCC_TIME_SPEND_L6M', 'WEB_OCC_UNQ_SES_CNT_L12M',\n",
       "       'WEB_OCC_TIME_SPEND_L12M', 'WEB_REW_UNQ_SES_CNT_L3M',\n",
       "       'WEB_REW_TIME_SPEND_L3M', 'WEB_REW_UNQ_SES_CNT_L6M',\n",
       "       'WEB_REW_TIME_SPEND_L6M', 'WEB_REW_UNQ_SES_CNT_L12M',\n",
       "       'WEB_REW_TIME_SPEND_L12M', 'event', 'id', 'oferta', 'kategoria'],\n",
       "      dtype='object')"
      ]
     },
     "execution_count": 57,
     "metadata": {},
     "output_type": "execute_result"
    }
   ],
   "source": [
    "dataset.columns"
   ]
  },
  {
   "cell_type": "code",
   "execution_count": 152,
   "metadata": {
    "collapsed": true
   },
   "outputs": [
    {
     "data": {
      "text/plain": [
       "0          0.00\n",
       "1          6.18\n",
       "2          6.29\n",
       "3          9.16\n",
       "4          3.35\n",
       "5          5.92\n",
       "6         10.72\n",
       "7          7.73\n",
       "8          3.07\n",
       "9         11.91\n",
       "10         3.78\n",
       "11         4.83\n",
       "12         5.31\n",
       "13         6.29\n",
       "14         6.29\n",
       "15         6.95\n",
       "16        12.37\n",
       "17         7.52\n",
       "18         7.73\n",
       "19         0.45\n",
       "20        26.35\n",
       "21         7.73\n",
       "22         9.50\n",
       "23        10.58\n",
       "24         2.04\n",
       "25        19.40\n",
       "26         6.29\n",
       "27        22.03\n",
       "28        52.49\n",
       "29         2.51\n",
       "          ...  \n",
       "226242     3.59\n",
       "226243    75.27\n",
       "226244     6.85\n",
       "226245     4.05\n",
       "226246    76.99\n",
       "226247     2.94\n",
       "226248     2.75\n",
       "226249     2.59\n",
       "226250     4.51\n",
       "226251     3.20\n",
       "226252    16.48\n",
       "226253     6.38\n",
       "226254    12.74\n",
       "226255    46.20\n",
       "226256    14.94\n",
       "226257     6.39\n",
       "226258     3.20\n",
       "226259     4.51\n",
       "226260     3.61\n",
       "226261     5.15\n",
       "226262     0.93\n",
       "226263    74.61\n",
       "226264     5.15\n",
       "226265    52.18\n",
       "226266    63.85\n",
       "226267     7.43\n",
       "226268     5.34\n",
       "226269     4.06\n",
       "226270    25.17\n",
       "226271     0.00\n",
       "Name: CUST_CA_AAA_KM_CNT, Length: 226272, dtype: float64"
      ]
     },
     "execution_count": 152,
     "metadata": {},
     "output_type": "execute_result"
    }
   ],
   "source": [
    "dataset['CUST_CA_AAA_KM_CNT']"
   ]
  },
  {
   "cell_type": "code",
   "execution_count": 4,
   "metadata": {},
   "outputs": [
    {
     "data": {
      "text/plain": [
       "226272"
      ]
     },
     "execution_count": 4,
     "metadata": {},
     "output_type": "execute_result"
    }
   ],
   "source": [
    "len(dataset)"
   ]
  },
  {
   "cell_type": "code",
   "execution_count": 8,
   "metadata": {
    "collapsed": true
   },
   "outputs": [
    {
     "data": {
      "text/plain": [
       "TRX_aff_L12M_COL_PTS        1772\n",
       "TRX_aff_L12M_PUR_AMT        1772\n",
       "TRX_aff_L12M_RED_CNT        1772\n",
       "TRX_aff_L12M_RED_PTS        1772\n",
       "TRX_aff_L3M_BASE_PTS        1772\n",
       "TRX_aff_L3M_COL_CNT         1772\n",
       "TRX_aff_L3M_PROMO_PTS       1772\n",
       "TRX_aff_L3M_PUR_AMT         1772\n",
       "TRX_aff_L3M_RED_CNT         1772\n",
       "TRX_aff_L3M_RED_PTS         1772\n",
       "TRX_all_L12M_PROMO_PTS      1772\n",
       "TRX_all_L12M_PUR_AMT        1772\n",
       "TRX_all_L12M_PUR_PTS        1772\n",
       "TRX_all_L12M_RED_CNT        1772\n",
       "TRX_all_L12M_RED_PTS        1772\n",
       "TRX_all_L3M_BASE_PTS        1772\n",
       "TRX_all_L3M_COL_CNT         1772\n",
       "TRX_all_L3M_PROMO_PTS       1772\n",
       "TRX_all_L3M_PUR_AMT         1772\n",
       "TRX_all_L3M_RED_CNT         1772\n",
       "TRX_all_L3M_RED_PTS         1772\n",
       "ACCT_BAL_MOD_CNT            1772\n",
       "ACCT_TOT_COL_AMT            1772\n",
       "ACCT_UNBLOCKED_POINTS       1772\n",
       "TIME_FROM_ENRL              1772\n",
       "TIME_FROM_FIRST_DT          1772\n",
       "TIME_FROM_LAST_DT           1772\n",
       "CARDA_PAYM_CNT              1772\n",
       "ACCT_PTS_EXPIRED            1772\n",
       "ACCT_PTS_TO_EXPIRE          1772\n",
       "                            ... \n",
       "WEB_ALL_UNQ_SES_CNT_L12M    1772\n",
       "WEB_ALL_TIME_SPEND_L12M     1772\n",
       "WEB_AFF_UNQ_SES_CNT_L3M     1772\n",
       "WEB_AFF_TIME_SPEND_L3M      1772\n",
       "WEB_AFF_UNQ_SES_CNT_L6M     1772\n",
       "WEB_AFF_TIME_SPEND_L6M      1772\n",
       "WEB_AFF_UNQ_SES_CNT_L12M    1772\n",
       "WEB_AFF_TIME_SPEND_L12M     1772\n",
       "WEB_HIS_UNQ_SES_CNT_L3M     1772\n",
       "WEB_HIS_TIME_SPEND_L3M      1772\n",
       "WEB_HIS_UNQ_SES_CNT_L6M     1772\n",
       "WEB_HIS_TIME_SPEND_L6M      1772\n",
       "WEB_HIS_UNQ_SES_CNT_L12M    1772\n",
       "WEB_HIS_TIME_SPEND_L12M     1772\n",
       "WEB_OCC_UNQ_SES_CNT_L3M     1772\n",
       "WEB_OCC_TIME_SPEND_L3M      1772\n",
       "WEB_OCC_UNQ_SES_CNT_L6M     1772\n",
       "WEB_OCC_TIME_SPEND_L6M      1772\n",
       "WEB_OCC_UNQ_SES_CNT_L12M    1772\n",
       "WEB_OCC_TIME_SPEND_L12M     1772\n",
       "WEB_REW_UNQ_SES_CNT_L3M     1772\n",
       "WEB_REW_TIME_SPEND_L3M      1772\n",
       "WEB_REW_UNQ_SES_CNT_L6M     1772\n",
       "WEB_REW_TIME_SPEND_L6M      1772\n",
       "WEB_REW_UNQ_SES_CNT_L12M    1772\n",
       "WEB_REW_TIME_SPEND_L12M     1772\n",
       "event                       1772\n",
       "id                          1772\n",
       "oferta                      1772\n",
       "kategoria                   1772\n",
       "Length: 96, dtype: int64"
      ]
     },
     "execution_count": 8,
     "metadata": {},
     "output_type": "execute_result"
    }
   ],
   "source": [
    "dataset.query('event == 1').count()"
   ]
  },
  {
   "cell_type": "code",
   "execution_count": 5,
   "metadata": {
    "collapsed": true
   },
   "outputs": [],
   "source": [
    "X = dataset.drop(labels=['event', 'oferta', 'kategoria', 'id'], axis=1)"
   ]
  },
  {
   "cell_type": "code",
   "execution_count": 6,
   "metadata": {
    "collapsed": true
   },
   "outputs": [],
   "source": [
    "Y = dataset.event"
   ]
  },
  {
   "cell_type": "code",
   "execution_count": 8,
   "metadata": {
    "collapsed": true
   },
   "outputs": [],
   "source": [
    "X_train, X_test, Y_train, Y_test = train_test_split(X, Y, test_size=0.25, random_state=42)"
   ]
  },
  {
   "cell_type": "code",
   "execution_count": 9,
   "metadata": {},
   "outputs": [
    {
     "data": {
      "text/plain": [
       "(169704, 56568, 169704, 56568)"
      ]
     },
     "execution_count": 9,
     "metadata": {},
     "output_type": "execute_result"
    }
   ],
   "source": [
    "len(X_train), len(X_test), len(Y_train), len(Y_test)"
   ]
  },
  {
   "cell_type": "code",
   "execution_count": 45,
   "metadata": {},
   "outputs": [
    {
     "data": {
      "text/plain": [
       "(1326, 446)"
      ]
     },
     "execution_count": 45,
     "metadata": {},
     "output_type": "execute_result"
    }
   ],
   "source": [
    "len(Y_train[Y_train==1]) , len(Y_test[Y_test==1])"
   ]
  },
  {
   "cell_type": "markdown",
   "metadata": {},
   "source": [
    "Over Sampling"
   ]
  },
  {
   "cell_type": "code",
   "execution_count": 10,
   "metadata": {
    "collapsed": true,
    "scrolled": true
   },
   "outputs": [],
   "source": [
    "from imblearn import over_sampling"
   ]
  },
  {
   "cell_type": "code",
   "execution_count": 20,
   "metadata": {
    "collapsed": true
   },
   "outputs": [],
   "source": [
    "adasyn = over_sampling.ADASYN(ratio=0.3, random_state=42)"
   ]
  },
  {
   "cell_type": "code",
   "execution_count": 21,
   "metadata": {},
   "outputs": [
    {
     "name": "stderr",
     "output_type": "stream",
     "text": [
      "C:\\Apps\\Anaconda\\lib\\site-packages\\sklearn\\utils\\deprecation.py:77: DeprecationWarning: Function _ratio_float is deprecated; Use a float for 'ratio' is deprecated from version 0.2. The support will be removed in 0.4. Use a dict, str, or a callable instead.\n",
      "  warnings.warn(msg, category=DeprecationWarning)\n"
     ]
    }
   ],
   "source": [
    "X_resampled, Y_resampled = adasyn.fit_sample(X_train, Y_train)"
   ]
  },
  {
   "cell_type": "code",
   "execution_count": 22,
   "metadata": {},
   "outputs": [
    {
     "data": {
      "text/plain": [
       "(219234, 50856)"
      ]
     },
     "execution_count": 22,
     "metadata": {},
     "output_type": "execute_result"
    }
   ],
   "source": [
    "len(Y_resampled), len(Y_resampled[Y_resampled==1])"
   ]
  },
  {
   "cell_type": "markdown",
   "metadata": {},
   "source": [
    "Standardyzacja"
   ]
  },
  {
   "cell_type": "code",
   "execution_count": 7,
   "metadata": {
    "collapsed": true
   },
   "outputs": [],
   "source": [
    "from sklearn.preprocessing import StandardScaler"
   ]
  },
  {
   "cell_type": "code",
   "execution_count": 23,
   "metadata": {
    "collapsed": true
   },
   "outputs": [],
   "source": [
    "X_resampled_sc = StandardScaler().fit(X_resampled).transform(X_resampled)"
   ]
  },
  {
   "cell_type": "code",
   "execution_count": 24,
   "metadata": {},
   "outputs": [
    {
     "data": {
      "text/plain": [
       "array([[-0.05649813, -0.03497389,  0.        , ..., -0.30415447,\n",
       "        -0.5053436 , -0.34486782],\n",
       "       [-0.05649813, -0.03497389,  0.        , ..., -0.0568889 ,\n",
       "        -0.22813505, -0.17485877],\n",
       "       [-0.05649813, -0.03497389,  0.        , ..., -0.30415447,\n",
       "        -0.5053436 , -0.34486782],\n",
       "       ..., \n",
       "       [-0.05649813, -0.03497389,  0.        , ..., -0.24608591,\n",
       "        -0.08313685, -0.25337582],\n",
       "       [-0.05649813, -0.03497389,  0.        , ..., -0.25319185,\n",
       "         0.12665821, -0.0266761 ],\n",
       "       [-0.05649813, -0.03497389,  0.        , ..., -0.24048202,\n",
       "        -0.31713327, -0.25612338]])"
      ]
     },
     "execution_count": 24,
     "metadata": {},
     "output_type": "execute_result"
    }
   ],
   "source": [
    "X_resampled_sc"
   ]
  },
  {
   "cell_type": "code",
   "execution_count": 25,
   "metadata": {
    "collapsed": true
   },
   "outputs": [],
   "source": [
    "X_test_sc = StandardScaler().fit(X_test).transform(X_test)"
   ]
  },
  {
   "cell_type": "markdown",
   "metadata": {},
   "source": [
    "Baseline Models"
   ]
  },
  {
   "cell_type": "code",
   "execution_count": 26,
   "metadata": {
    "collapsed": true
   },
   "outputs": [],
   "source": [
    "from sklearn.neural_network import MLPClassifier"
   ]
  },
  {
   "cell_type": "code",
   "execution_count": 31,
   "metadata": {
    "collapsed": true
   },
   "outputs": [],
   "source": [
    "from sklearn.metrics import confusion_matrix, classification_report"
   ]
  },
  {
   "cell_type": "code",
   "execution_count": 117,
   "metadata": {
    "collapsed": true
   },
   "outputs": [],
   "source": [
    "mlp = MLPClassifier(hidden_layer_sizes=(4, 6), early_stopping=True)"
   ]
  },
  {
   "cell_type": "code",
   "execution_count": 118,
   "metadata": {
    "scrolled": false
   },
   "outputs": [
    {
     "data": {
      "text/plain": [
       "MLPClassifier(activation='relu', alpha=0.0001, batch_size='auto', beta_1=0.9,\n",
       "       beta_2=0.999, early_stopping=True, epsilon=1e-08,\n",
       "       hidden_layer_sizes=(4, 6), learning_rate='constant',\n",
       "       learning_rate_init=0.001, max_iter=200, momentum=0.9,\n",
       "       nesterovs_momentum=True, power_t=0.5, random_state=None,\n",
       "       shuffle=True, solver='adam', tol=0.0001, validation_fraction=0.1,\n",
       "       verbose=False, warm_start=False)"
      ]
     },
     "execution_count": 118,
     "metadata": {},
     "output_type": "execute_result"
    }
   ],
   "source": [
    "mlp.fit(X_resampled_sc, Y_resampled)"
   ]
  },
  {
   "cell_type": "code",
   "execution_count": 119,
   "metadata": {
    "collapsed": true
   },
   "outputs": [],
   "source": [
    "predictions = mlp.predict(X_test_sc)"
   ]
  },
  {
   "cell_type": "code",
   "execution_count": 120,
   "metadata": {
    "scrolled": true
   },
   "outputs": [
    {
     "name": "stdout",
     "output_type": "stream",
     "text": [
      "[[46182  9940]\n",
      " [  108   338]]\n"
     ]
    }
   ],
   "source": [
    "print(confusion_matrix(Y_test, predictions))"
   ]
  },
  {
   "cell_type": "code",
   "execution_count": 121,
   "metadata": {
    "scrolled": true
   },
   "outputs": [
    {
     "name": "stdout",
     "output_type": "stream",
     "text": [
      "             precision    recall  f1-score   support\n",
      "\n",
      "          0       1.00      0.82      0.90     56122\n",
      "          1       0.03      0.76      0.06       446\n",
      "\n",
      "avg / total       0.99      0.82      0.90     56568\n",
      "\n"
     ]
    }
   ],
   "source": [
    "print(classification_report(Y_test, predictions))"
   ]
  },
  {
   "cell_type": "code",
   "execution_count": 33,
   "metadata": {
    "collapsed": true
   },
   "outputs": [],
   "source": [
    "from sklearn.linear_model import LogisticRegression as LR"
   ]
  },
  {
   "cell_type": "code",
   "execution_count": 34,
   "metadata": {
    "collapsed": true
   },
   "outputs": [],
   "source": [
    "linreg = LR(C=1e5)"
   ]
  },
  {
   "cell_type": "code",
   "execution_count": 35,
   "metadata": {
    "collapsed": true
   },
   "outputs": [],
   "source": [
    "linreg.fit(X_resampled_sc, Y_resampled)\n",
    "pred = linreg.predict(X_test_sc)"
   ]
  },
  {
   "cell_type": "code",
   "execution_count": 36,
   "metadata": {
    "scrolled": false
   },
   "outputs": [
    {
     "name": "stdout",
     "output_type": "stream",
     "text": [
      "[[49909  6213]\n",
      " [  115   331]]\n"
     ]
    }
   ],
   "source": [
    "print(confusion_matrix(Y_test, pred))"
   ]
  },
  {
   "cell_type": "code",
   "execution_count": 123,
   "metadata": {},
   "outputs": [
    {
     "name": "stdout",
     "output_type": "stream",
     "text": [
      "             precision    recall  f1-score   support\n",
      "\n",
      "          0       1.00      0.89      0.94     56122\n",
      "          1       0.05      0.74      0.09       446\n",
      "\n",
      "avg / total       0.99      0.89      0.93     56568\n",
      "\n"
     ]
    }
   ],
   "source": [
    "print(classification_report(Y_test, pred))"
   ]
  },
  {
   "cell_type": "code",
   "execution_count": 150,
   "metadata": {},
   "outputs": [
    {
     "data": {
      "text/plain": [
       "array([[49909,  6213],\n",
       "       [  115,   331]], dtype=int64)"
      ]
     },
     "execution_count": 150,
     "metadata": {},
     "output_type": "execute_result"
    }
   ],
   "source": [
    "confusion_matrix(Y_test, pred)"
   ]
  },
  {
   "cell_type": "markdown",
   "metadata": {},
   "source": [
    "ReLu Function:"
   ]
  },
  {
   "cell_type": "code",
   "execution_count": 138,
   "metadata": {
    "collapsed": true
   },
   "outputs": [],
   "source": [
    "x = np.arange(-5, 6, 1)\n",
    "y = [max(0, x) for x in x] "
   ]
  },
  {
   "cell_type": "code",
   "execution_count": 139,
   "metadata": {},
   "outputs": [
    {
     "data": {
      "text/plain": [
       "array([-5, -4, -3, -2, -1,  0,  1,  2,  3,  4,  5])"
      ]
     },
     "execution_count": 139,
     "metadata": {},
     "output_type": "execute_result"
    }
   ],
   "source": [
    "x"
   ]
  },
  {
   "cell_type": "code",
   "execution_count": 140,
   "metadata": {},
   "outputs": [
    {
     "data": {
      "text/plain": [
       "[0, 0, 0, 0, 0, 0, 1, 2, 3, 4, 5]"
      ]
     },
     "execution_count": 140,
     "metadata": {},
     "output_type": "execute_result"
    }
   ],
   "source": [
    "y"
   ]
  },
  {
   "cell_type": "code",
   "execution_count": 146,
   "metadata": {},
   "outputs": [
    {
     "data": {
      "text/plain": [
       "<matplotlib.text.Text at 0x2489da34438>"
      ]
     },
     "execution_count": 146,
     "metadata": {},
     "output_type": "execute_result"
    },
    {
     "data": {
      "image/png": "[encoded data removed]",
      "text/plain": [
       "<matplotlib.figure.Figure at 0x2489d92b588>"
      ]
     },
     "metadata": {},
     "output_type": "display_data"
    }
   ],
   "source": [
    "plt.plot(x, y)\n",
    "plt.title('ReLU')\n",
    "plt.ylabel('f(z)')\n",
    "plt.xlabel('z')"
   ]
  },
  {
   "cell_type": "code",
   "execution_count": null,
   "metadata": {
    "collapsed": true
   },
   "outputs": [],
   "source": []
  }
 ],
 "metadata": {
  "kernelspec": {
   "display_name": "Python 3",
   "language": "python",
   "name": "python3"
  },
  "language_info": {
   "codemirror_mode": {
    "name": "ipython",
    "version": 3
   },
   "file_extension": ".py",
   "mimetype": "text/x-python",
   "name": "python",
   "nbconvert_exporter": "python",
   "pygments_lexer": "ipython3",
   "version": "3.7.2"
  }
 },
 "nbformat": 4,
 "nbformat_minor": 2
}
