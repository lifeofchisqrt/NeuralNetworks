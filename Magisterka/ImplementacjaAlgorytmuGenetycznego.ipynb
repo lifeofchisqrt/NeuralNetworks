{
 "cells": [
  {
   "cell_type": "code",
   "execution_count": 3,
   "metadata": {
    "collapsed": true
   },
   "outputs": [],
   "source": [
    "# importowanie potrzebnych modułów\n",
    "import numpy as np\n",
    "import pandas as pd\n",
    "from sklearn import preprocessing"
   ]
  },
  {
   "cell_type": "code",
   "execution_count": 6,
   "metadata": {
    "collapsed": true
   },
   "outputs": [],
   "source": [
    "from math import exp"
   ]
  },
  {
   "cell_type": "markdown",
   "metadata": {},
   "source": [
    "### Implementacja algorytmu genetycznego"
   ]
  },
  {
   "cell_type": "markdown",
   "metadata": {},
   "source": [
    "1. Inicjalizacja:"
   ]
  },
  {
   "cell_type": "code",
   "execution_count": 787,
   "metadata": {},
   "outputs": [
    {
     "name": "stdout",
     "output_type": "stream",
     "text": [
      "0.01\n",
      "0.00904837418036\n",
      "0.00818730753078\n",
      "0.00740818220682\n",
      "0.00670320046036\n",
      "0.00606530659713\n",
      "0.00548811636094\n",
      "0.00496585303791\n",
      "0.00449328964117\n",
      "0.00406569659741\n"
     ]
    }
   ],
   "source": [
    "# prawdopodobieństwo selekcji:\n",
    "#selectionProbability = 0.7\n",
    "# prawdopodobieństwo mutacji:\n",
    "mutationPr = 0.01\n",
    "# dodatkowo prawdopodobieństwo mutacji można potraktować tak jak parametr temperatury w wyżarzaniu symulowanym \n",
    "# - zmniejszać go w czasie - -exp(liczbaIteracji)\n",
    "for i in range(10):\n",
    "    print(mutationPr/np.exp(i/10))\n",
    "\n"
   ]
  },
  {
   "cell_type": "code",
   "execution_count": 4,
   "metadata": {
    "collapsed": true
   },
   "outputs": [],
   "source": [
    "np.random.seed(42)"
   ]
  },
  {
   "cell_type": "code",
   "execution_count": 28,
   "metadata": {
    "collapsed": true
   },
   "outputs": [],
   "source": [
    "# randomowe liczby, od 0 do 1, fitness function to log\n",
    "fitnessValue = np.zeros(100)\n",
    "for i in range(1, 100):\n",
    "    fitnessValue[i-1] = np.log(np.random.random()+1)"
   ]
  },
  {
   "cell_type": "code",
   "execution_count": 29,
   "metadata": {},
   "outputs": [
    {
     "data": {
      "text/plain": [
       "array([ 0.68594655,  0.21676748,  0.51410158,  0.56623362,  0.21320436])"
      ]
     },
     "execution_count": 29,
     "metadata": {},
     "output_type": "execute_result"
    }
   ],
   "source": [
    "fitnessValue[:5]"
   ]
  },
  {
   "cell_type": "code",
   "execution_count": 97,
   "metadata": {},
   "outputs": [
    {
     "data": {
      "text/plain": [
       "array([[ 0.68423303,  0.44015249],\n",
       "       [ 0.12203823,  0.49517691],\n",
       "       [ 0.03438852,  0.9093204 ],\n",
       "       [ 0.25877998,  0.66252228],\n",
       "       [ 0.31171108,  0.52006802],\n",
       "       [ 0.54671028,  0.18485446],\n",
       "       [ 0.96958463,  0.77513282],\n",
       "       [ 0.93949894,  0.89482735],\n",
       "       [ 0.59789998,  0.92187424],\n",
       "       [ 0.0884925 ,  0.19598286]])"
      ]
     },
     "execution_count": 97,
     "metadata": {},
     "output_type": "execute_result"
    }
   ],
   "source": [
    "# liczba chromosomów w populacji\n",
    "n_pop = 10\n",
    "# liczba genów per chromosom\n",
    "n_ch = 2\n",
    "init_weights = np.random.random((n_pop, n_ch))\n",
    "#init_weights = np.dot(0.5, np.ones((n_pop, n_ch)))\n",
    "init_weights"
   ]
  },
  {
   "cell_type": "code",
   "execution_count": 89,
   "metadata": {},
   "outputs": [
    {
     "data": {
      "text/plain": [
       "array([[ 1.,  1.],\n",
       "       [ 1.,  1.],\n",
       "       [ 1.,  1.],\n",
       "       [ 1.,  1.],\n",
       "       [ 1.,  1.],\n",
       "       [ 1.,  1.],\n",
       "       [ 1.,  1.],\n",
       "       [ 1.,  1.],\n",
       "       [ 1.,  1.],\n",
       "       [ 1.,  1.]])"
      ]
     },
     "execution_count": 89,
     "metadata": {},
     "output_type": "execute_result"
    }
   ],
   "source": [
    "np.ones((10, 2))"
   ]
  },
  {
   "cell_type": "code",
   "execution_count": 16,
   "metadata": {
    "collapsed": true
   },
   "outputs": [],
   "source": [
    "def funkcja_aktywacji(x):\n",
    "    return 1/(1+exp(-x))"
   ]
  },
  {
   "cell_type": "markdown",
   "metadata": {},
   "source": [
    "koszt wysyłki - 0.1 per recipient\n",
    "zysk - 20 per positive response"
   ]
  },
  {
   "cell_type": "code",
   "execution_count": 107,
   "metadata": {},
   "outputs": [
    {
     "data": {
      "text/plain": [
       "35440"
      ]
     },
     "execution_count": 107,
     "metadata": {},
     "output_type": "execute_result"
    }
   ],
   "source": [
    "1772*20"
   ]
  },
  {
   "cell_type": "code",
   "execution_count": 105,
   "metadata": {},
   "outputs": [
    {
     "data": {
      "text/plain": [
       "22600.0"
      ]
     },
     "execution_count": 105,
     "metadata": {},
     "output_type": "execute_result"
    }
   ],
   "source": [
    "226000*0.1"
   ]
  },
  {
   "cell_type": "code",
   "execution_count": 143,
   "metadata": {},
   "outputs": [],
   "source": [
    "# macierz kosztu = [TP, FP, TN, FN]\n",
    "def funkcjaKosztu(k):\n",
    "    # funkcja przyjmuje jako argument macierz 2x2\n",
    "    cost_matrix = np.array([-19.9, 0.1, 0, 20.1])\n",
    "    return np.round(np.dot(k, cost_matrix), 5)"
   ]
  },
  {
   "cell_type": "code",
   "execution_count": 110,
   "metadata": {},
   "outputs": [
    {
     "data": {
      "text/plain": [
       "-3561.3999999999996"
      ]
     },
     "execution_count": 110,
     "metadata": {},
     "output_type": "execute_result"
    }
   ],
   "source": [
    "# MLP\n",
    "funkcjaKosztu([338, 9940, 46182, 108])"
   ]
  },
  {
   "cell_type": "code",
   "execution_count": 111,
   "metadata": {},
   "outputs": [
    {
     "data": {
      "text/plain": [
       "-3654.0999999999995"
      ]
     },
     "execution_count": 111,
     "metadata": {},
     "output_type": "execute_result"
    }
   ],
   "source": [
    "# log\n",
    "funkcjaKosztu([331, 6213, 49909, 115])"
   ]
  },
  {
   "cell_type": "code",
   "execution_count": 99,
   "metadata": {},
   "outputs": [
    {
     "data": {
      "text/plain": [
       "array([ 0.68423303,  0.44015249])"
      ]
     },
     "execution_count": 99,
     "metadata": {},
     "output_type": "execute_result"
    }
   ],
   "source": [
    "weights = init_weights[0]\n",
    "weights"
   ]
  },
  {
   "cell_type": "code",
   "execution_count": 131,
   "metadata": {},
   "outputs": [],
   "source": [
    "input_matrix = np.array([[1, 1, 0, 0], [1, 0, 1, 0]])\n",
    "output_matrix = [np.dot(w, input_matrix[i]) for i, w in enumerate(weights)]  \n",
    "expected_output = np.array([1, 0, 0, 0])"
   ]
  },
  {
   "cell_type": "code",
   "execution_count": 101,
   "metadata": {},
   "outputs": [
    {
     "data": {
      "text/plain": [
       "[array([ 0.68423303,  0.68423303,  0.        ,  0.        ]),\n",
       " array([ 0.44015249,  0.        ,  0.44015249,  0.        ])]"
      ]
     },
     "execution_count": 101,
     "metadata": {},
     "output_type": "execute_result"
    }
   ],
   "source": [
    "output_matrix"
   ]
  },
  {
   "cell_type": "code",
   "execution_count": 145,
   "metadata": {},
   "outputs": [
    {
     "data": {
      "text/plain": [
       "array([ 1.12438552,  0.68423303,  0.44015249,  0.        ])"
      ]
     },
     "execution_count": 145,
     "metadata": {},
     "output_type": "execute_result"
    }
   ],
   "source": [
    "np.sum(output_matrix, axis=0)"
   ]
  },
  {
   "cell_type": "code",
   "execution_count": 146,
   "metadata": {},
   "outputs": [
    {
     "data": {
      "text/plain": [
       "array([ 0.75480128,  0.66468281,  0.60829537,  0.5       ])"
      ]
     },
     "execution_count": 146,
     "metadata": {},
     "output_type": "execute_result"
    }
   ],
   "source": [
    "hat_matrix"
   ]
  },
  {
   "cell_type": "code",
   "execution_count": 136,
   "metadata": {},
   "outputs": [],
   "source": [
    "hat_matrix = np.sum(output_matrix, axis=0)\n",
    "pred_matrix = np.zeros(len(expected_output), dtype=int)\n",
    "for i, h in enumerate(hat_matrix):\n",
    "    hat_matrix[i] = funkcja_aktywacji(hat_matrix[i])\n",
    "    if hat_matrix[i] > 0.5:\n",
    "        pred_matrix[i] = 1\n",
    "    else:\n",
    "        pred_matrix[i] = 0"
   ]
  },
  {
   "cell_type": "code",
   "execution_count": 120,
   "metadata": {},
   "outputs": [
    {
     "data": {
      "text/plain": [
       "2.0"
      ]
     },
     "execution_count": 120,
     "metadata": {},
     "output_type": "execute_result"
    }
   ],
   "source": [
    "np.sum(pred_matrix - expected_output)"
   ]
  },
  {
   "cell_type": "code",
   "execution_count": 137,
   "metadata": {},
   "outputs": [
    {
     "data": {
      "text/plain": [
       "array([1, 1, 1, 0])"
      ]
     },
     "execution_count": 137,
     "metadata": {},
     "output_type": "execute_result"
    }
   ],
   "source": [
    "pred_matrix"
   ]
  },
  {
   "cell_type": "code",
   "execution_count": 132,
   "metadata": {},
   "outputs": [
    {
     "data": {
      "text/plain": [
       "array([1, 0, 0, 0])"
      ]
     },
     "execution_count": 132,
     "metadata": {},
     "output_type": "execute_result"
    }
   ],
   "source": [
    "expected_output"
   ]
  },
  {
   "cell_type": "code",
   "execution_count": 103,
   "metadata": {},
   "outputs": [
    {
     "data": {
      "text/plain": [
       "array([ 0.75480128,  0.66468281,  0.60829537,  0.5       ])"
      ]
     },
     "execution_count": 103,
     "metadata": {},
     "output_type": "execute_result"
    }
   ],
   "source": [
    "hat_matrix"
   ]
  },
  {
   "cell_type": "code",
   "execution_count": 139,
   "metadata": {},
   "outputs": [],
   "source": [
    "def macierzKontyngencji(wektor_predykcji, wektor_rzeczywisty):\n",
    "    mK = np.zeros(4)\n",
    "    for i in range(len(wektor_predykcji)):\n",
    "        if (wektor_rzeczywisty[i] == 1) & (wektor_predykcji[i] == 1):\n",
    "            mK[0] += 1\n",
    "        elif (wektor_rzeczywisty[i] == 0) & (wektor_predykcji[i] == 1):\n",
    "            mK[1] += 1\n",
    "        elif (wektor_rzeczywisty[i] == 0) & (wektor_predykcji[i] == 0):\n",
    "            mK[2] += 1\n",
    "        elif (wektor_rzeczywisty[i] == 1) & (wektor_predykcji[i] == 0):\n",
    "            mK[3] += 1\n",
    "    return mK"
   ]
  },
  {
   "cell_type": "code",
   "execution_count": 141,
   "metadata": {},
   "outputs": [],
   "source": [
    "mk = macierzKontyngencji(pred_matrix, expected_output)"
   ]
  },
  {
   "cell_type": "code",
   "execution_count": 194,
   "metadata": {
    "scrolled": true
   },
   "outputs": [
    {
     "data": {
      "text/plain": [
       "19.699999999999999"
      ]
     },
     "execution_count": 194,
     "metadata": {},
     "output_type": "execute_result"
    }
   ],
   "source": [
    "funkcjaPrzystosowania = -funkcjaKosztu(mk)\n",
    "funkcjaPrzystosowania"
   ]
  },
  {
   "cell_type": "code",
   "execution_count": null,
   "metadata": {
    "collapsed": true
   },
   "outputs": [],
   "source": []
  },
  {
   "cell_type": "code",
   "execution_count": null,
   "metadata": {
    "collapsed": true
   },
   "outputs": [],
   "source": []
  },
  {
   "cell_type": "markdown",
   "metadata": {},
   "source": [
    "Test Data Set"
   ]
  },
  {
   "cell_type": "code",
   "execution_count": 147,
   "metadata": {
    "collapsed": true
   },
   "outputs": [],
   "source": [
    "from sklearn.datasets import load_iris"
   ]
  },
  {
   "cell_type": "code",
   "execution_count": 190,
   "metadata": {},
   "outputs": [],
   "source": [
    "c1 = np.array(load_iris().data)\n",
    "c2 = np.array(load_iris().target)\n",
    "df = pd.DataFrame(c1, columns=load_iris().feature_names)\n",
    "df['target'] = np.array(c2)"
   ]
  },
  {
   "cell_type": "code",
   "execution_count": 193,
   "metadata": {
    "scrolled": false
   },
   "outputs": [
    {
     "data": {
      "text/html": [
       "<div>\n",
       "<style>\n",
       "    .dataframe thead tr:only-child th {\n",
       "        text-align: right;\n",
       "    }\n",
       "\n",
       "    .dataframe thead th {\n",
       "        text-align: left;\n",
       "    }\n",
       "\n",
       "    .dataframe tbody tr th {\n",
       "        vertical-align: top;\n",
       "    }\n",
       "</style>\n",
       "<table border=\"1\" class=\"dataframe\">\n",
       "  <thead>\n",
       "    <tr style=\"text-align: right;\">\n",
       "      <th></th>\n",
       "      <th>sepal length (cm)</th>\n",
       "      <th>sepal width (cm)</th>\n",
       "      <th>petal length (cm)</th>\n",
       "      <th>petal width (cm)</th>\n",
       "      <th>target</th>\n",
       "    </tr>\n",
       "  </thead>\n",
       "  <tbody>\n",
       "    <tr>\n",
       "      <th>0</th>\n",
       "      <td>5.1</td>\n",
       "      <td>3.5</td>\n",
       "      <td>1.4</td>\n",
       "      <td>0.2</td>\n",
       "      <td>0</td>\n",
       "    </tr>\n",
       "    <tr>\n",
       "      <th>1</th>\n",
       "      <td>4.9</td>\n",
       "      <td>3.0</td>\n",
       "      <td>1.4</td>\n",
       "      <td>0.2</td>\n",
       "      <td>0</td>\n",
       "    </tr>\n",
       "    <tr>\n",
       "      <th>2</th>\n",
       "      <td>4.7</td>\n",
       "      <td>3.2</td>\n",
       "      <td>1.3</td>\n",
       "      <td>0.2</td>\n",
       "      <td>0</td>\n",
       "    </tr>\n",
       "    <tr>\n",
       "      <th>3</th>\n",
       "      <td>4.6</td>\n",
       "      <td>3.1</td>\n",
       "      <td>1.5</td>\n",
       "      <td>0.2</td>\n",
       "      <td>0</td>\n",
       "    </tr>\n",
       "    <tr>\n",
       "      <th>4</th>\n",
       "      <td>5.0</td>\n",
       "      <td>3.6</td>\n",
       "      <td>1.4</td>\n",
       "      <td>0.2</td>\n",
       "      <td>0</td>\n",
       "    </tr>\n",
       "  </tbody>\n",
       "</table>\n",
       "</div>"
      ],
      "text/plain": [
       "   sepal length (cm)  sepal width (cm)  petal length (cm)  petal width (cm)  \\\n",
       "0                5.1               3.5                1.4               0.2   \n",
       "1                4.9               3.0                1.4               0.2   \n",
       "2                4.7               3.2                1.3               0.2   \n",
       "3                4.6               3.1                1.5               0.2   \n",
       "4                5.0               3.6                1.4               0.2   \n",
       "\n",
       "   target  \n",
       "0       0  \n",
       "1       0  \n",
       "2       0  \n",
       "3       0  \n",
       "4       0  "
      ]
     },
     "execution_count": 193,
     "metadata": {},
     "output_type": "execute_result"
    }
   ],
   "source": [
    "df.head()"
   ]
  },
  {
   "cell_type": "code",
   "execution_count": 197,
   "metadata": {
    "scrolled": true
   },
   "outputs": [
    {
     "data": {
      "text/plain": [
       "150"
      ]
     },
     "execution_count": 197,
     "metadata": {},
     "output_type": "execute_result"
    }
   ],
   "source": [
    "df.shape[0]"
   ]
  },
  {
   "cell_type": "markdown",
   "metadata": {},
   "source": [
    "Przykladowa siec:"
   ]
  },
  {
   "cell_type": "code",
   "execution_count": 209,
   "metadata": {},
   "outputs": [],
   "source": [
    "import matplotlib.pyplot as plt\n",
    "from sklearn.model_selection import train_test_split \n",
    "%matplotlib inline\n",
    "from sklearn.neural_network import MLPClassifier\n",
    "from sklearn.preprocessing import StandardScaler\n",
    "from sklearn.metrics import confusion_matrix, classification_report\n"
   ]
  },
  {
   "cell_type": "code",
   "execution_count": 269,
   "metadata": {
    "collapsed": true
   },
   "outputs": [],
   "source": [
    "dataset = df[df['target']!=2]"
   ]
  },
  {
   "cell_type": "code",
   "execution_count": 271,
   "metadata": {},
   "outputs": [],
   "source": [
    "X = dataset.drop(labels= ['target'], axis = 1)"
   ]
  },
  {
   "cell_type": "code",
   "execution_count": 272,
   "metadata": {
    "collapsed": true
   },
   "outputs": [],
   "source": [
    "Y = dataset['target']"
   ]
  },
  {
   "cell_type": "code",
   "execution_count": 273,
   "metadata": {
    "collapsed": true
   },
   "outputs": [],
   "source": [
    "X_train, X_test, Y_train, Y_test = train_test_split(X, Y)"
   ]
  },
  {
   "cell_type": "code",
   "execution_count": 274,
   "metadata": {
    "collapsed": true
   },
   "outputs": [],
   "source": [
    "X_train_sc = StandardScaler().fit(X_train).transform(X_train)\n",
    "X_test_sc = StandardScaler().fit(X_test).transform(X_test)"
   ]
  },
  {
   "cell_type": "code",
   "execution_count": 522,
   "metadata": {
    "collapsed": true
   },
   "outputs": [],
   "source": [
    "np.random.seed = 42"
   ]
  },
  {
   "cell_type": "code",
   "execution_count": 405,
   "metadata": {
    "scrolled": true
   },
   "outputs": [
    {
     "data": {
      "text/plain": [
       "MLPClassifier(activation='relu', alpha=0.0001, batch_size='auto', beta_1=0.9,\n",
       "       beta_2=0.999, early_stopping=False, epsilon=1e-08,\n",
       "       hidden_layer_sizes=(100, 100, 100), learning_rate='constant',\n",
       "       learning_rate_init=0.001, max_iter=200, momentum=0.9,\n",
       "       nesterovs_momentum=True, power_t=0.5, random_state=2, shuffle=True,\n",
       "       solver='adam', tol=0.0001, validation_fraction=0.1, verbose=False,\n",
       "       warm_start=False)"
      ]
     },
     "execution_count": 405,
     "metadata": {},
     "output_type": "execute_result"
    }
   ],
   "source": [
    "mlp = MLPClassifier(hidden_layer_sizes=(100, 100, 100), early_stopping=False, random_state=2)\n",
    "mlp.fit(X_train_sc, Y_train)"
   ]
  },
  {
   "cell_type": "code",
   "execution_count": 570,
   "metadata": {
    "collapsed": true
   },
   "outputs": [],
   "source": [
    "?mlp"
   ]
  },
  {
   "cell_type": "code",
   "execution_count": 589,
   "metadata": {},
   "outputs": [
    {
     "data": {
      "text/plain": [
       "array([[17,  0],\n",
       "       [ 0,  8]], dtype=int64)"
      ]
     },
     "execution_count": 589,
     "metadata": {},
     "output_type": "execute_result"
    }
   ],
   "source": [
    "siec(chromosom)"
   ]
  },
  {
   "cell_type": "code",
   "execution_count": 406,
   "metadata": {},
   "outputs": [],
   "source": [
    "predict = mlp.predict(X_test_sc)"
   ]
  },
  {
   "cell_type": "code",
   "execution_count": 407,
   "metadata": {},
   "outputs": [
    {
     "name": "stdout",
     "output_type": "stream",
     "text": [
      "[[17  0]\n",
      " [ 0  8]]\n"
     ]
    }
   ],
   "source": [
    "print(confusion_matrix(Y_test, predict))"
   ]
  },
  {
   "cell_type": "code",
   "execution_count": 401,
   "metadata": {
    "scrolled": true
   },
   "outputs": [
    {
     "name": "stdout",
     "output_type": "stream",
     "text": [
      "             precision    recall  f1-score   support\n",
      "\n",
      "          0       1.00      1.00      1.00        17\n",
      "          1       1.00      1.00      1.00         8\n",
      "\n",
      "avg / total       1.00      1.00      1.00        25\n",
      "\n"
     ]
    }
   ],
   "source": [
    "print(classification_report(Y_test, predict))"
   ]
  },
  {
   "cell_type": "code",
   "execution_count": null,
   "metadata": {
    "collapsed": true
   },
   "outputs": [],
   "source": []
  },
  {
   "cell_type": "markdown",
   "metadata": {},
   "source": [
    "__Implementacja__"
   ]
  },
  {
   "cell_type": "markdown",
   "metadata": {},
   "source": [
    "Struktura:\n"
   ]
  },
  {
   "cell_type": "markdown",
   "metadata": {},
   "source": [
    "Potrzebne funkcje:\n",
    "- selekcja - metoda ruletki\n",
    "- mutacja - zmniejszajacy sie wspołczynnik mutacji\n",
    "- krzyżowanie - single-point crossover\n",
    "- funkcja przystosowania - "
   ]
  },
  {
   "cell_type": "markdown",
   "metadata": {},
   "source": [
    "Optymalizowane parametry:\n",
    " - ilość warstw ukrytych\n",
    " - liczba neuronów w warstwach ukrytych\n",
    " - funkcja aktywacji (1, 2, 3)\n",
    " - learning rate (constant, invscaling - 0, 1)\n",
    " - learning rate init (1000 - 1)\n",
    "Kodowanie architektury:\n",
    " - chromosom - pojedynczy ciąg znaków, gdzie pierwsze trzy"
   ]
  },
  {
   "cell_type": "code",
   "execution_count": 205,
   "metadata": {},
   "outputs": [],
   "source": [
    "#chromosome \n",
    "ch = [1, 0, 3, 3, 3, 3, 0, 0, 0, 0]\n",
    "pop = np.zeros((3, 6))"
   ]
  },
  {
   "cell_type": "code",
   "execution_count": 206,
   "metadata": {},
   "outputs": [
    {
     "data": {
      "text/plain": [
       "array([[ 0.,  0.,  0.,  0.,  0.],\n",
       "       [ 0.,  0.,  0.,  0.,  0.],\n",
       "       [ 0.,  0.,  0.,  0.,  0.]])"
      ]
     },
     "execution_count": 206,
     "metadata": {},
     "output_type": "execute_result"
    }
   ],
   "source": [
    "pop"
   ]
  },
  {
   "cell_type": "code",
   "execution_count": 872,
   "metadata": {
    "collapsed": true
   },
   "outputs": [],
   "source": [
    "def selekcja(populacja, przystosowanie):\n",
    "    '''\n",
    "    Funkcja selekcji - wybierająca chromosomy do krzyżowania\n",
    "    \n",
    "    Parametry:\n",
    "    - populacja (dict) - słownik z aktualną populacją\n",
    "    - przystosowanie (dict) - słownik z wartościami funkcji przystosowania dla każdego chromosomu w populacji\n",
    "    \n",
    "    Zwraca:\n",
    "    - nowa_populacja (dict) - słownik z nową populacją\n",
    "    \n",
    "    '''\n",
    "    fitness = przystosowanie\n",
    "    mmsc = MinMaxScaler(feature_range=(0,100)).fit_transform(fitness.reshape(-1, 1))\n",
    "    s = sum(mmsc)\n",
    "    mmsc = mmsc/s*100\n",
    "    f_total = []\n",
    "    for m, i in enumerate(mmsc):\n",
    "        for j in range(int(i)):\n",
    "            f_total.append(m)\n",
    "    parents_pool = np.copy(f_total)\n",
    "    for j in range(len(populacja)):\n",
    "        # wybieranie losowych rodziców metodą ruletki\n",
    "        father = np.random.choice(parents_pool)\n",
    "        # drugi rodzic nie może być taki sam jak pierwszy\n",
    "        mother = parents_pool[parents_pool!=father]\n",
    "        # jeśli pozostał tylko jeden rodzic w populacji to muszę go wybrać\n",
    "        if len(mother) == 0:\n",
    "            mother = father\n",
    "        else:\n",
    "            mother = np.random.choice(mother)\n",
    "        father = populacja[father]\n",
    "        mother = populacja[mother]\n",
    "        c = np.random.randint(1, len(father))\n",
    "        child = np.concatenate([father[:c], mother[c:]])\n",
    "        # mutacja\n",
    "        mutationPr = 0.25\n",
    "        wsp_mutacji = mutationPr/np.exp(i/10) \n",
    "        m = np.random.random()\n",
    "        if m < wsp_mutacji:\n",
    "            child = mutacja(child)\n",
    "        nowa_populacja[j] = child\n",
    "    \n",
    "    return nowa_populacja\n",
    "    "
   ]
  },
  {
   "cell_type": "code",
   "execution_count": 864,
   "metadata": {
    "collapsed": true
   },
   "outputs": [],
   "source": [
    "def mutacja(chromosom):\n",
    "    '''\n",
    "    \n",
    "    Funkcja mutacji - zmieniajaca losowo jeden z parametrow chromosomu\n",
    "    Wybiera losowy gen i zastepuje jego wartość dowolną wartość dozwoloną dla tego genu\n",
    "    \n",
    "    Parametry:\n",
    "    - chromosom (list) - wektor reprezentujacy chromosom\n",
    "    \n",
    "    Zwraca:\n",
    "    - m_chromosom (list) - zmutowany chromosom\n",
    "    \n",
    "    '''\n",
    "    \n",
    "    # parametr który ma zostać zmutowany\n",
    "    p = np.random.randint(0, len(chromosom))\n",
    "    m_chromosom = chromosom.copy()\n",
    "    pT = parametryTopologii()[p]\n",
    "    pT.pop(pT.index(m_chromosom[p]))\n",
    "    m_chromosom[p] = np.random.choice(pT)\n",
    "    return m_chromosom\n",
    "    "
   ]
  },
  {
   "cell_type": "code",
   "execution_count": 595,
   "metadata": {
    "collapsed": true
   },
   "outputs": [],
   "source": [
    "def parametryTopologii():\n",
    "    '''\n",
    "    \n",
    "    '''\n",
    "    \n",
    "    fa = [1, 2, 3] #funkcja aktywacji\n",
    "    lt = [0, 1] # współczynnik uczenia\n",
    "    lr = list(range(1, 1001, 1)) # startowy współczynnik uczenia\n",
    "    hl = list(range(1, 6)) # liczba warstw ukrytych\n",
    "    nn = list(range(1, 129)) # liczba neuronów w warstwie\n",
    "    parametry = {0:fa, 1:lt, 2:lr, 3:hl, 4:nn}\n",
    "\n",
    "    return parametry"
   ]
  },
  {
   "cell_type": "code",
   "execution_count": 623,
   "metadata": {
    "collapsed": true
   },
   "outputs": [],
   "source": [
    "def siec(chromosom):\n",
    "    '''\n",
    "    \n",
    "    Funkcja tworząca nową sieć na podstawie otrzymanego chromosomu\n",
    "    Parametry:\n",
    "     - chromosom\n",
    "     \n",
    "    Zwraca:\n",
    "     - macierz - macierz kontyngencji \n",
    "    \n",
    "    '''\n",
    "    f_aktywacji = {1:'logistic', 2:'tanh', 3:'relu'}\n",
    "    wsp_uczenia = {0:'constant', 1:'invscaling'}\n",
    "    warstwy = tuple(np.ones(chromosom[3], dtype=int)*chromosom[4])\n",
    "    mlp = MLPClassifier(hidden_layer_sizes=warstwy, activation=f_aktywacji[chromosom[0]],\\\n",
    "                        learning_rate=wsp_uczenia[chromosom[1]], learning_rate_init = 1/(2*chromosom[2]))\n",
    "    \n",
    "    mlp.fit(X_train_sc, Y_train)\n",
    "    prognoza = mlp.predict(X_test_sc)\n",
    "    macierz = confusion_matrix(Y_test, prognoza)\n",
    "    return macierz\n",
    "    \n",
    "    "
   ]
  },
  {
   "cell_type": "code",
   "execution_count": 528,
   "metadata": {},
   "outputs": [],
   "source": [
    "chromosom = [2, 1, 2, 3, 4]\n",
    "chromosom[0] = np.random.choice(parametryTopologii()[0])\n"
   ]
  },
  {
   "cell_type": "code",
   "execution_count": 642,
   "metadata": {
    "collapsed": true
   },
   "outputs": [],
   "source": [
    "# macierz kosztu = [TP, FP, TN, FN]\n",
    "def funkcjaZysku(k):\n",
    "    '''\n",
    "    Funkcja obliczajaca wartosci zysku danej sieci na podstawie macierzy kontyngencji składającej się z:\n",
    "    TruePositive, FalsePositive, TrueNegative, FalseNegative\n",
    "    \n",
    "    Parametry:\n",
    "    k (list) - lista zawierajaca liczbe wartosci każdej z czterech możliwych kombinacji klasyfikacji \n",
    "    \n",
    "    Zwraca:\n",
    "    koszt (float) - liczba rzeczywista określająca zysk związany z danym efektem klasyfikacji\n",
    "    \n",
    "    '''\n",
    "    \n",
    "    cost_matrix = np.array([19.9, -0.1, 0, -20.1])\n",
    "    zysk = np.round(np.dot(k, cost_matrix), 5) \n",
    "    return zysk"
   ]
  },
  {
   "cell_type": "code",
   "execution_count": 845,
   "metadata": {},
   "outputs": [],
   "source": [
    "def startowaPopulacja(liczebnosc_pop):\n",
    "    '''\n",
    "    Funkcja tworząca startową populacje\n",
    "    \n",
    "    Zwraca:\n",
    "    populacja (dict) - słownik z listami chromosomow\n",
    "    \n",
    "    '''\n",
    "    populacja = {}\n",
    "    #liczebnosc_pop = 10\n",
    "\n",
    "    for j in range(liczebnosc_pop):\n",
    "        ch2 = np.ones(5, dtype=int)\n",
    "        for i in range(5):\n",
    "            ch2[i] = np.random.choice(parametryTopologii()[i])\n",
    "        populacja[j] = ch2\n",
    "    return populacja"
   ]
  },
  {
   "cell_type": "code",
   "execution_count": 628,
   "metadata": {},
   "outputs": [
    {
     "data": {
      "text/plain": [
       "array([  3,   1, 179,   1,  85])"
      ]
     },
     "execution_count": 628,
     "metadata": {},
     "output_type": "execute_result"
    }
   ],
   "source": [
    "populacja[1]"
   ]
  },
  {
   "cell_type": "code",
   "execution_count": 873,
   "metadata": {
    "scrolled": false
   },
   "outputs": [
    {
     "name": "stderr",
     "output_type": "stream",
     "text": [
      "C:\\Apps\\Anaconda\\lib\\site-packages\\sklearn\\neural_network\\multilayer_perceptron.py:564: ConvergenceWarning: Stochastic Optimizer: Maximum iterations (200) reached and the optimization hasn't converged yet.\n",
      "  % self.max_iter, ConvergenceWarning)\n"
     ]
    },
    {
     "name": "stdout",
     "output_type": "stream",
     "text": [
      "Najmniejsza i największa wartość funkcji przystosowania są takie same.\n",
      "Osiągnięto minimum lokalne.\n",
      "Iteracja nr 2\n"
     ]
    }
   ],
   "source": [
    "epochs = 10\n",
    "liczebnosc_pop = 10\n",
    "f_fit = {}\n",
    "average_fitness = np.zeros(liczebnosc_pop)\n",
    "maximum_fitness = np.zeros(liczebnosc_pop)\n",
    "minimum_fitness = np.zeros(liczebnosc_pop)\n",
    "zb_pop = {}\n",
    "populacja = startowaPopulacja(liczebnosc_pop)\n",
    "for i in range(epochs):\n",
    "    zb_pop[i] = populacja\n",
    "    f_fit[i] = np.zeros(liczebnosc_pop)\n",
    "    fitness = np.zeros(len(populacja))\n",
    "    for p in range(len(populacja)):\n",
    "        y = siec(populacja[p])\n",
    "        # wektor w przechowuje liczby: TP, FP, TN, FN\n",
    "        w = np.array([y[0][0], y[0][1], y[1][1], y[1][0]])\n",
    "        fitness[p] = funkcjaZysku(w)\n",
    "    f_fit[i] = fitness\n",
    "    average_fitness[i] = np.mean(fitness)\n",
    "    maximum_fitness[i] = np.max(fitness)\n",
    "    minimum_fitness[i] = np.min(fitness)\n",
    "    if minimum_fitness[i] == maximum_fitness[i]:\n",
    "        print('Najmniejsza i największa wartość funkcji przystosowania są takie same.')\n",
    "        print('Osiągnięto minimum lokalne.')\n",
    "        print('Iteracja nr {}'.format(i+1))\n",
    "        break\n",
    "    nowa_populacja = selekcja(populacja, fitness)\n",
    "    populacja = nowa_populacja"
   ]
  },
  {
   "cell_type": "code",
   "execution_count": 874,
   "metadata": {},
   "outputs": [
    {
     "data": {
      "text/plain": [
       "{0: {0: array([  2,   0, 237,   4,  21]),\n",
       "  1: array([  3,   0, 950,   5, 125]),\n",
       "  2: array([  1,   1, 826,   4, 108]),\n",
       "  3: array([  2,   0, 480,   3, 100]),\n",
       "  4: array([  1,   0, 282,   1,  48]),\n",
       "  5: array([ 2,  0,  8,  3, 38]),\n",
       "  6: array([  3,   1, 993,   3,  18]),\n",
       "  7: array([  1,   1, 244,   4,  15]),\n",
       "  8: array([  2,   1, 884,   5,  69]),\n",
       "  9: array([  1,   1, 285,   1,  31])},\n",
       " 1: {0: array([  2,   0, 480,   3,  18]),\n",
       "  1: array([  2,   1, 884,   5,  31]),\n",
       "  2: array([  2,   1, 285,   1,  31]),\n",
       "  3: array([  1,   1, 285,   1,  48]),\n",
       "  4: array([  1,   0, 282,   1,  31]),\n",
       "  5: array([  3,   1, 285,   1,  31]),\n",
       "  6: array([  2,   1, 884,   5,  48]),\n",
       "  7: array([  2,   0, 237,   5,  69]),\n",
       "  8: array([  2,   0, 480,   3,  69]),\n",
       "  9: array([  2,   1, 884,   5, 100])}}"
      ]
     },
     "execution_count": 874,
     "metadata": {},
     "output_type": "execute_result"
    }
   ],
   "source": [
    "zb_pop"
   ]
  },
  {
   "cell_type": "code",
   "execution_count": 869,
   "metadata": {},
   "outputs": [
    {
     "data": {
      "text/plain": [
       "{0: array([ 338.3,  338.3,  338.3,  338.3,  338.3,  338.3,  318.3,  338.3,\n",
       "          -1.7,  338.3]),\n",
       " 1: array([ 338.3,  338.3,  338.3,  338.3,  338.3,  338.3,  338.3,  338.3,\n",
       "          -1.7,  278.3]),\n",
       " 2: array([ 338.3,  338.3,  338.3,  338.3,  338.3,  338.3,  338.3,  338.3,\n",
       "         338.3,  338.3])}"
      ]
     },
     "execution_count": 869,
     "metadata": {},
     "output_type": "execute_result"
    }
   ],
   "source": [
    "f_fit"
   ]
  },
  {
   "cell_type": "code",
   "execution_count": 850,
   "metadata": {
    "collapsed": true
   },
   "outputs": [
    {
     "data": {
      "text/plain": [
       "array([[ 0.],\n",
       "       [ 0.],\n",
       "       [ 0.],\n",
       "       [ 0.],\n",
       "       [ 0.],\n",
       "       [ 0.],\n",
       "       [ 0.],\n",
       "       [ 0.],\n",
       "       [ 0.],\n",
       "       [ 0.]])"
      ]
     },
     "execution_count": 850,
     "metadata": {},
     "output_type": "execute_result"
    }
   ],
   "source": [
    "yy = MinMaxScaler(feature_range=(0,100)).fit_transform(fitness.reshape(-1, 1))\n",
    "yy"
   ]
  },
  {
   "cell_type": "code",
   "execution_count": 854,
   "metadata": {},
   "outputs": [
    {
     "data": {
      "text/plain": [
       "array([ 254.22,  270.3 ,  338.3 ,    0.  ,    0.  ,    0.  ,    0.  ,\n",
       "          0.  ,    0.  ,    0.  ])"
      ]
     },
     "execution_count": 854,
     "metadata": {},
     "output_type": "execute_result"
    }
   ],
   "source": [
    "average_fitness"
   ]
  },
  {
   "cell_type": "code",
   "execution_count": 770,
   "metadata": {
    "scrolled": true
   },
   "outputs": [
    {
     "name": "stderr",
     "output_type": "stream",
     "text": [
      "C:\\Apps\\Anaconda\\lib\\site-packages\\sklearn\\neural_network\\multilayer_perceptron.py:564: ConvergenceWarning: Stochastic Optimizer: Maximum iterations (200) reached and the optimization hasn't converged yet.\n",
      "  % self.max_iter, ConvergenceWarning)\n"
     ]
    }
   ],
   "source": [
    "fitness = np.zeros(10)\n",
    "for p in range(len(populacja)):\n",
    "    y = siec(populacja[p])\n",
    "    # wektor w przechowuje liczby: TP, FP, TN, FN\n",
    "    w = np.array([y[0][0], y[0][1], y[1][1], y[1][0]])\n",
    "    fitness[p] = funkcjaZysku(w)\n"
   ]
  },
  {
   "cell_type": "code",
   "execution_count": 771,
   "metadata": {
    "scrolled": false
   },
   "outputs": [
    {
     "data": {
      "text/plain": [
       "array([ 338.3,  338.3,  338.3,  338.3,  338.3,  338.3,  338.3,  338.3,\n",
       "        338.3,   -1.7])"
      ]
     },
     "execution_count": 771,
     "metadata": {},
     "output_type": "execute_result"
    }
   ],
   "source": [
    "fitness"
   ]
  },
  {
   "cell_type": "code",
   "execution_count": 645,
   "metadata": {
    "collapsed": true
   },
   "outputs": [],
   "source": [
    "from sklearn.preprocessing import MinMaxScaler"
   ]
  },
  {
   "cell_type": "code",
   "execution_count": 772,
   "metadata": {},
   "outputs": [],
   "source": [
    "mmsc = MinMaxScaler(feature_range=(0,100)).fit_transform(fitness.reshape(-1, 1))\n",
    "s = sum(mmsc)\n",
    "mmsc = mmsc/s*100"
   ]
  },
  {
   "cell_type": "code",
   "execution_count": 773,
   "metadata": {},
   "outputs": [
    {
     "data": {
      "text/plain": [
       "array([[ 11.11111111],\n",
       "       [ 11.11111111],\n",
       "       [ 11.11111111],\n",
       "       [ 11.11111111],\n",
       "       [ 11.11111111],\n",
       "       [ 11.11111111],\n",
       "       [ 11.11111111],\n",
       "       [ 11.11111111],\n",
       "       [ 11.11111111],\n",
       "       [  0.        ]])"
      ]
     },
     "execution_count": 773,
     "metadata": {},
     "output_type": "execute_result"
    }
   ],
   "source": [
    "mmsc"
   ]
  },
  {
   "cell_type": "code",
   "execution_count": 774,
   "metadata": {},
   "outputs": [],
   "source": [
    "f_total = []\n",
    "for m, i in enumerate(mmsc):\n",
    "    for j in range(int(i)):\n",
    "        f_total.append(m)\n",
    "    \n"
   ]
  },
  {
   "cell_type": "code",
   "execution_count": 777,
   "metadata": {
    "scrolled": true
   },
   "outputs": [
    {
     "data": {
      "text/plain": [
       "{0: array([  1,   1, 373,   2,  73]),\n",
       " 1: array([  3,   1, 179,   1,  85]),\n",
       " 2: array([  2,   0, 421,   1,  49]),\n",
       " 3: array([  3,   1, 398,   4,  32]),\n",
       " 4: array([  3,   0, 673,   2,  43]),\n",
       " 5: array([  3,   1,  78,   4, 108]),\n",
       " 6: array([  3,   0, 853,   2,  91]),\n",
       " 7: array([  2,   1, 228,   1,  42]),\n",
       " 8: array([  2,   1, 154,   4,   2]),\n",
       " 9: array([  1,   1, 557,   5,  26])}"
      ]
     },
     "execution_count": 777,
     "metadata": {},
     "output_type": "execute_result"
    }
   ],
   "source": [
    "populacja"
   ]
  },
  {
   "cell_type": "code",
   "execution_count": 778,
   "metadata": {},
   "outputs": [
    {
     "data": {
      "text/plain": [
       "array([0, 0, 0, 0, 0, 0, 0, 0, 0, 0, 0, 1, 1, 1, 1, 1, 1, 1, 1, 1, 1, 1, 2,\n",
       "       2, 2, 2, 2, 2, 2, 2, 2, 2, 2, 3, 3, 3, 3, 3, 3, 3, 3, 3, 3, 3, 4, 4,\n",
       "       4, 4, 4, 4, 4, 4, 4, 4, 4, 6, 6, 6, 6, 6, 6, 6, 6, 6, 6, 6, 7, 7, 7,\n",
       "       7, 7, 7, 7, 7, 7, 7, 7, 8, 8, 8, 8, 8, 8, 8, 8, 8, 8, 8])"
      ]
     },
     "execution_count": 778,
     "metadata": {},
     "output_type": "execute_result"
    }
   ],
   "source": [
    "mother"
   ]
  },
  {
   "cell_type": "code",
   "execution_count": 780,
   "metadata": {},
   "outputs": [],
   "source": [
    "parents_pool = np.copy(f_total)\n",
    "for j in range(len(populacja)):\n",
    "    father = np.random.choice(parents_pool)\n",
    "    mother = parents_pool[parents_pool!=father]\n",
    "    if len(mother) == 0:\n",
    "        mother = father\n",
    "    father = populacja[father]\n",
    "    mother = populacja[np.random.choice(mother)]\n",
    "    c = np.random.randint(1, len(father))\n",
    "    child = np.concatenate([father[:c], mother[c:]])\n",
    "    # mutacja\n",
    "    mutationPr = 0.25\n",
    "    wsp_mutacji = mutationPr/np.exp(i/10) \n",
    "    m = np.random.random(0,1)\n",
    "    if m < wsp_mutacji:\n",
    "        child = mutacja(child)\n",
    "    populacja[j] = child\n",
    "    "
   ]
  },
  {
   "cell_type": "code",
   "execution_count": 783,
   "metadata": {},
   "outputs": [
    {
     "data": {
      "text/plain": [
       "(2,\n",
       " array([  3,   0, 673,   2,  43]),\n",
       " array([  3,   1,  78,   4, 108]),\n",
       " array([  3,   0,  78,   4, 108]))"
      ]
     },
     "execution_count": 783,
     "metadata": {},
     "output_type": "execute_result"
    }
   ],
   "source": [
    "c, father, mother, child"
   ]
  },
  {
   "cell_type": "code",
   "execution_count": 749,
   "metadata": {},
   "outputs": [],
   "source": [
    "if len(mother) ==0:\n",
    "    mother = father"
   ]
  },
  {
   "cell_type": "code",
   "execution_count": 746,
   "metadata": {},
   "outputs": [
    {
     "data": {
      "text/plain": [
       "numpy.ndarray"
      ]
     },
     "execution_count": 746,
     "metadata": {},
     "output_type": "execute_result"
    }
   ],
   "source": [
    "type(parents_pool[parents_pool!=father])"
   ]
  },
  {
   "cell_type": "code",
   "execution_count": 832,
   "metadata": {},
   "outputs": [
    {
     "data": {
      "text/plain": [
       "[1, 0, 889, 5, 105]"
      ]
     },
     "execution_count": 832,
     "metadata": {},
     "output_type": "execute_result"
    }
   ],
   "source": [
    "chromosom"
   ]
  },
  {
   "cell_type": "code",
   "execution_count": 843,
   "metadata": {},
   "outputs": [
    {
     "name": "stdout",
     "output_type": "stream",
     "text": [
      "0.25 0.4758162666307404\n",
      "0.226209354509 0.47501648643083183\n",
      "0.204682688269 0.8135832994005334\n",
      "0.18520455517 0.9016372414070409\n",
      "[1, 0, 889, 5, 14]\n",
      "0.167580011509 0.0007453193212491049\n",
      "0.151632664928 0.9940323672675025\n",
      "0.137202909024 0.17545669581415646\n",
      "0.124146325948 0.6385206275164025\n",
      "0.112332241029 0.671085696280046\n",
      "[1, 1, 889, 5, 105]\n",
      "0.101642414935 0.06785878837279724\n"
     ]
    }
   ],
   "source": [
    "for i in range(10):\n",
    "    mutationPr = 0.25\n",
    "    wsp_mutacji = mutationPr/np.exp(i/10) \n",
    "    m = np.random.random()\n",
    "    if m < wsp_mutacji:\n",
    "        print(mutacja(chromosom))\n",
    "    print(wsp_mutacji, m)\n",
    "    "
   ]
  },
  {
   "cell_type": "code",
   "execution_count": 809,
   "metadata": {},
   "outputs": [
    {
     "data": {
      "text/plain": [
       "(0.020328482987029956, 0.5698840941117482)"
      ]
     },
     "execution_count": 809,
     "metadata": {},
     "output_type": "execute_result"
    }
   ],
   "source": [
    "wsp_mutacji, m"
   ]
  },
  {
   "cell_type": "code",
   "execution_count": 862,
   "metadata": {},
   "outputs": [
    {
     "data": {
      "text/plain": [
       "[1, 2, 3, 4]"
      ]
     },
     "execution_count": 862,
     "metadata": {},
     "output_type": "execute_result"
    }
   ],
   "source": [
    "p = 3\n",
    "m_chromosom = chromosom.copy()\n",
    "pT = parametryTopologii()[p]\n",
    "pT.pop(pT.index(m_chromosom[p]))\n",
    "pT"
   ]
  },
  {
   "cell_type": "code",
   "execution_count": 859,
   "metadata": {},
   "outputs": [
    {
     "data": {
      "text/plain": [
       "9"
      ]
     },
     "execution_count": 859,
     "metadata": {},
     "output_type": "execute_result"
    }
   ],
   "source": [
    "p"
   ]
  },
  {
   "cell_type": "code",
   "execution_count": 755,
   "metadata": {},
   "outputs": [
    {
     "data": {
      "text/plain": [
       "(array([  1,   1, 557,   5,  26]), array([  1,   1, 557,   5,  26]))"
      ]
     },
     "execution_count": 755,
     "metadata": {},
     "output_type": "execute_result"
    }
   ],
   "source": [
    "father, mother"
   ]
  },
  {
   "cell_type": "code",
   "execution_count": 715,
   "metadata": {
    "collapsed": true
   },
   "outputs": [],
   "source": [
    "tut = np.array([0, 0, 0, 1, 1, 2])"
   ]
  },
  {
   "cell_type": "code",
   "execution_count": 717,
   "metadata": {},
   "outputs": [
    {
     "data": {
      "text/plain": [
       "array([1, 1, 2])"
      ]
     },
     "execution_count": 717,
     "metadata": {},
     "output_type": "execute_result"
    }
   ],
   "source": [
    "tut[tut!=0]"
   ]
  },
  {
   "cell_type": "code",
   "execution_count": 608,
   "metadata": {},
   "outputs": [],
   "source": [
    "mk = siec(populacja[0])\n",
    "TP = mk[0][0]\n",
    "TN = mk[1][1]\n",
    "FP = mk[0][1]\n",
    "FN = mk[1][0]"
   ]
  },
  {
   "cell_type": "code",
   "execution_count": 618,
   "metadata": {},
   "outputs": [],
   "source": [
    "cost_matrix = np.array([-19.9, 0.1, 0, 20.1])\n",
    "\n",
    "a = np.array([TP, FP, TN, FN])"
   ]
  },
  {
   "cell_type": "code",
   "execution_count": 620,
   "metadata": {},
   "outputs": [
    {
     "data": {
      "text/plain": [
       "-338.30000000000001"
      ]
     },
     "execution_count": 620,
     "metadata": {},
     "output_type": "execute_result"
    }
   ],
   "source": [
    "np.round(np.dot(a, cost_matrix),3)"
   ]
  },
  {
   "cell_type": "code",
   "execution_count": 539,
   "metadata": {},
   "outputs": [
    {
     "data": {
      "text/plain": [
       "[3, 0, 90, 4, 52]"
      ]
     },
     "execution_count": 539,
     "metadata": {},
     "output_type": "execute_result"
    }
   ],
   "source": [
    "mutacja(chromosom)"
   ]
  },
  {
   "cell_type": "code",
   "execution_count": 501,
   "metadata": {},
   "outputs": [
    {
     "data": {
      "text/plain": [
       "2"
      ]
     },
     "execution_count": 501,
     "metadata": {},
     "output_type": "execute_result"
    }
   ],
   "source": [
    "\n",
    "np.random.choice(chromosom)"
   ]
  },
  {
   "cell_type": "code",
   "execution_count": null,
   "metadata": {
    "collapsed": true
   },
   "outputs": [],
   "source": []
  }
 ],
 "metadata": {
  "kernelspec": {
   "display_name": "Python 3",
   "language": "python",
   "name": "python3"
  },
  "language_info": {
   "codemirror_mode": {
    "name": "ipython",
    "version": 3
   },
   "file_extension": ".py",
   "mimetype": "text/x-python",
   "name": "python",
   "nbconvert_exporter": "python",
   "pygments_lexer": "ipython3",
   "version": "3.7.2"
  }
 },
 "nbformat": 4,
 "nbformat_minor": 2
}
