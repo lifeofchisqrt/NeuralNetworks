{
 "cells": [
  {
   "cell_type": "code",
   "execution_count": 1,
   "metadata": {
    "collapsed": true
   },
   "outputs": [],
   "source": [
    "import numpy as np\n",
    "import pandas as pd\n",
    "from math import exp\n",
    "import matplotlib.pyplot as plt\n",
    "from sklearn.model_selection import train_test_split \n",
    "from sklearn.neural_network import MLPClassifier\n",
    "from sklearn.preprocessing import StandardScaler\n",
    "from sklearn.preprocessing import MinMaxScaler\n",
    "from sklearn.metrics import confusion_matrix, classification_report"
   ]
  },
  {
   "cell_type": "code",
   "execution_count": 2,
   "metadata": {
    "collapsed": true
   },
   "outputs": [],
   "source": [
    "%matplotlib inline"
   ]
  },
  {
   "cell_type": "code",
   "execution_count": 3,
   "metadata": {
    "collapsed": true
   },
   "outputs": [],
   "source": [
    "def parametryTopologii():\n",
    "    '''\n",
    "    Funkcja zwracająca optymalizowane parametry topologii sieci\n",
    "    \n",
    "    '''\n",
    "    \n",
    "    fa = [1, 2, 3] #funkcja aktywacji\n",
    "    lt = [0, 1] # współczynnik uczenia\n",
    "    lr = list(range(1, 1001, 1)) # startowy współczynnik uczenia\n",
    "    hl = list(range(1, 6)) # liczba warstw ukrytych\n",
    "    nn = list(range(1, 129)) # liczba neuronów w warstwie\n",
    "    parametry = {0:fa, 1:lt, 2:lr, 3:hl, 4:nn}\n",
    "\n",
    "    return parametry"
   ]
  },
  {
   "cell_type": "code",
   "execution_count": 4,
   "metadata": {
    "collapsed": true
   },
   "outputs": [],
   "source": [
    "def parametryTopologii():\n",
    "    '''\n",
    "    Funkcja zwracająca optymalizowane parametry topologii sieci\n",
    "    \n",
    "    '''\n",
    "    \n",
    "    fa = [1, 2, 3] #funkcja aktywacji\n",
    "    lt = [0, 1] # współczynnik uczenia\n",
    "    lr = list(range(1, 1001, 1)) # startowy współczynnik uczenia\n",
    "    hl = list(range(1, 6)) # liczba warstw ukrytych\n",
    "    nn = list(range(1, 129)) # liczba neuronów w warstwie\n",
    "    parametry = {0:fa, 1:lt, 2:lr, 3:hl, 4:nn}\n",
    "\n",
    "    return parametry"
   ]
  },
  {
   "cell_type": "code",
   "execution_count": 5,
   "metadata": {
    "collapsed": true
   },
   "outputs": [],
   "source": [
    "\n",
    "def startowaPopulacja(liczebnosc_pop):\n",
    "    '''\n",
    "    Funkcja tworząca startową populacje\n",
    "    \n",
    "    Zwraca:\n",
    "    populacja (dict) - słownik z listami chromosomow\n",
    "    \n",
    "    '''\n",
    "    populacja = {}\n",
    "    #liczebnosc_pop = 10\n",
    "\n",
    "    for j in range(liczebnosc_pop):\n",
    "        ch2 = np.ones(5, dtype=int)\n",
    "        for i in range(5):\n",
    "            ch2[i] = np.random.choice(parametryTopologii()[i])\n",
    "        populacja[j] = ch2\n",
    "    return populacja"
   ]
  },
  {
   "cell_type": "code",
   "execution_count": 6,
   "metadata": {
    "collapsed": true
   },
   "outputs": [],
   "source": [
    "\n",
    "def mutacja(chromosom):\n",
    "    '''\n",
    "    \n",
    "    Funkcja mutacji - zmieniajaca losowo jeden z parametrow chromosomu\n",
    "    Wybiera losowy gen i zastepuje jego wartość dowolną wartość dozwoloną dla tego genu\n",
    "    \n",
    "    Parametry:\n",
    "    - chromosom (list) - wektor reprezentujacy chromosom\n",
    "    \n",
    "    Zwraca:\n",
    "    - m_chromosom (list) - zmutowany chromosom\n",
    "    \n",
    "    '''\n",
    "    \n",
    "    # parametr który ma zostać zmutowany\n",
    "    p = np.random.randint(0, len(chromosom))\n",
    "    m_chromosom = chromosom.copy()\n",
    "    pT = parametryTopologii()[p]\n",
    "    pT.pop(pT.index(m_chromosom[p]))\n",
    "    m_chromosom[p] = np.random.choice(pT)\n",
    "\n",
    "    return m_chromosom"
   ]
  },
  {
   "cell_type": "code",
   "execution_count": 7,
   "metadata": {
    "collapsed": true
   },
   "outputs": [],
   "source": [
    "\n",
    "def siec(chromosom):\n",
    "    '''\n",
    "    \n",
    "    Funkcja tworząca nową sieć na podstawie otrzymanego chromosomu\n",
    "    Parametry:\n",
    "     - chromosom\n",
    "     \n",
    "    Zwraca:\n",
    "     - macierz - macierz błędu \n",
    "    \n",
    "    '''\n",
    "    f_aktywacji = {1:'logistic', 2:'tanh', 3:'relu'}\n",
    "    wsp_uczenia = {0:'constant', 1:'invscaling'}\n",
    "    warstwy = tuple(np.ones(chromosom[3], dtype=int)*chromosom[4])\n",
    "    mlp = MLPClassifier(hidden_layer_sizes=warstwy, activation=f_aktywacji[chromosom[0]],\\\n",
    "                        learning_rate=wsp_uczenia[chromosom[1]], solver='sgd', learning_rate_init = 1/(2*chromosom[2]))\n",
    "    \n",
    "    mlp.fit(X_train_sc, Y_train)\n",
    "    prognoza = mlp.predict(X_test_sc)\n",
    "    macierz = confusion_matrix(Y_test, prognoza)\n",
    "\n",
    "    return macierz\n",
    "    "
   ]
  },
  {
   "cell_type": "code",
   "execution_count": 8,
   "metadata": {
    "collapsed": true
   },
   "outputs": [],
   "source": [
    "# macierz kosztu = [TP, FP, TN, FN]\n",
    "def funkcjaZysku(k):\n",
    "    '''\n",
    "    Funkcja obliczajaca wartosci zysku danej sieci na podstawie macierzy kontyngencji składającej się z:\n",
    "    TruePositive, FalsePositive, TrueNegative, FalseNegative\n",
    "    \n",
    "    Parametry:\n",
    "    k (list) - lista zawierajaca liczbe wartosci każdej z czterech możliwych kombinacji klasyfikacji \n",
    "    \n",
    "    Zwraca:\n",
    "    koszt (float) - liczba rzeczywista określająca zysk związany z danym efektem klasyfikacji\n",
    "    \n",
    "    '''\n",
    "    \n",
    "    cost_matrix = np.array([19.9, -0.1, 0, -20.1])\n",
    "    zysk = np.round(np.dot(k, cost_matrix), 5) \n",
    "\n",
    "    return zysk"
   ]
  },
  {
   "cell_type": "code",
   "execution_count": 9,
   "metadata": {
    "collapsed": true
   },
   "outputs": [],
   "source": [
    "def selekcja(populacja, przystosowanie):\n",
    "    '''\n",
    "    Funkcja selekcji - wybierająca chromosomy do krzyżowania\n",
    "    \n",
    "    Parametry:\n",
    "    - populacja (dict) - słownik z aktualną populacją\n",
    "    - przystosowanie (dict) - słownik z wartościami funkcji przystosowania dla każdego chromosomu w populacji\n",
    "    \n",
    "    Zwraca:\n",
    "    - nowa_populacja (dict) - słownik z nową populacją\n",
    "    \n",
    "    '''\n",
    "    fitness = przystosowanie\n",
    "    mmsc = MinMaxScaler(feature_range=(0,100)).fit_transform(fitness.reshape(-1, 1))\n",
    "    s = sum(mmsc)\n",
    "    mmsc = mmsc/s*100\n",
    "    f_total = []\n",
    "    for m, i in enumerate(mmsc):\n",
    "        for j in range(int(i)):\n",
    "            f_total.append(m)\n",
    "    parents_pool = np.copy(f_total)\n",
    "    nowa_populacja = {}\n",
    "    for j in range(len(populacja)):\n",
    "        # wybieranie losowych rodziców metodą ruletki\n",
    "        father = np.random.choice(parents_pool)\n",
    "        # drugi rodzic nie może być taki sam jak pierwszy\n",
    "        mother = parents_pool[parents_pool!=father]\n",
    "        # jeśli pozostał tylko jeden rodzic w populacji to muszę go wybrać\n",
    "        if len(mother) == 0:\n",
    "            mother = father\n",
    "        else:\n",
    "            mother = np.random.choice(mother)\n",
    "        father = populacja[father]\n",
    "        mother = populacja[mother]\n",
    "        c = np.random.randint(1, len(father))\n",
    "        child = np.concatenate([father[:c], mother[c:]])\n",
    "        # mutacja\n",
    "        mutationPr = 0.25\n",
    "        wsp_mutacji = mutationPr/np.exp(i/10) \n",
    "        m = np.random.random()\n",
    "        if m < wsp_mutacji:\n",
    "            child = mutacja(child)\n",
    "        nowa_populacja[j] = child\n",
    "    \n",
    "    return nowa_populacja"
   ]
  },
  {
   "cell_type": "markdown",
   "metadata": {},
   "source": [
    "Miejsce na zbiór danych po przekształceniach "
   ]
  },
  {
   "cell_type": "code",
   "execution_count": 10,
   "metadata": {
    "collapsed": true
   },
   "outputs": [],
   "source": [
    "dataset = pd.read_csv('msc_dataset.txt',  sep=\"\\t\")\n",
    "df = dataset[['TRX_aff_L12M_COL_PTS', 'TRX_aff_L12M_PUR_AMT', 'TRX_aff_L3M_BASE_PTS',\n",
    "       'TRX_aff_L3M_COL_CNT', 'TRX_aff_L3M_PROMO_PTS', 'TRX_aff_L3M_PUR_AMT',\n",
    "       'ACCT_BAL_MOD_CNT', 'ACCT_TOT_COL_AMT', 'ACCT_UNBLOCKED_POINTS',\n",
    "       'TIME_FROM_ENRL', 'TIME_FROM_FIRST_DT', 'TIME_FROM_LAST_DT',\n",
    "       'CARDA_PAYM_CNT', 'ACCT_PTS_EXPIRED', 'ACCT_PTS_TO_EXPIRE',\n",
    "       'CUST_GFK_POPULATION', 'CUST_GFK_HOUSEHOLDS', 'CUST_HH_SIZE',\n",
    "       'CUST_AGE', 'CUST_GENDER', 'CUST_CA_AAA_FLG', 'CUST_CA_BBB_FLG',\n",
    "       'CUST_CA_CCC_FLG', 'CUST_CA_BBB_KM_CNT', 'CUST_CA_AAA_KM_CNT',\n",
    "       'CUST_CA_CCC_KM_CNT', 'WEB_ALL_UNQ_SES_CNT_L2W',\n",
    "       'WEB_ALL_TIME_SPEND_L2W', 'WEB_ALL_UNQ_SES_CNT_L4W',\n",
    "       'WEB_ALL_TIME_SPEND_L4W', 'WEB_AFF_UNQ_SES_CNT_L2W',\n",
    "       'WEB_AFF_TIME_SPEND_L2W', 'WEB_AFF_UNQ_SES_CNT_L4W',\n",
    "       'WEB_AFF_TIME_SPEND_L4W', 'WEB_HIS_UNQ_SES_CNT_L2W',\n",
    "       'WEB_HIS_TIME_SPEND_L2W', 'WEB_HIS_UNQ_SES_CNT_L4W',\n",
    "       'WEB_HIS_TIME_SPEND_L4W', 'WEB_OCC_UNQ_SES_CNT_L2W',\n",
    "       'WEB_OCC_TIME_SPEND_L2W', 'WEB_OCC_UNQ_SES_CNT_L4W',\n",
    "       'WEB_OCC_TIME_SPEND_L4W', 'WEB_REW_UNQ_SES_CNT_L2W',\n",
    "       'WEB_REW_TIME_SPEND_L2W', 'WEB_REW_UNQ_SES_CNT_L4W',\n",
    "       'WEB_REW_TIME_SPEND_L4W', 'WEB_ALL_UNQ_SES_CNT_L3M',\n",
    "       'WEB_ALL_TIME_SPEND_L3M', 'WEB_ALL_UNQ_SES_CNT_L6M',\n",
    "       'WEB_ALL_TIME_SPEND_L6M', 'WEB_ALL_UNQ_SES_CNT_L12M',\n",
    "       'WEB_ALL_TIME_SPEND_L12M', 'WEB_AFF_UNQ_SES_CNT_L3M',\n",
    "       'WEB_AFF_TIME_SPEND_L3M', 'WEB_AFF_UNQ_SES_CNT_L6M',\n",
    "       'WEB_AFF_TIME_SPEND_L6M', 'WEB_AFF_UNQ_SES_CNT_L12M',\n",
    "       'WEB_AFF_TIME_SPEND_L12M', 'WEB_HIS_UNQ_SES_CNT_L3M',\n",
    "       'WEB_HIS_TIME_SPEND_L3M', 'WEB_HIS_UNQ_SES_CNT_L6M',\n",
    "       'WEB_HIS_TIME_SPEND_L6M', 'WEB_HIS_UNQ_SES_CNT_L12M',\n",
    "       'WEB_HIS_TIME_SPEND_L12M', 'WEB_OCC_UNQ_SES_CNT_L3M',\n",
    "       'WEB_OCC_TIME_SPEND_L3M', 'WEB_OCC_UNQ_SES_CNT_L6M',\n",
    "       'WEB_OCC_TIME_SPEND_L6M', 'WEB_OCC_UNQ_SES_CNT_L12M',\n",
    "       'WEB_OCC_TIME_SPEND_L12M', 'WEB_REW_UNQ_SES_CNT_L3M',\n",
    "       'WEB_REW_TIME_SPEND_L3M', 'WEB_REW_UNQ_SES_CNT_L6M',\n",
    "       'WEB_REW_TIME_SPEND_L6M', 'WEB_REW_UNQ_SES_CNT_L12M',\n",
    "       'WEB_REW_TIME_SPEND_L12M', 'event']]\n"
   ]
  },
  {
   "cell_type": "code",
   "execution_count": 11,
   "metadata": {
    "collapsed": true
   },
   "outputs": [],
   "source": [
    "X = df[['TRX_aff_L12M_COL_PTS', 'TRX_aff_L12M_PUR_AMT', 'TRX_aff_L3M_BASE_PTS',\n",
    "       'TRX_aff_L3M_COL_CNT', 'TRX_aff_L3M_PROMO_PTS', 'TRX_aff_L3M_PUR_AMT',\n",
    "       'ACCT_BAL_MOD_CNT', 'ACCT_TOT_COL_AMT', 'ACCT_UNBLOCKED_POINTS',\n",
    "       'TIME_FROM_ENRL', 'TIME_FROM_FIRST_DT', 'TIME_FROM_LAST_DT',\n",
    "       'CARDA_PAYM_CNT', 'ACCT_PTS_EXPIRED', 'ACCT_PTS_TO_EXPIRE',\n",
    "       'CUST_GFK_POPULATION', 'CUST_GFK_HOUSEHOLDS', 'CUST_HH_SIZE',\n",
    "       'CUST_AGE', 'CUST_GENDER', 'CUST_CA_AAA_FLG', 'CUST_CA_BBB_FLG',\n",
    "       'CUST_CA_CCC_FLG', 'CUST_CA_BBB_KM_CNT', 'CUST_CA_AAA_KM_CNT',\n",
    "       'CUST_CA_CCC_KM_CNT', 'WEB_ALL_UNQ_SES_CNT_L2W',\n",
    "       'WEB_ALL_TIME_SPEND_L2W', 'WEB_ALL_UNQ_SES_CNT_L4W',\n",
    "       'WEB_ALL_TIME_SPEND_L4W', 'WEB_AFF_UNQ_SES_CNT_L2W',\n",
    "       'WEB_AFF_TIME_SPEND_L2W', 'WEB_AFF_UNQ_SES_CNT_L4W',\n",
    "       'WEB_AFF_TIME_SPEND_L4W', 'WEB_HIS_UNQ_SES_CNT_L2W',\n",
    "       'WEB_HIS_TIME_SPEND_L2W', 'WEB_HIS_UNQ_SES_CNT_L4W',\n",
    "       'WEB_HIS_TIME_SPEND_L4W', 'WEB_OCC_UNQ_SES_CNT_L2W',\n",
    "       'WEB_OCC_TIME_SPEND_L2W', 'WEB_OCC_UNQ_SES_CNT_L4W',\n",
    "       'WEB_OCC_TIME_SPEND_L4W', 'WEB_REW_UNQ_SES_CNT_L2W',\n",
    "       'WEB_REW_TIME_SPEND_L2W', 'WEB_REW_UNQ_SES_CNT_L4W',\n",
    "       'WEB_REW_TIME_SPEND_L4W', 'WEB_ALL_UNQ_SES_CNT_L3M',\n",
    "       'WEB_ALL_TIME_SPEND_L3M', 'WEB_ALL_UNQ_SES_CNT_L6M',\n",
    "       'WEB_ALL_TIME_SPEND_L6M', 'WEB_ALL_UNQ_SES_CNT_L12M',\n",
    "       'WEB_ALL_TIME_SPEND_L12M', 'WEB_AFF_UNQ_SES_CNT_L3M',\n",
    "       'WEB_AFF_TIME_SPEND_L3M', 'WEB_AFF_UNQ_SES_CNT_L6M',\n",
    "       'WEB_AFF_TIME_SPEND_L6M', 'WEB_AFF_UNQ_SES_CNT_L12M',\n",
    "       'WEB_AFF_TIME_SPEND_L12M', 'WEB_HIS_UNQ_SES_CNT_L3M',\n",
    "       'WEB_HIS_TIME_SPEND_L3M', 'WEB_HIS_UNQ_SES_CNT_L6M',\n",
    "       'WEB_HIS_TIME_SPEND_L6M', 'WEB_HIS_UNQ_SES_CNT_L12M',\n",
    "       'WEB_HIS_TIME_SPEND_L12M', 'WEB_OCC_UNQ_SES_CNT_L3M',\n",
    "       'WEB_OCC_TIME_SPEND_L3M', 'WEB_OCC_UNQ_SES_CNT_L6M',\n",
    "       'WEB_OCC_TIME_SPEND_L6M', 'WEB_OCC_UNQ_SES_CNT_L12M',\n",
    "       'WEB_OCC_TIME_SPEND_L12M', 'WEB_REW_UNQ_SES_CNT_L3M',\n",
    "       'WEB_REW_TIME_SPEND_L3M', 'WEB_REW_UNQ_SES_CNT_L6M',\n",
    "       'WEB_REW_TIME_SPEND_L6M', 'WEB_REW_UNQ_SES_CNT_L12M',\n",
    "       'WEB_REW_TIME_SPEND_L12M']]\n",
    "Y = df['event']\n"
   ]
  },
  {
   "cell_type": "code",
   "execution_count": 12,
   "metadata": {
    "scrolled": false
   },
   "outputs": [
    {
     "name": "stderr",
     "output_type": "stream",
     "text": [
      "C:\\Apps\\Anaconda\\lib\\site-packages\\ipykernel_launcher.py:1: SettingWithCopyWarning: \n",
      "A value is trying to be set on a copy of a slice from a DataFrame.\n",
      "Try using .loc[row_indexer,col_indexer] = value instead\n",
      "\n",
      "See the caveats in the documentation: http://pandas.pydata.org/pandas-docs/stable/indexing.html#indexing-view-versus-copy\n",
      "  \"\"\"Entry point for launching an IPython kernel.\n",
      "C:\\Apps\\Anaconda\\lib\\site-packages\\ipykernel_launcher.py:2: SettingWithCopyWarning: \n",
      "A value is trying to be set on a copy of a slice from a DataFrame.\n",
      "Try using .loc[row_indexer,col_indexer] = value instead\n",
      "\n",
      "See the caveats in the documentation: http://pandas.pydata.org/pandas-docs/stable/indexing.html#indexing-view-versus-copy\n",
      "  \n",
      "C:\\Apps\\Anaconda\\lib\\site-packages\\ipykernel_launcher.py:3: SettingWithCopyWarning: \n",
      "A value is trying to be set on a copy of a slice from a DataFrame.\n",
      "Try using .loc[row_indexer,col_indexer] = value instead\n",
      "\n",
      "See the caveats in the documentation: http://pandas.pydata.org/pandas-docs/stable/indexing.html#indexing-view-versus-copy\n",
      "  This is separate from the ipykernel package so we can avoid doing imports until\n"
     ]
    }
   ],
   "source": [
    "X['CUST_CA_AAA_FLG'] = df.CUST_CA_AAA_FLG.map({'Y' : 1, 'N' : 0})\n",
    "X['CUST_CA_BBB_FLG'] = df.CUST_CA_BBB_FLG.map({'Y' : 1, 'N' : 0})\n",
    "X['CUST_CA_CCC_FLG'] = df.CUST_CA_CCC_FLG.map({'Y' : 1, 'N' : 0})"
   ]
  },
  {
   "cell_type": "code",
   "execution_count": 13,
   "metadata": {
    "collapsed": true
   },
   "outputs": [],
   "source": [
    "from sklearn.model_selection import train_test_split \n",
    "\n",
    "X_train, X_test, Y_train, Y_test = train_test_split(X, Y, test_size=0.25, random_state=42)"
   ]
  },
  {
   "cell_type": "code",
   "execution_count": 14,
   "metadata": {},
   "outputs": [
    {
     "data": {
      "text/plain": [
       "(169704, 56568, 169704, 56568)"
      ]
     },
     "execution_count": 14,
     "metadata": {},
     "output_type": "execute_result"
    }
   ],
   "source": [
    "len(X_train), len(X_test), len(Y_train), len(Y_test)"
   ]
  },
  {
   "cell_type": "markdown",
   "metadata": {},
   "source": [
    "Over-Sampling"
   ]
  },
  {
   "cell_type": "code",
   "execution_count": 29,
   "metadata": {
    "collapsed": true
   },
   "outputs": [],
   "source": [
    "from imblearn import over_sampling"
   ]
  },
  {
   "cell_type": "code",
   "execution_count": 30,
   "metadata": {
    "scrolled": false
   },
   "outputs": [
    {
     "name": "stderr",
     "output_type": "stream",
     "text": [
      "C:\\Apps\\Anaconda\\lib\\site-packages\\sklearn\\utils\\deprecation.py:77: DeprecationWarning: Function _ratio_float is deprecated; Use a float for 'ratio' is deprecated from version 0.2. The support will be removed in 0.4. Use a dict, str, or a callable instead.\n",
      "  warnings.warn(msg, category=DeprecationWarning)\n"
     ]
    }
   ],
   "source": [
    "adasyn = over_sampling.ADASYN(ratio=0.3, random_state=42)\n",
    "X_resampled, Y_resampled = adasyn.fit_sample(X_train, Y_train)"
   ]
  },
  {
   "cell_type": "code",
   "execution_count": 39,
   "metadata": {},
   "outputs": [
    {
     "data": {
      "text/plain": [
       "(219234, 219234)"
      ]
     },
     "execution_count": 39,
     "metadata": {},
     "output_type": "execute_result"
    }
   ],
   "source": [
    "len(X_resampled), len(Y_resampled)"
   ]
  },
  {
   "cell_type": "markdown",
   "metadata": {},
   "source": [
    "Under-sampling"
   ]
  },
  {
   "cell_type": "code",
   "execution_count": 15,
   "metadata": {
    "collapsed": true
   },
   "outputs": [],
   "source": [
    "from imblearn import under_sampling"
   ]
  },
  {
   "cell_type": "code",
   "execution_count": 16,
   "metadata": {
    "scrolled": true
   },
   "outputs": [
    {
     "name": "stderr",
     "output_type": "stream",
     "text": [
      "C:\\Apps\\Anaconda\\lib\\site-packages\\sklearn\\utils\\deprecation.py:77: DeprecationWarning: Function _ratio_float is deprecated; Use a float for 'ratio' is deprecated from version 0.2. The support will be removed in 0.4. Use a dict, str, or a callable instead.\n",
      "  warnings.warn(msg, category=DeprecationWarning)\n"
     ]
    },
    {
     "data": {
      "text/plain": [
       "(5746, 5746)"
      ]
     },
     "execution_count": 16,
     "metadata": {},
     "output_type": "execute_result"
    }
   ],
   "source": [
    "rus = under_sampling.RandomUnderSampler(ratio=0.3, random_state=42)\n",
    "X_resampled2, Y_resampled2 = rus.fit_sample(X_train, Y_train)\n",
    "len(X_resampled2) , len(Y_resampled2)"
   ]
  },
  {
   "cell_type": "markdown",
   "metadata": {},
   "source": [
    "Standaryzacja"
   ]
  },
  {
   "cell_type": "code",
   "execution_count": 17,
   "metadata": {
    "collapsed": true
   },
   "outputs": [],
   "source": [
    "from sklearn.preprocessing import StandardScaler"
   ]
  },
  {
   "cell_type": "code",
   "execution_count": 18,
   "metadata": {
    "collapsed": true
   },
   "outputs": [],
   "source": [
    "X_resampled2_sc = StandardScaler().fit(X_resampled2).transform(X_resampled2)\n",
    "X_test_sc = StandardScaler().fit(X_test).transform(X_test)"
   ]
  },
  {
   "cell_type": "code",
   "execution_count": 19,
   "metadata": {
    "collapsed": true
   },
   "outputs": [],
   "source": [
    "X_train_sc = X_resampled2_sc.copy()\n",
    "Y_train = Y_resampled2.copy()"
   ]
  },
  {
   "cell_type": "code",
   "execution_count": 20,
   "metadata": {},
   "outputs": [
    {
     "data": {
      "text/plain": [
       "1326"
      ]
     },
     "execution_count": 20,
     "metadata": {},
     "output_type": "execute_result"
    }
   ],
   "source": [
    "len(Y_train[Y_train==1])"
   ]
  },
  {
   "cell_type": "code",
   "execution_count": 16,
   "metadata": {
    "collapsed": true
   },
   "outputs": [],
   "source": [
    "from time import time"
   ]
  },
  {
   "cell_type": "code",
   "execution_count": 24,
   "metadata": {
    "scrolled": false
   },
   "outputs": [
    {
     "name": "stderr",
     "output_type": "stream",
     "text": [
      "C:\\Apps\\Anaconda\\lib\\site-packages\\sklearn\\neural_network\\multilayer_perceptron.py:564: ConvergenceWarning: Stochastic Optimizer: Maximum iterations (200) reached and the optimization hasn't converged yet.\n",
      "  % self.max_iter, ConvergenceWarning)\n"
     ]
    },
    {
     "name": "stdout",
     "output_type": "stream",
     "text": [
      "4802.884230852127\n"
     ]
    }
   ],
   "source": [
    "# Główna część wykonująca \n",
    "t = time()\n",
    "# liczba iteracji algorytmu \n",
    "generations = 10\n",
    "\n",
    "# liczba chromosomów w populacji - liczba różnych topologii \n",
    "liczebnosc_pop = 10\n",
    "\n",
    "# wartości funkcji przystosowania dla poszczególnych iteracji\n",
    "f_fit = {}\n",
    "\n",
    "average_fitness = np.zeros(liczebnosc_pop)\n",
    "maximum_fitness = np.zeros(liczebnosc_pop)\n",
    "minimum_fitness = np.zeros(liczebnosc_pop)\n",
    "\n",
    "# zbior populacji\n",
    "zb_pop = {}\n",
    "klasyfikacja = {}\n",
    "populacja = startowaPopulacja(liczebnosc_pop)\n",
    "czas_treningu = {}\n",
    "czas_selekcji = {}\n",
    "for i in range(generations):\n",
    "    zb_pop[i] = populacja\n",
    "    f_fit[i] = np.zeros(liczebnosc_pop)\n",
    "    klasyfikacja[i] = {}\n",
    "    fitness = np.zeros(len(populacja))\n",
    "    for p in range(len(populacja)):\n",
    "        y = siec(populacja[p])\n",
    "        # wektor w przechowuje liczby: TP, FP, TN, FN\n",
    "        w = np.array([y[1][1], y[0][1], y[0][0], y[1][0]])\n",
    "        fitness[p] = funkcjaZysku(w)\n",
    "        klasyfikacja[i][p] = y\n",
    "    f_fit[i] = fitness\n",
    "    average_fitness[i] = np.mean(fitness)\n",
    "    maximum_fitness[i] = np.max(fitness)\n",
    "    minimum_fitness[i] = np.min(fitness)\n",
    "    if minimum_fitness[i] == maximum_fitness[i]:\n",
    "        print('Najmniejsza i największa wartość funkcji przystosowania są takie same.')\n",
    "        print('Osiągnięto minimum lokalne.')\n",
    "        print('Iteracja nr {}'.format(i+1))\n",
    "        break\n",
    "    #nowa_populacja = {}\n",
    "    new_pop = selekcja(populacja, fitness)\n",
    "    populacja = new_pop.copy()\n",
    "print(time() - t)"
   ]
  },
  {
   "cell_type": "code",
   "execution_count": 25,
   "metadata": {
    "scrolled": false
   },
   "outputs": [
    {
     "data": {
      "text/plain": [
       "{0: {0: array([[56122,     0],\n",
       "         [  446,     0]], dtype=int64), 1: array([[56122,     0],\n",
       "         [  446,     0]], dtype=int64), 2: array([[47175,  8947],\n",
       "         [  282,   164]], dtype=int64), 3: array([[45290, 10832],\n",
       "         [   60,   386]], dtype=int64), 4: array([[56122,     0],\n",
       "         [  446,     0]], dtype=int64), 5: array([[56122,     0],\n",
       "         [  446,     0]], dtype=int64), 6: array([[56122,     0],\n",
       "         [  446,     0]], dtype=int64), 7: array([[55166,   956],\n",
       "         [  357,    89]], dtype=int64), 8: array([[56122,     0],\n",
       "         [  446,     0]], dtype=int64), 9: array([[55752,   370],\n",
       "         [  405,    41]], dtype=int64)}, 1: {0: array([[46162,  9960],\n",
       "         [   62,   384]], dtype=int64), 1: array([[46317,  9805],\n",
       "         [   59,   387]], dtype=int64), 2: array([[54243,  1879],\n",
       "         [  300,   146]], dtype=int64), 3: array([[56122,     0],\n",
       "         [  446,     0]], dtype=int64), 4: array([[54994,  1128],\n",
       "         [  398,    48]], dtype=int64), 5: array([[52228,  3894],\n",
       "         [  315,   131]], dtype=int64), 6: array([[45641, 10481],\n",
       "         [   63,   383]], dtype=int64), 7: array([[54739,  1383],\n",
       "         [  316,   130]], dtype=int64), 8: array([[46173,  9949],\n",
       "         [   71,   375]], dtype=int64), 9: array([[45709, 10413],\n",
       "         [   58,   388]], dtype=int64)}, 2: {0: array([[46068, 10054],\n",
       "         [   64,   382]], dtype=int64), 1: array([[45676, 10446],\n",
       "         [   57,   389]], dtype=int64), 2: array([[46023, 10099],\n",
       "         [   62,   384]], dtype=int64), 3: array([[45832, 10290],\n",
       "         [   60,   386]], dtype=int64), 4: array([[46024, 10098],\n",
       "         [   67,   379]], dtype=int64), 5: array([[46178,  9944],\n",
       "         [   64,   382]], dtype=int64), 6: array([[46094, 10028],\n",
       "         [   55,   391]], dtype=int64), 7: array([[55386,   736],\n",
       "         [  430,    16]], dtype=int64), 8: array([[45539, 10583],\n",
       "         [   61,   385]], dtype=int64), 9: array([[45871, 10251],\n",
       "         [   60,   386]], dtype=int64)}, 3: {0: array([[45259, 10863],\n",
       "         [   55,   391]], dtype=int64), 1: array([[45281, 10841],\n",
       "         [   55,   391]], dtype=int64), 2: array([[46365,  9757],\n",
       "         [   62,   384]], dtype=int64), 3: array([[46161,  9961],\n",
       "         [   65,   381]], dtype=int64), 4: array([[46630,  9492],\n",
       "         [   73,   373]], dtype=int64), 5: array([[45984, 10138],\n",
       "         [   72,   374]], dtype=int64), 6: array([[45808, 10314],\n",
       "         [   57,   389]], dtype=int64), 7: array([[46314,  9808],\n",
       "         [   69,   377]], dtype=int64), 8: array([[46211,  9911],\n",
       "         [   63,   383]], dtype=int64), 9: array([[45876, 10246],\n",
       "         [   66,   380]], dtype=int64)}, 4: {0: array([[56122,     0],\n",
       "         [  446,     0]], dtype=int64), 1: array([[45993, 10129],\n",
       "         [   63,   383]], dtype=int64), 2: array([[45530, 10592],\n",
       "         [   59,   387]], dtype=int64), 3: array([[45417, 10705],\n",
       "         [   72,   374]], dtype=int64), 4: array([[46121, 10001],\n",
       "         [   64,   382]], dtype=int64), 5: array([[45915, 10207],\n",
       "         [   60,   386]], dtype=int64), 6: array([[54599,  1523],\n",
       "         [  390,    56]], dtype=int64), 7: array([[45865, 10257],\n",
       "         [   67,   379]], dtype=int64), 8: array([[45834, 10288],\n",
       "         [   66,   380]], dtype=int64), 9: array([[55012,  1110],\n",
       "         [  376,    70]], dtype=int64)}, 5: {0: array([[46028, 10094],\n",
       "         [   60,   386]], dtype=int64), 1: array([[45378, 10744],\n",
       "         [   66,   380]], dtype=int64), 2: array([[45702, 10420],\n",
       "         [   59,   387]], dtype=int64), 3: array([[45624, 10498],\n",
       "         [   64,   382]], dtype=int64), 4: array([[46554,  9568],\n",
       "         [   74,   372]], dtype=int64), 5: array([[46021, 10101],\n",
       "         [   71,   375]], dtype=int64), 6: array([[45384, 10738],\n",
       "         [   54,   392]], dtype=int64), 7: array([[45504, 10618],\n",
       "         [   52,   394]], dtype=int64), 8: array([[45805, 10317],\n",
       "         [   63,   383]], dtype=int64), 9: array([[46109, 10013],\n",
       "         [   63,   383]], dtype=int64)}, 6: {0: array([[45612, 10510],\n",
       "         [   62,   384]], dtype=int64), 1: array([[45619, 10503],\n",
       "         [   80,   366]], dtype=int64), 2: array([[46065, 10057],\n",
       "         [   69,   377]], dtype=int64), 3: array([[45358, 10764],\n",
       "         [   55,   391]], dtype=int64), 4: array([[45754, 10368],\n",
       "         [   65,   381]], dtype=int64), 5: array([[46636,  9486],\n",
       "         [   69,   377]], dtype=int64), 6: array([[45410, 10712],\n",
       "         [   58,   388]], dtype=int64), 7: array([[45528, 10594],\n",
       "         [   66,   380]], dtype=int64), 8: array([[46034, 10088],\n",
       "         [   66,   380]], dtype=int64), 9: array([[46023, 10099],\n",
       "         [   61,   385]], dtype=int64)}, 7: {0: array([[45706, 10416],\n",
       "         [   68,   378]], dtype=int64), 1: array([[ 3800, 52322],\n",
       "         [  172,   274]], dtype=int64), 2: array([[45456, 10666],\n",
       "         [   59,   387]], dtype=int64), 3: array([[45297, 10825],\n",
       "         [   56,   390]], dtype=int64), 4: array([[45955, 10167],\n",
       "         [   58,   388]], dtype=int64), 5: array([[46127,  9995],\n",
       "         [   76,   370]], dtype=int64), 6: array([[45570, 10552],\n",
       "         [   60,   386]], dtype=int64), 7: array([[45703, 10419],\n",
       "         [   56,   390]], dtype=int64), 8: array([[45615, 10507],\n",
       "         [   60,   386]], dtype=int64), 9: array([[46241,  9881],\n",
       "         [   65,   381]], dtype=int64)}, 8: {0: array([[45176, 10946],\n",
       "         [   55,   391]], dtype=int64), 1: array([[45735, 10387],\n",
       "         [   63,   383]], dtype=int64), 2: array([[46309,  9813],\n",
       "         [   67,   379]], dtype=int64), 3: array([[46503,  9619],\n",
       "         [   78,   368]], dtype=int64), 4: array([[45521, 10601],\n",
       "         [   52,   394]], dtype=int64), 5: array([[46047, 10075],\n",
       "         [   62,   384]], dtype=int64), 6: array([[45678, 10444],\n",
       "         [   65,   381]], dtype=int64), 7: array([[45762, 10360],\n",
       "         [   59,   387]], dtype=int64), 8: array([[45355, 10767],\n",
       "         [   56,   390]], dtype=int64), 9: array([[45778, 10344],\n",
       "         [   56,   390]], dtype=int64)}, 9: {0: array([[45445, 10677],\n",
       "         [   51,   395]], dtype=int64), 1: array([[45362, 10760],\n",
       "         [   55,   391]], dtype=int64), 2: array([[46389,  9733],\n",
       "         [   69,   377]], dtype=int64), 3: array([[45194, 10928],\n",
       "         [   51,   395]], dtype=int64), 4: array([[45645, 10477],\n",
       "         [   58,   388]], dtype=int64), 5: array([[45617, 10505],\n",
       "         [   59,   387]], dtype=int64), 6: array([[45507, 10615],\n",
       "         [   59,   387]], dtype=int64), 7: array([[46240,  9882],\n",
       "         [   66,   380]], dtype=int64), 8: array([[46183,  9939],\n",
       "         [   63,   383]], dtype=int64), 9: array([[45756, 10366],\n",
       "         [   69,   377]], dtype=int64)}}"
      ]
     },
     "execution_count": 25,
     "metadata": {},
     "output_type": "execute_result"
    }
   ],
   "source": [
    "klasyfikacja"
   ]
  },
  {
   "cell_type": "code",
   "execution_count": 26,
   "metadata": {},
   "outputs": [
    {
     "data": {
      "text/plain": [
       "{0: array([-8964.6, -8964.6, -3299.3,  5392.2, -8964.6, -8964.6, -8964.6,\n",
       "        -5500.2, -8964.6, -7361.6]),\n",
       " 1: array([ 5399.4,  5534.9, -3312.5, -8964.6, -7157.4, -4114. ,  5307.3,\n",
       "        -3902.9,  5040.5,  5514.1]),\n",
       " 2: array([ 5310. ,  5550.8,  5385.5,  5446.4,  5185.6,  5321. ,  5672.6,\n",
       "        -8398.2,  5377.1,  5450.3]),\n",
       " 3: array([ 5589.1,  5591.3,  5419.7,  5279.3,  5006.2,  4981.6,  5564. ,\n",
       "         5134.6,  5364.3,  5210.8]),\n",
       " 4: array([-8964.6,  5342.5,  5456.2,  4924.9,  5315.3,  5454.7, -6876.9,\n",
       "         5169.7,  5206.6, -6275.6]),\n",
       " 5: array([ 5466. ,  5161. ,  5473.4,  5265.6,  4958.6,  5025.3,  5641.6,\n",
       "         5733.6,  5323.7,  5354.1]),\n",
       " 6: array([ 5344.4,  4625.1,  5109.7,  5599. ,  5238.6,  5166.8,  5484.2,\n",
       "         5176. ,  5226.6,  5425.5]),\n",
       " 7: array([ 5113.8, -3236.8,  5448.8,  5552.9,  5538.7,  4835.9,  5420.2,\n",
       "         5593.5,  5424.7,  5287.3]),\n",
       " 8: array([ 5580.8,  5316.7,  5214.1,  4793.5,  5735.3,  5387.9,  5231. ,\n",
       "         5479.4,  5558.7,  5601. ]),\n",
       " 9: array([ 5767.7,  5599.4,  5142.1,  5742.6,  5507.7,  5464.9,  5453.9,\n",
       "         5247.2,  5361.5,  5078.8])}"
      ]
     },
     "execution_count": 26,
     "metadata": {},
     "output_type": "execute_result"
    }
   ],
   "source": [
    "f_fit"
   ]
  },
  {
   "cell_type": "code",
   "execution_count": 32,
   "metadata": {},
   "outputs": [
    {
     "data": {
      "text/plain": [
       "{0: {0: array([  1,   0, 985,   4,  21]),\n",
       "  1: array([  1,   0, 970,   3,  54]),\n",
       "  2: array([  3,   1, 753,   3,  81]),\n",
       "  3: array([  3,   0, 392,   2,  22]),\n",
       "  4: array([  1,   1, 895,   3,  11]),\n",
       "  5: array([  1,   0, 469,   5,  90]),\n",
       "  6: array([  1,   0, 512,   3,  98]),\n",
       "  7: array([  3,   1, 711,   3,  44]),\n",
       "  8: array([  1,   1, 126,   4, 103]),\n",
       "  9: array([  3,   1, 335,   4, 114])},\n",
       " 1: {0: array([  3,   0, 711,   3,  44]),\n",
       "  1: array([  3,   0, 753,   3,  81]),\n",
       "  2: array([  3,   1, 711,   3, 114]),\n",
       "  3: array([  1,   0, 392,   3,  44]),\n",
       "  4: array([  3,   1, 753,   3,  22]),\n",
       "  5: array([  3,   1, 711,   3,  44]),\n",
       "  6: array([  3,   0, 392,   3,  81]),\n",
       "  7: array([  3,   1, 711,   3,  81]),\n",
       "  8: array([  3,   0, 392,   2,  81]),\n",
       "  9: array([  3,   0, 753,   3,  22])},\n",
       " 2: {0: array([  3,   0, 753,   3,  81]),\n",
       "  1: array([  3,   0, 753,   3,  81]),\n",
       "  2: array([  3,   0, 753,   3,  81]),\n",
       "  3: array([  3,   0, 753,   3,  22]),\n",
       "  4: array([  3,   0, 392,   2,  22]),\n",
       "  5: array([  3,   0, 753,   3,  44]),\n",
       "  6: array([  3,   0, 753,   3,  81]),\n",
       "  7: array([  3,   1, 711,   3,  44]),\n",
       "  8: array([  3,   0, 711,   3,  44]),\n",
       "  9: array([  3,   0, 392,   3,  44])},\n",
       " 3: {0: array([  3,   0, 753,   3,  22]),\n",
       "  1: array([  3,   0, 753,   3,  22]),\n",
       "  2: array([  3,   0, 753,   3,  81]),\n",
       "  3: array([  3,   0, 753,   3,  81]),\n",
       "  4: array([  3,   0, 753,   2,  22]),\n",
       "  5: array([  3,   0, 753,   3,  44]),\n",
       "  6: array([  3,   0, 753,   3,  22]),\n",
       "  7: array([  3,   0, 753,   3,  43]),\n",
       "  8: array([  2,   0, 392,   3,  44]),\n",
       "  9: array([  3,   0, 392,   3,  44])},\n",
       " 4: {0: array([  1,   0, 753,   3,  22]),\n",
       "  1: array([  3,   0, 753,   3,  44]),\n",
       "  2: array([  3,   0, 753,   5,  81]),\n",
       "  3: array([  3,   0, 753,   3,  22]),\n",
       "  4: array([  3,   0, 753,   3,  81]),\n",
       "  5: array([  3,   0, 753,   3,  81]),\n",
       "  6: array([  3,   1, 753,   3,  81]),\n",
       "  7: array([  3,   0, 392,   3,  44]),\n",
       "  8: array([  3,   0, 753,   3,  22]),\n",
       "  9: array([  3,   1, 753,   3,  81])},\n",
       " 5: {0: array([  3,   0, 753,   3,  47]),\n",
       "  1: array([  3,   0, 753,   5,  81]),\n",
       "  2: array([  3,   0, 753,   3,  81]),\n",
       "  3: array([  3,   0, 753,   3,  81]),\n",
       "  4: array([  2,   0, 392,   3,  81]),\n",
       "  5: array([  3,   0, 753,   5,  81]),\n",
       "  6: array([  3,   0, 753,   5,  81]),\n",
       "  7: array([  3,   0, 392,   3,  22]),\n",
       "  8: array([  3,   0, 392,   3,  44]),\n",
       "  9: array([  3,   0, 753,   3,  44])},\n",
       " 6: {0: array([  3,   0, 753,   5,  81]),\n",
       "  1: array([  3,   0, 392,   5,  81]),\n",
       "  2: array([  3,   0, 753,   3,  44]),\n",
       "  3: array([  3,   0, 392,   3,  22]),\n",
       "  4: array([  3,   0, 392,   3,  44]),\n",
       "  5: array([  3,   0, 753,   5,  22]),\n",
       "  6: array([  3,   0, 753,   3,  22]),\n",
       "  7: array([  3,   0, 753,   5,  81]),\n",
       "  8: array([  3,   0, 392,   3,  81]),\n",
       "  9: array([  3,   0, 753,   3,  81])},\n",
       " 7: {0: array([  3,   0, 392,   3,  22]),\n",
       "  1: array([  3,   1, 753,   3,  22]),\n",
       "  2: array([  3,   0, 753,   3,  22]),\n",
       "  3: array([  3,   0, 753,   3,  22]),\n",
       "  4: array([  3,   0, 753,   3,  22]),\n",
       "  5: array([  3,   0, 392,   3,  44]),\n",
       "  6: array([  3,   0, 753,   5,  81]),\n",
       "  7: array([  3,   0, 753,   3,  81]),\n",
       "  8: array([  3,   0, 753,   5,  81]),\n",
       "  9: array([  3,   0, 753,   3,  44])},\n",
       " 8: {0: array([  3,   0, 753,   3,  22]),\n",
       "  1: array([  3,   0, 392,   3,  22]),\n",
       "  2: array([  3,   0, 753,   3,  81]),\n",
       "  3: array([  3,   0, 753,   3,  22]),\n",
       "  4: array([  3,   0, 753,   3,  22]),\n",
       "  5: array([  3,   0, 753,   3,  22]),\n",
       "  6: array([  3,   0, 392,   3,  22]),\n",
       "  7: array([  3,   0, 753,   3,  81]),\n",
       "  8: array([  3,   0, 753,   5,  81]),\n",
       "  9: array([  3,   0, 753,   3,  22])},\n",
       " 9: {0: array([  3,   0, 392,   3,  22]),\n",
       "  1: array([  3,   0, 753,   3,  22]),\n",
       "  2: array([  3,   0, 753,   3,  81]),\n",
       "  3: array([  3,   0, 753,   3,  22]),\n",
       "  4: array([  3,   0, 753,   3,  22]),\n",
       "  5: array([  3,   0, 753,   5,  81]),\n",
       "  6: array([  3,   0, 753,   3,  22]),\n",
       "  7: array([  3,   0, 392,   2,  81]),\n",
       "  8: array([  3,   0, 753,   4,  81]),\n",
       "  9: array([  3,   0, 392,   3,  81])}}"
      ]
     },
     "execution_count": 32,
     "metadata": {},
     "output_type": "execute_result"
    }
   ],
   "source": [
    "zb_pop"
   ]
  },
  {
   "cell_type": "code",
   "execution_count": 28,
   "metadata": {},
   "outputs": [
    {
     "data": {
      "text/plain": [
       "array([-6455.65,   -65.52,  4030.11,  5314.09,  1475.28,  5340.29,\n",
       "        5239.59,  4497.9 ,  5389.84,  5436.58])"
      ]
     },
     "execution_count": 28,
     "metadata": {},
     "output_type": "execute_result"
    }
   ],
   "source": [
    "average_fitness"
   ]
  },
  {
   "cell_type": "code",
   "execution_count": 29,
   "metadata": {},
   "outputs": [
    {
     "data": {
      "text/plain": [
       "array([-8964.6, -8964.6, -8398.2,  4981.6, -8964.6,  4958.6,  4625.1,\n",
       "       -3236.8,  4793.5,  5078.8])"
      ]
     },
     "execution_count": 29,
     "metadata": {},
     "output_type": "execute_result"
    }
   ],
   "source": [
    "minimum_fitness"
   ]
  },
  {
   "cell_type": "code",
   "execution_count": 30,
   "metadata": {},
   "outputs": [
    {
     "data": {
      "text/plain": [
       "array([ 5392.2,  5534.9,  5672.6,  5591.3,  5456.2,  5733.6,  5599. ,\n",
       "        5593.5,  5735.3,  5767.7])"
      ]
     },
     "execution_count": 30,
     "metadata": {},
     "output_type": "execute_result"
    }
   ],
   "source": [
    "maximum_fitness"
   ]
  },
  {
   "cell_type": "code",
   "execution_count": null,
   "metadata": {
    "collapsed": true
   },
   "outputs": [],
   "source": [
    "[45445, 10677],\n",
    "         [   51,   395]"
   ]
  },
  {
   "cell_type": "code",
   "execution_count": 31,
   "metadata": {},
   "outputs": [
    {
     "data": {
      "text/plain": [
       "0.8856502242152466"
      ]
     },
     "execution_count": 31,
     "metadata": {},
     "output_type": "execute_result"
    }
   ],
   "source": [
    "395/446"
   ]
  },
  {
   "cell_type": "code",
   "execution_count": 136,
   "metadata": {
    "scrolled": true
   },
   "outputs": [
    {
     "data": {
      "text/plain": [
       "{0: array([  1,   0, 365,   2, 125]),\n",
       " 1: array([ 3,  1, 38,  3, 40]),\n",
       " 2: array([  1,   0, 403,   5,  84]),\n",
       " 3: array([  2,   1, 671,   3,  58]),\n",
       " 4: array([  3,   1, 984,   3,  34]),\n",
       " 5: array([  1,   0, 643,   1,  78]),\n",
       " 6: array([  1,   1, 622,   5, 126]),\n",
       " 7: array([ 3,  0, 25,  1, 22]),\n",
       " 8: array([  2,   0, 912,   5,  89]),\n",
       " 9: array([  2,   0, 265,   5, 126])}"
      ]
     },
     "execution_count": 136,
     "metadata": {},
     "output_type": "execute_result"
    }
   ],
   "source": [
    "sp = startowaPopulacja(liczebnosc_pop)\n",
    "sp"
   ]
  },
  {
   "cell_type": "code",
   "execution_count": 137,
   "metadata": {
    "collapsed": true
   },
   "outputs": [],
   "source": [
    "y = siec(sp[0])"
   ]
  },
  {
   "cell_type": "code",
   "execution_count": 138,
   "metadata": {},
   "outputs": [
    {
     "data": {
      "text/plain": [
       "array([[45631, 10491],\n",
       "       [  118,   328]], dtype=int64)"
      ]
     },
     "execution_count": 138,
     "metadata": {},
     "output_type": "execute_result"
    }
   ],
   "source": [
    "y"
   ]
  },
  {
   "cell_type": "code",
   "execution_count": 125,
   "metadata": {},
   "outputs": [
    {
     "data": {
      "text/plain": [
       "6012.2"
      ]
     },
     "execution_count": 125,
     "metadata": {},
     "output_type": "execute_result"
    }
   ],
   "source": [
    "403*19.9 -20.1*43 - 11432*0.1"
   ]
  },
  {
   "cell_type": "code",
   "execution_count": 129,
   "metadata": {},
   "outputs": [
    {
     "data": {
      "text/plain": [
       "0.677400455190752"
      ]
     },
     "execution_count": 129,
     "metadata": {},
     "output_type": "execute_result"
    }
   ],
   "source": [
    "(403*19.9 -20.1*43 - 11432*0.1) / (446*19.9)"
   ]
  },
  {
   "cell_type": "code",
   "execution_count": 127,
   "metadata": {},
   "outputs": [
    {
     "data": {
      "text/plain": [
       "0.9035874439461884"
      ]
     },
     "execution_count": 127,
     "metadata": {},
     "output_type": "execute_result"
    }
   ],
   "source": [
    "403/446"
   ]
  },
  {
   "cell_type": "code",
   "execution_count": 119,
   "metadata": {},
   "outputs": [
    {
     "data": {
      "text/plain": [
       "1100.0"
      ]
     },
     "execution_count": 119,
     "metadata": {},
     "output_type": "execute_result"
    }
   ],
   "source": [
    "11000*0.1"
   ]
  },
  {
   "cell_type": "markdown",
   "metadata": {},
   "source": [
    "Modele odniesienia"
   ]
  },
  {
   "cell_type": "code",
   "execution_count": 63,
   "metadata": {
    "collapsed": true
   },
   "outputs": [],
   "source": [
    "from sklearn.linear_model import LogisticRegression as LR"
   ]
  },
  {
   "cell_type": "code",
   "execution_count": 64,
   "metadata": {},
   "outputs": [
    {
     "name": "stdout",
     "output_type": "stream",
     "text": [
      "[[49353  6769]\n",
      " [  109   337]]\n"
     ]
    }
   ],
   "source": [
    "linreg = LR(C=1e5)\n",
    "linreg.fit(X_train_sc, Y_train)\n",
    "pred = linreg.predict(X_test_sc)\n",
    "print(confusion_matrix(Y_test, pred))"
   ]
  },
  {
   "cell_type": "code",
   "execution_count": 117,
   "metadata": {
    "scrolled": true
   },
   "outputs": [
    {
     "name": "stdout",
     "output_type": "stream",
     "text": [
      "[[49336  6786]\n",
      " [  112   334]]\n"
     ]
    }
   ],
   "source": [
    "print(confusion_matrix(Y_test, pred))"
   ]
  },
  {
   "cell_type": "code",
   "execution_count": 65,
   "metadata": {},
   "outputs": [
    {
     "data": {
      "text/plain": [
       "0.7556053811659192"
      ]
     },
     "execution_count": 65,
     "metadata": {},
     "output_type": "execute_result"
    }
   ],
   "source": [
    "337/446"
   ]
  },
  {
   "cell_type": "code",
   "execution_count": 66,
   "metadata": {
    "scrolled": true
   },
   "outputs": [
    {
     "data": {
      "text/plain": [
       "3838.5"
      ]
     },
     "execution_count": 66,
     "metadata": {},
     "output_type": "execute_result"
    }
   ],
   "source": [
    "y_log = confusion_matrix(Y_test, pred)\n",
    "w_log = np.array([y_log[1][1], y_log[0][1], y_log[0][0], y_log[1][0]])\n",
    "fitness_log = funkcjaZysku(w_log)\n",
    "fitness_log"
   ]
  },
  {
   "cell_type": "code",
   "execution_count": null,
   "metadata": {
    "collapsed": true
   },
   "outputs": [],
   "source": [
    "print(classification_report(array([[44614, 11508],\n",
    "         [   44,   402]], dtype=int64),))"
   ]
  },
  {
   "cell_type": "code",
   "execution_count": 146,
   "metadata": {},
   "outputs": [
    {
     "data": {
      "text/plain": [
       "0.5550385793493855"
      ]
     },
     "execution_count": 146,
     "metadata": {},
     "output_type": "execute_result"
    }
   ],
   "source": [
    "(8875 - 6012)/(8875 - 3716.8)"
   ]
  },
  {
   "cell_type": "code",
   "execution_count": 145,
   "metadata": {},
   "outputs": [
    {
     "data": {
      "text/plain": [
       "8875.4"
      ]
     },
     "execution_count": 145,
     "metadata": {},
     "output_type": "execute_result"
    }
   ],
   "source": [
    "446*19.9"
   ]
  },
  {
   "cell_type": "code",
   "execution_count": 36,
   "metadata": {},
   "outputs": [
    {
     "name": "stdout",
     "output_type": "stream",
     "text": [
      "0.226209354509\n",
      "0.204682688269\n",
      "0.18520455517\n",
      "0.167580011509\n",
      "0.151632664928\n",
      "0.137202909024\n",
      "0.124146325948\n",
      "0.112332241029\n",
      "0.101642414935\n"
     ]
    }
   ],
   "source": [
    "for i in range(1, 10):\n",
    "    wsp_m = 0.25/np.exp(i/10)\n",
    "    print(wsp_m)"
   ]
  },
  {
   "cell_type": "code",
   "execution_count": 73,
   "metadata": {
    "collapsed": true
   },
   "outputs": [],
   "source": [
    "y = list(range(1,10))\n",
    "wsp_m = []\n",
    "em = []\n",
    "y2 = []\n",
    "for i in range(1, 10):\n",
    "    y2.append(i/10) \n",
    "    em.append(np.exp(i/10))\n",
    "    wsp_m.append(0.25/np.exp(i/20))\n",
    "\n"
   ]
  },
  {
   "cell_type": "code",
   "execution_count": 74,
   "metadata": {},
   "outputs": [
    {
     "data": {
      "text/plain": [
       "<matplotlib.text.Text at 0x1e0a715c668>"
      ]
     },
     "execution_count": 74,
     "metadata": {},
     "output_type": "execute_result"
    },
    {
     "data": {
      "image/png": "[encoded data removed]",
      "text/plain": [
       "<matplotlib.figure.Figure at 0x1e0a7124438>"
      ]
     },
     "metadata": {},
     "output_type": "display_data"
    }
   ],
   "source": [
    "plt.plot(y2, em)\n",
    "plt.xlabel('Liczba iteracji')\n",
    "plt.ylabel('Współczynnik mutacji')"
   ]
  },
  {
   "cell_type": "code",
   "execution_count": null,
   "metadata": {
    "collapsed": true
   },
   "outputs": [],
   "source": []
  }
 ],
 "metadata": {
  "kernelspec": {
   "display_name": "Python 3",
   "language": "python",
   "name": "python3"
  },
  "language_info": {
   "codemirror_mode": {
    "name": "ipython",
    "version": 3
   },
   "file_extension": ".py",
   "mimetype": "text/x-python",
   "name": "python",
   "nbconvert_exporter": "python",
   "pygments_lexer": "ipython3",
   "version": "3.7.2"
  }
 },
 "nbformat": 4,
 "nbformat_minor": 2
}
